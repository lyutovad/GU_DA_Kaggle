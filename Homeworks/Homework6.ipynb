{
 "cells": [
  {
   "cell_type": "code",
   "execution_count": 1,
   "metadata": {},
   "outputs": [],
   "source": [
    "import warnings\n",
    "warnings.simplefilter(\"ignore\")\n",
    "\n",
    "import pandas as pd\n",
    "import numpy as np\n",
    "\n",
    "import catboost as cb\n",
    "\n",
    "from sklearn.metrics import f1_score, roc_auc_score\n",
    "from sklearn.model_selection import train_test_split\n",
    "\n",
    "import datetime\n",
    "from datetime import datetime, date\n",
    "\n",
    "import matplotlib.pyplot as plt\n",
    "import seaborn as sns\n",
    "sns.set()\n",
    "%matplotlib inline"
   ]
  },
  {
   "cell_type": "code",
   "execution_count": 2,
   "metadata": {},
   "outputs": [],
   "source": [
    "data = pd.read_csv('preprocessed_data.csv')\n",
    "df_train = pd.read_csv('assignment_2_train.csv')"
   ]
  },
  {
   "cell_type": "code",
   "execution_count": 3,
   "metadata": {},
   "outputs": [
    {
     "data": {
      "text/html": [
       "<div>\n",
       "<style scoped>\n",
       "    .dataframe tbody tr th:only-of-type {\n",
       "        vertical-align: middle;\n",
       "    }\n",
       "\n",
       "    .dataframe tbody tr th {\n",
       "        vertical-align: top;\n",
       "    }\n",
       "\n",
       "    .dataframe thead th {\n",
       "        text-align: right;\n",
       "    }\n",
       "</style>\n",
       "<table border=\"1\" class=\"dataframe\">\n",
       "  <thead>\n",
       "    <tr style=\"text-align: right;\">\n",
       "      <th></th>\n",
       "      <th>TransactionAmt</th>\n",
       "      <th>ProductCD</th>\n",
       "      <th>card1</th>\n",
       "      <th>card2</th>\n",
       "      <th>card3</th>\n",
       "      <th>card4</th>\n",
       "      <th>card5</th>\n",
       "      <th>card6</th>\n",
       "      <th>addr1</th>\n",
       "      <th>addr2</th>\n",
       "      <th>...</th>\n",
       "      <th>card5_transform</th>\n",
       "      <th>card6_transform</th>\n",
       "      <th>addr1_transform</th>\n",
       "      <th>addr2_transform</th>\n",
       "      <th>card1_card2_transform</th>\n",
       "      <th>card1_card2_card3_card5_transform</th>\n",
       "      <th>card1_card2_card3_card5_addr1_addr2_transform</th>\n",
       "      <th>TransactionAmt_integer</th>\n",
       "      <th>TransactionAmt_fractional</th>\n",
       "      <th>TransactionAmt_log</th>\n",
       "    </tr>\n",
       "  </thead>\n",
       "  <tbody>\n",
       "    <tr>\n",
       "      <th>0</th>\n",
       "      <td>68.5</td>\n",
       "      <td>W</td>\n",
       "      <td>13926</td>\n",
       "      <td>NaN</td>\n",
       "      <td>150.0</td>\n",
       "      <td>discover</td>\n",
       "      <td>142.0</td>\n",
       "      <td>credit</td>\n",
       "      <td>315.0</td>\n",
       "      <td>87.0</td>\n",
       "      <td>...</td>\n",
       "      <td>142.176613</td>\n",
       "      <td>171.249895</td>\n",
       "      <td>194.069187</td>\n",
       "      <td>186.33749</td>\n",
       "      <td>0.577350</td>\n",
       "      <td>0.577350</td>\n",
       "      <td>NaN</td>\n",
       "      <td>68</td>\n",
       "      <td>0.5</td>\n",
       "      <td>4.226834</td>\n",
       "    </tr>\n",
       "    <tr>\n",
       "      <th>1</th>\n",
       "      <td>29.0</td>\n",
       "      <td>W</td>\n",
       "      <td>2755</td>\n",
       "      <td>404.0</td>\n",
       "      <td>150.0</td>\n",
       "      <td>mastercard</td>\n",
       "      <td>102.0</td>\n",
       "      <td>credit</td>\n",
       "      <td>325.0</td>\n",
       "      <td>87.0</td>\n",
       "      <td>...</td>\n",
       "      <td>171.390409</td>\n",
       "      <td>171.249895</td>\n",
       "      <td>194.440057</td>\n",
       "      <td>186.33749</td>\n",
       "      <td>177.751006</td>\n",
       "      <td>177.751006</td>\n",
       "      <td>123.056897</td>\n",
       "      <td>29</td>\n",
       "      <td>0.0</td>\n",
       "      <td>3.367296</td>\n",
       "    </tr>\n",
       "  </tbody>\n",
       "</table>\n",
       "<p>2 rows × 419 columns</p>\n",
       "</div>"
      ],
      "text/plain": [
       "   TransactionAmt ProductCD  card1  card2  card3       card4  card5   card6  \\\n",
       "0            68.5         W  13926    NaN  150.0    discover  142.0  credit   \n",
       "1            29.0         W   2755  404.0  150.0  mastercard  102.0  credit   \n",
       "\n",
       "   addr1  addr2  ...  card5_transform  card6_transform addr1_transform  \\\n",
       "0  315.0   87.0  ...       142.176613       171.249895      194.069187   \n",
       "1  325.0   87.0  ...       171.390409       171.249895      194.440057   \n",
       "\n",
       "  addr2_transform  card1_card2_transform  card1_card2_card3_card5_transform  \\\n",
       "0       186.33749               0.577350                           0.577350   \n",
       "1       186.33749             177.751006                         177.751006   \n",
       "\n",
       "   card1_card2_card3_card5_addr1_addr2_transform  TransactionAmt_integer  \\\n",
       "0                                            NaN                      68   \n",
       "1                                     123.056897                      29   \n",
       "\n",
       "   TransactionAmt_fractional  TransactionAmt_log  \n",
       "0                        0.5            4.226834  \n",
       "1                        0.0            3.367296  \n",
       "\n",
       "[2 rows x 419 columns]"
      ]
     },
     "execution_count": 3,
     "metadata": {},
     "output_type": "execute_result"
    }
   ],
   "source": [
    "data.head(2)"
   ]
  },
  {
   "cell_type": "code",
   "execution_count": 4,
   "metadata": {},
   "outputs": [
    {
     "data": {
      "text/plain": [
       "(180000, 419)"
      ]
     },
     "execution_count": 4,
     "metadata": {},
     "output_type": "execute_result"
    }
   ],
   "source": [
    "data.shape"
   ]
  },
  {
   "cell_type": "code",
   "execution_count": 5,
   "metadata": {},
   "outputs": [],
   "source": [
    "target = df_train['isFraud']"
   ]
  },
  {
   "cell_type": "markdown",
   "metadata": {},
   "source": [
    "**Задание 0:** выбрать любимую модель и схему валидации решения, зафиксировать базовое качество модели."
   ]
  },
  {
   "cell_type": "code",
   "execution_count": 6,
   "metadata": {},
   "outputs": [
    {
     "name": "stdout",
     "output_type": "stream",
     "text": [
      "Всего категориальных признаков 17\n"
     ]
    }
   ],
   "source": [
    "categorical_features = data.select_dtypes(include=[np.object])\n",
    "print(f'Всего категориальных признаков {categorical_features.shape[1]}')\n",
    "# categorical_features = categorical_features.columns.tolist()"
   ]
  },
  {
   "cell_type": "code",
   "execution_count": 7,
   "metadata": {},
   "outputs": [],
   "source": [
    "for col in categorical_features:\n",
    "    data[col] = data[col].astype(str)"
   ]
  },
  {
   "cell_type": "code",
   "execution_count": 8,
   "metadata": {},
   "outputs": [],
   "source": [
    "x_train, x_valid, y_train, y_valid = train_test_split(\n",
    "    data, target, train_size=0.7, shuffle=True, random_state=1,\n",
    ")"
   ]
  },
  {
   "cell_type": "code",
   "execution_count": 9,
   "metadata": {},
   "outputs": [],
   "source": [
    "train_pool = cb.Pool(x_train, y_train, cat_features=categorical_features)\n",
    "valid_pool = cb.Pool(x_valid, y_valid, cat_features=categorical_features)"
   ]
  },
  {
   "cell_type": "code",
   "execution_count": 10,
   "metadata": {},
   "outputs": [
    {
     "name": "stdout",
     "output_type": "stream",
     "text": [
      "0:\ttest: 0.5001379\ttest1: 0.5000000\tbest: 0.5000000 (0)\ttotal: 174ms\tremaining: 2m 53s\n",
      "100:\ttest: 0.9569761\ttest1: 0.9109803\tbest: 0.9109803 (100)\ttotal: 29.2s\tremaining: 4m 19s\n",
      "200:\ttest: 0.9728111\ttest1: 0.9249282\tbest: 0.9249939 (199)\ttotal: 59.2s\tremaining: 3m 55s\n",
      "300:\ttest: 0.9777191\ttest1: 0.9308089\tbest: 0.9308089 (300)\ttotal: 1m 29s\tremaining: 3m 26s\n",
      "400:\ttest: 0.9791938\ttest1: 0.9333409\tbest: 0.9333409 (400)\ttotal: 1m 58s\tremaining: 2m 56s\n",
      "500:\ttest: 0.9801371\ttest1: 0.9355827\tbest: 0.9356290 (496)\ttotal: 2m 28s\tremaining: 2m 27s\n",
      "600:\ttest: 0.9811286\ttest1: 0.9365814\tbest: 0.9365815 (598)\ttotal: 2m 58s\tremaining: 1m 58s\n",
      "700:\ttest: 0.9811808\ttest1: 0.9366084\tbest: 0.9366117 (618)\ttotal: 3m 26s\tremaining: 1m 27s\n",
      "800:\ttest: 0.9812225\ttest1: 0.9366115\tbest: 0.9366488 (763)\ttotal: 3m 53s\tremaining: 58.1s\n",
      "Stopped by overfitting detector  (100 iterations wait)\n",
      "\n",
      "bestTest = 0.9366487611\n",
      "bestIteration = 763\n",
      "\n",
      "Shrink model to first 764 iterations.\n"
     ]
    }
   ],
   "source": [
    "cb_params = {\n",
    "#     \"n_estimators\": 3000,\n",
    "    \"loss_function\": \"Logloss\",\n",
    "    \"eval_metric\": \"AUC\",\n",
    "    \"task_type\": \"CPU\",\n",
    "    \"max_bin\": 20,\n",
    "    \"verbose\": 100,\n",
    "    \"max_depth\": 6,\n",
    "    \"l2_leaf_reg\": 100,\n",
    "    \"early_stopping_rounds\": 100,\n",
    "    \"thread_count\": 6,\n",
    "    \"random_seed\": 42,\n",
    "    \"cat_features\":categorical_features\n",
    "}\n",
    "\n",
    "model = cb.CatBoostClassifier(**cb_params)\n",
    "fit_model = model.fit(train_pool, eval_set=[(train_pool), (valid_pool)])"
   ]
  },
  {
   "cell_type": "markdown",
   "metadata": {},
   "source": [
    "**Задание 1:** использовать внутренний способ для оценки важности признаков алгоритма, вывести его в виде диаграммы."
   ]
  },
  {
   "cell_type": "code",
   "execution_count": 11,
   "metadata": {},
   "outputs": [],
   "source": [
    "feature_importances = model.get_feature_importance(data=train_pool,\n",
    "                       prettified=False,\n",
    "                       thread_count=-1,\n",
    "                       verbose=False)"
   ]
  },
  {
   "cell_type": "code",
   "execution_count": 12,
   "metadata": {},
   "outputs": [],
   "source": [
    "# feature_importances = fit_model.feature_importances_"
   ]
  },
  {
   "cell_type": "code",
   "execution_count": 13,
   "metadata": {},
   "outputs": [],
   "source": [
    "feature_importances_flatten = []\n",
    "for i in range(len(feature_importances)):\n",
    "    col = (data.columns[i], feature_importances[i])\n",
    "    feature_importances_flatten.append(col)\n",
    "feat_importances = pd.DataFrame(feature_importances_flatten, columns=['feature','importance'])\n",
    "\n",
    "feat_importances = feat_importances.sort_values(by='importance', ascending=False)"
   ]
  },
  {
   "cell_type": "code",
   "execution_count": 14,
   "metadata": {},
   "outputs": [
    {
     "data": {
      "text/plain": [
       "Text(0.5, 1.0, 'Feature Importances')"
      ]
     },
     "execution_count": 14,
     "metadata": {},
     "output_type": "execute_result"
    },
    {
     "data": {
      "image/png": "[encoded data removed]",
      "text/plain": [
       "<Figure size 1152x1152 with 1 Axes>"
      ]
     },
     "metadata": {
      "needs_background": "light"
     },
     "output_type": "display_data"
    }
   ],
   "source": [
    "plt.figure(figsize=(16, 16))\n",
    "sns.barplot(data=feat_importances[:30], x='importance', y='feature')\n",
    "plt.title('Feature Importances')"
   ]
  },
  {
   "cell_type": "markdown",
   "metadata": {},
   "source": [
    "**Задание 2:** удалить признаки с нулевой или маленькой важностью, переобучить модель и оценить изменение качества."
   ]
  },
  {
   "cell_type": "code",
   "execution_count": 15,
   "metadata": {},
   "outputs": [],
   "source": [
    "features_to_drop = feat_importances.loc[feat_importances['importance']<0.1, 'feature'].tolist()"
   ]
  },
  {
   "cell_type": "code",
   "execution_count": 16,
   "metadata": {},
   "outputs": [],
   "source": [
    "x_train.drop(features_to_drop, axis=1, inplace=True)\n",
    "x_valid.drop(features_to_drop, axis=1, inplace=True)"
   ]
  },
  {
   "cell_type": "code",
   "execution_count": 17,
   "metadata": {},
   "outputs": [
    {
     "name": "stdout",
     "output_type": "stream",
     "text": [
      "Всего категориальных признаков 11\n"
     ]
    }
   ],
   "source": [
    "categorical_features = x_train.select_dtypes(include=[np.object])\n",
    "print(f'Всего категориальных признаков {categorical_features.shape[1]}')\n",
    "# categorical_features = categorical_features.columns.tolist()"
   ]
  },
  {
   "cell_type": "code",
   "execution_count": 18,
   "metadata": {},
   "outputs": [],
   "source": [
    "train_pool = cb.Pool(x_train, y_train, cat_features=categorical_features)\n",
    "valid_pool = cb.Pool(x_valid, y_valid, cat_features=categorical_features)"
   ]
  },
  {
   "cell_type": "code",
   "execution_count": 19,
   "metadata": {},
   "outputs": [],
   "source": [
    "cb_params = {\n",
    "#     \"n_estimators\": 3000,\n",
    "    \"loss_function\": \"Logloss\",\n",
    "    \"eval_metric\": \"AUC\",\n",
    "    \"task_type\": \"CPU\",\n",
    "    \"max_bin\": 20,\n",
    "    \"verbose\": 100,\n",
    "    \"max_depth\": 6,\n",
    "    \"l2_leaf_reg\": 100,\n",
    "    \"early_stopping_rounds\": 100,\n",
    "    \"thread_count\": 6,\n",
    "    \"random_seed\": 42,\n",
    "    \"cat_features\":categorical_features\n",
    "}\n"
   ]
  },
  {
   "cell_type": "code",
   "execution_count": 20,
   "metadata": {},
   "outputs": [
    {
     "name": "stdout",
     "output_type": "stream",
     "text": [
      "0:\ttest: 0.7318274\ttest1: 0.7303628\tbest: 0.7303628 (0)\ttotal: 202ms\tremaining: 3m 22s\n",
      "100:\ttest: 0.9551051\ttest1: 0.9113866\tbest: 0.9114099 (98)\ttotal: 17.2s\tremaining: 2m 32s\n",
      "200:\ttest: 0.9678005\ttest1: 0.9235955\tbest: 0.9236404 (199)\ttotal: 36.1s\tremaining: 2m 23s\n",
      "300:\ttest: 0.9733932\ttest1: 0.9309982\tbest: 0.9309983 (299)\ttotal: 55.6s\tremaining: 2m 9s\n",
      "400:\ttest: 0.9759859\ttest1: 0.9339791\tbest: 0.9339791 (400)\ttotal: 1m 15s\tremaining: 1m 53s\n",
      "500:\ttest: 0.9785972\ttest1: 0.9365580\tbest: 0.9365582 (499)\ttotal: 1m 34s\tremaining: 1m 34s\n",
      "600:\ttest: 0.9787368\ttest1: 0.9366226\tbest: 0.9366473 (583)\ttotal: 1m 52s\tremaining: 1m 14s\n",
      "700:\ttest: 0.9788225\ttest1: 0.9366864\tbest: 0.9366864 (697)\ttotal: 2m 10s\tremaining: 55.6s\n",
      "800:\ttest: 0.9791082\ttest1: 0.9368673\tbest: 0.9368674 (795)\ttotal: 2m 27s\tremaining: 36.7s\n",
      "900:\ttest: 0.9791902\ttest1: 0.9369257\tbest: 0.9369280 (893)\ttotal: 2m 45s\tremaining: 18.1s\n",
      "999:\ttest: 0.9792393\ttest1: 0.9369712\tbest: 0.9369717 (993)\ttotal: 3m 1s\tremaining: 0us\n",
      "\n",
      "bestTest = 0.9369717268\n",
      "bestIteration = 993\n",
      "\n",
      "Shrink model to first 994 iterations.\n"
     ]
    }
   ],
   "source": [
    "model = cb.CatBoostClassifier(**cb_params)\n",
    "fit_model = model.fit(train_pool, eval_set=[(train_pool), (valid_pool)])"
   ]
  },
  {
   "cell_type": "markdown",
   "metadata": {},
   "source": [
    "**Вывод** модель улучшена на 0,0003 на валидации"
   ]
  },
  {
   "cell_type": "markdown",
   "metadata": {},
   "source": [
    "**Задание 3:** использовать permutation importance, выполнить задание 1 и 2."
   ]
  },
  {
   "cell_type": "code",
   "execution_count": 21,
   "metadata": {},
   "outputs": [],
   "source": [
    "from sklearn.inspection import permutation_importance\n",
    "\n",
    "importance = permutation_importance(\n",
    "    model, x_valid, y_valid, scoring=\"roc_auc\", n_jobs=6, random_state=27\n",
    ")"
   ]
  },
  {
   "cell_type": "code",
   "execution_count": 22,
   "metadata": {},
   "outputs": [],
   "source": [
    "importance_scores = pd.DataFrame({\n",
    "    \"features\": x_valid.columns,\n",
    "    \"importance-mean\": importance.importances_mean,\n",
    "    \"importance-std\": importance.importances_std,\n",
    "})\n",
    "importance_scores = importance_scores.sort_values(\n",
    "    by=\"importance-mean\", ascending=False\n",
    ")\n",
    "importance_scores = importance_scores.reset_index(drop=True)\n",
    "decrease_scores = importance_scores[importance_scores[\"importance-mean\"]<=0]\n",
    "decrease_scores = decrease_scores.reset_index(drop=True)"
   ]
  },
  {
   "cell_type": "code",
   "execution_count": 23,
   "metadata": {},
   "outputs": [],
   "source": [
    "to_drop = decrease_scores['features'].tolist()"
   ]
  },
  {
   "cell_type": "code",
   "execution_count": 24,
   "metadata": {},
   "outputs": [],
   "source": [
    "x_train.drop(to_drop, axis=1, inplace=True)\n",
    "x_valid.drop(to_drop, axis=1, inplace=True)"
   ]
  },
  {
   "cell_type": "code",
   "execution_count": 25,
   "metadata": {},
   "outputs": [
    {
     "name": "stdout",
     "output_type": "stream",
     "text": [
      "Всего категориальных признаков 9\n"
     ]
    }
   ],
   "source": [
    "categorical_features = x_train.select_dtypes(include=[np.object])\n",
    "print(f'Всего категориальных признаков {categorical_features.shape[1]}')\n",
    "# categorical_features = categorical_features.columns.tolist()"
   ]
  },
  {
   "cell_type": "code",
   "execution_count": 26,
   "metadata": {},
   "outputs": [],
   "source": [
    "train_pool = cb.Pool(x_train, y_train, cat_features=categorical_features)\n",
    "valid_pool = cb.Pool(x_valid, y_valid, cat_features=categorical_features)"
   ]
  },
  {
   "cell_type": "code",
   "execution_count": 27,
   "metadata": {},
   "outputs": [],
   "source": [
    "cb_params = {\n",
    "#     \"n_estimators\": 3000,\n",
    "    \"loss_function\": \"Logloss\",\n",
    "    \"eval_metric\": \"AUC\",\n",
    "    \"task_type\": \"CPU\",\n",
    "    \"max_bin\": 20,\n",
    "    \"verbose\": 100,\n",
    "    \"max_depth\": 6,\n",
    "    \"l2_leaf_reg\": 100,\n",
    "    \"early_stopping_rounds\": 100,\n",
    "    \"thread_count\": 6,\n",
    "    \"random_seed\": 42,\n",
    "    \"cat_features\":categorical_features\n",
    "}\n"
   ]
  },
  {
   "cell_type": "code",
   "execution_count": 28,
   "metadata": {},
   "outputs": [
    {
     "name": "stdout",
     "output_type": "stream",
     "text": [
      "0:\ttest: 0.6834921\ttest1: 0.6871362\tbest: 0.6871362 (0)\ttotal: 187ms\tremaining: 3m 6s\n",
      "100:\ttest: 0.9581709\ttest1: 0.9145415\tbest: 0.9145415 (100)\ttotal: 14.9s\tremaining: 2m 12s\n",
      "200:\ttest: 0.9719957\ttest1: 0.9254728\tbest: 0.9254728 (200)\ttotal: 31.7s\tremaining: 2m 6s\n",
      "300:\ttest: 0.9786231\ttest1: 0.9334721\tbest: 0.9334721 (300)\ttotal: 48.9s\tremaining: 1m 53s\n",
      "400:\ttest: 0.9811388\ttest1: 0.9380921\tbest: 0.9380921 (400)\ttotal: 1m 5s\tremaining: 1m 37s\n",
      "500:\ttest: 0.9813483\ttest1: 0.9385749\tbest: 0.9385805 (462)\ttotal: 1m 20s\tremaining: 1m 20s\n",
      "Stopped by overfitting detector  (100 iterations wait)\n",
      "\n",
      "bestTest = 0.9385805167\n",
      "bestIteration = 462\n",
      "\n",
      "Shrink model to first 463 iterations.\n"
     ]
    }
   ],
   "source": [
    "model = cb.CatBoostClassifier(**cb_params)\n",
    "fit_model = model.fit(train_pool, eval_set=[(train_pool), (valid_pool)])"
   ]
  },
  {
   "cell_type": "markdown",
   "metadata": {},
   "source": [
    "**Вывод** Достигнуто улучшение модели на валидационном наборе в 0,002"
   ]
  },
  {
   "cell_type": "markdown",
   "metadata": {},
   "source": [
    "**Задание 5:** использовать shap, выполнить задание 1 и 2."
   ]
  },
  {
   "cell_type": "code",
   "execution_count": 29,
   "metadata": {},
   "outputs": [],
   "source": [
    "import shap"
   ]
  },
  {
   "cell_type": "code",
   "execution_count": 30,
   "metadata": {},
   "outputs": [
    {
     "name": "stdout",
     "output_type": "stream",
     "text": [
      "0:\ttest: 0.6834921\ttest1: 0.6871362\tbest: 0.6871362 (0)\ttotal: 189ms\tremaining: 3m 8s\n",
      "100:\ttest: 0.9581709\ttest1: 0.9145415\tbest: 0.9145415 (100)\ttotal: 15.1s\tremaining: 2m 14s\n",
      "200:\ttest: 0.9719957\ttest1: 0.9254728\tbest: 0.9254728 (200)\ttotal: 31.8s\tremaining: 2m 6s\n",
      "300:\ttest: 0.9786231\ttest1: 0.9334721\tbest: 0.9334721 (300)\ttotal: 49.1s\tremaining: 1m 53s\n",
      "400:\ttest: 0.9811388\ttest1: 0.9380921\tbest: 0.9380921 (400)\ttotal: 1m 5s\tremaining: 1m 38s\n",
      "500:\ttest: 0.9813483\ttest1: 0.9385749\tbest: 0.9385805 (462)\ttotal: 1m 21s\tremaining: 1m 20s\n",
      "Stopped by overfitting detector  (100 iterations wait)\n",
      "\n",
      "bestTest = 0.9385805167\n",
      "bestIteration = 462\n",
      "\n",
      "Shrink model to first 463 iterations.\n"
     ]
    }
   ],
   "source": [
    "model = cb.CatBoostClassifier(**cb_params)\n",
    "fit_model = model.fit(x_train, y_train, eval_set=[(x_train, y_train), (x_valid, y_valid)])"
   ]
  },
  {
   "cell_type": "code",
   "execution_count": 31,
   "metadata": {},
   "outputs": [],
   "source": [
    "explainer = shap.TreeExplainer(model)\n",
    "shap_values = explainer.shap_values(x_valid, y_valid)"
   ]
  },
  {
   "cell_type": "code",
   "execution_count": 32,
   "metadata": {},
   "outputs": [
    {
     "data": {
      "image/png": "[encoded data removed]",
      "text/plain": [
       "<Figure size 576x684 with 2 Axes>"
      ]
     },
     "metadata": {
      "needs_background": "light"
     },
     "output_type": "display_data"
    }
   ],
   "source": [
    "shap.summary_plot(shap_values, x_valid, max_display=20)"
   ]
  },
  {
   "cell_type": "code",
   "execution_count": 33,
   "metadata": {},
   "outputs": [
    {
     "data": {
      "text/html": [
       "<div>\n",
       "<style scoped>\n",
       "    .dataframe tbody tr th:only-of-type {\n",
       "        vertical-align: middle;\n",
       "    }\n",
       "\n",
       "    .dataframe tbody tr th {\n",
       "        vertical-align: top;\n",
       "    }\n",
       "\n",
       "    .dataframe thead th {\n",
       "        text-align: right;\n",
       "    }\n",
       "</style>\n",
       "<table border=\"1\" class=\"dataframe\">\n",
       "  <thead>\n",
       "    <tr style=\"text-align: right;\">\n",
       "      <th></th>\n",
       "      <th>feature</th>\n",
       "      <th>shap_values</th>\n",
       "    </tr>\n",
       "  </thead>\n",
       "  <tbody>\n",
       "    <tr>\n",
       "      <th>82</th>\n",
       "      <td>card1_card2_card3_card5_addr1_addr2</td>\n",
       "      <td>0.175425</td>\n",
       "    </tr>\n",
       "    <tr>\n",
       "      <th>12</th>\n",
       "      <td>C13</td>\n",
       "      <td>0.148940</td>\n",
       "    </tr>\n",
       "    <tr>\n",
       "      <th>10</th>\n",
       "      <td>C11</td>\n",
       "      <td>0.148398</td>\n",
       "    </tr>\n",
       "    <tr>\n",
       "      <th>7</th>\n",
       "      <td>C1</td>\n",
       "      <td>0.144844</td>\n",
       "    </tr>\n",
       "    <tr>\n",
       "      <th>23</th>\n",
       "      <td>M5</td>\n",
       "      <td>0.142153</td>\n",
       "    </tr>\n",
       "    <tr>\n",
       "      <th>5</th>\n",
       "      <td>P_emaildomain</td>\n",
       "      <td>0.096180</td>\n",
       "    </tr>\n",
       "    <tr>\n",
       "      <th>13</th>\n",
       "      <td>C14</td>\n",
       "      <td>0.090448</td>\n",
       "    </tr>\n",
       "    <tr>\n",
       "      <th>81</th>\n",
       "      <td>card1_card2_card3_card5</td>\n",
       "      <td>0.079464</td>\n",
       "    </tr>\n",
       "    <tr>\n",
       "      <th>85</th>\n",
       "      <td>TransactionAmt_integer</td>\n",
       "      <td>0.078864</td>\n",
       "    </tr>\n",
       "    <tr>\n",
       "      <th>1</th>\n",
       "      <td>ProductCD</td>\n",
       "      <td>0.063214</td>\n",
       "    </tr>\n",
       "    <tr>\n",
       "      <th>6</th>\n",
       "      <td>R_emaildomain</td>\n",
       "      <td>0.059977</td>\n",
       "    </tr>\n",
       "    <tr>\n",
       "      <th>22</th>\n",
       "      <td>M4</td>\n",
       "      <td>0.048698</td>\n",
       "    </tr>\n",
       "    <tr>\n",
       "      <th>42</th>\n",
       "      <td>V70</td>\n",
       "      <td>0.045633</td>\n",
       "    </tr>\n",
       "    <tr>\n",
       "      <th>0</th>\n",
       "      <td>TransactionAmt</td>\n",
       "      <td>0.040744</td>\n",
       "    </tr>\n",
       "    <tr>\n",
       "      <th>76</th>\n",
       "      <td>V308</td>\n",
       "      <td>0.037318</td>\n",
       "    </tr>\n",
       "    <tr>\n",
       "      <th>87</th>\n",
       "      <td>TransactionAmt_log</td>\n",
       "      <td>0.036576</td>\n",
       "    </tr>\n",
       "    <tr>\n",
       "      <th>16</th>\n",
       "      <td>D4</td>\n",
       "      <td>0.034722</td>\n",
       "    </tr>\n",
       "    <tr>\n",
       "      <th>53</th>\n",
       "      <td>V143</td>\n",
       "      <td>0.028821</td>\n",
       "    </tr>\n",
       "    <tr>\n",
       "      <th>17</th>\n",
       "      <td>D8</td>\n",
       "      <td>0.026826</td>\n",
       "    </tr>\n",
       "    <tr>\n",
       "      <th>8</th>\n",
       "      <td>C6</td>\n",
       "      <td>0.024228</td>\n",
       "    </tr>\n",
       "  </tbody>\n",
       "</table>\n",
       "</div>"
      ],
      "text/plain": [
       "                                feature  shap_values\n",
       "82  card1_card2_card3_card5_addr1_addr2     0.175425\n",
       "12                                  C13     0.148940\n",
       "10                                  C11     0.148398\n",
       "7                                    C1     0.144844\n",
       "23                                   M5     0.142153\n",
       "5                         P_emaildomain     0.096180\n",
       "13                                  C14     0.090448\n",
       "81              card1_card2_card3_card5     0.079464\n",
       "85               TransactionAmt_integer     0.078864\n",
       "1                             ProductCD     0.063214\n",
       "6                         R_emaildomain     0.059977\n",
       "22                                   M4     0.048698\n",
       "42                                  V70     0.045633\n",
       "0                        TransactionAmt     0.040744\n",
       "76                                 V308     0.037318\n",
       "87                   TransactionAmt_log     0.036576\n",
       "16                                   D4     0.034722\n",
       "53                                 V143     0.028821\n",
       "17                                   D8     0.026826\n",
       "8                                    C6     0.024228"
      ]
     },
     "execution_count": 33,
     "metadata": {},
     "output_type": "execute_result"
    }
   ],
   "source": [
    "shap_feature_importance = pd.DataFrame(list(zip(x_valid.columns, np.abs(shap_values).mean(0))),columns=['feature','shap_values'])\n",
    "shap_feature_importance.sort_values(by=['shap_values'],ascending=False,inplace=True)\n",
    "\n",
    "shap_feature_importance.head(20)"
   ]
  },
  {
   "cell_type": "code",
   "execution_count": 39,
   "metadata": {},
   "outputs": [],
   "source": [
    "features_to_drop = shap_feature_importance[50:]"
   ]
  },
  {
   "cell_type": "code",
   "execution_count": 38,
   "metadata": {},
   "outputs": [],
   "source": [
    "to_drop = features_to_drop['feature'].tolist()"
   ]
  },
  {
   "cell_type": "code",
   "execution_count": 36,
   "metadata": {},
   "outputs": [],
   "source": [
    "x_train.drop(to_drop, axis=1, inplace=True)\n",
    "\n",
    "x_valid.drop(to_drop, axis=1, inplace=True)"
   ]
  },
  {
   "cell_type": "code",
   "execution_count": 40,
   "metadata": {},
   "outputs": [
    {
     "name": "stdout",
     "output_type": "stream",
     "text": [
      "Всего категориальных признаков 8\n"
     ]
    }
   ],
   "source": [
    "categorical_features = x_train.select_dtypes(include=[np.object])\n",
    "print(f'Всего категориальных признаков {categorical_features.shape[1]}')\n",
    "# categorical_features = categorical_features.columns.tolist()"
   ]
  },
  {
   "cell_type": "code",
   "execution_count": 41,
   "metadata": {},
   "outputs": [],
   "source": [
    "train_pool = cb.Pool(x_train, y_train, cat_features=categorical_features)\n",
    "valid_pool = cb.Pool(x_valid, y_valid, cat_features=categorical_features)"
   ]
  },
  {
   "cell_type": "code",
   "execution_count": 42,
   "metadata": {},
   "outputs": [],
   "source": [
    "cb_params = {\n",
    "#     \"n_estimators\": 3000,\n",
    "    \"loss_function\": \"Logloss\",\n",
    "    \"eval_metric\": \"AUC\",\n",
    "    \"task_type\": \"CPU\",\n",
    "    \"max_bin\": 20,\n",
    "    \"verbose\": 100,\n",
    "    \"max_depth\": 6,\n",
    "    \"l2_leaf_reg\": 100,\n",
    "    \"early_stopping_rounds\": 100,\n",
    "    \"thread_count\": 6,\n",
    "    \"random_seed\": 42,\n",
    "    \"cat_features\":categorical_features\n",
    "}\n"
   ]
  },
  {
   "cell_type": "code",
   "execution_count": 43,
   "metadata": {},
   "outputs": [
    {
     "name": "stdout",
     "output_type": "stream",
     "text": [
      "0:\ttest: 0.6181467\ttest1: 0.6201661\tbest: 0.6201661 (0)\ttotal: 69.5ms\tremaining: 1m 9s\n",
      "100:\ttest: 0.9601639\ttest1: 0.9147689\tbest: 0.9147689 (100)\ttotal: 12.9s\tremaining: 1m 54s\n",
      "200:\ttest: 0.9759999\ttest1: 0.9296254\tbest: 0.9296254 (200)\ttotal: 27.8s\tremaining: 1m 50s\n",
      "300:\ttest: 0.9794595\ttest1: 0.9357764\tbest: 0.9357764 (300)\ttotal: 43.4s\tremaining: 1m 40s\n",
      "400:\ttest: 0.9812409\ttest1: 0.9389924\tbest: 0.9389924 (400)\ttotal: 59.3s\tremaining: 1m 28s\n",
      "500:\ttest: 0.9819089\ttest1: 0.9402378\tbest: 0.9402463 (498)\ttotal: 1m 13s\tremaining: 1m 12s\n",
      "600:\ttest: 0.9827360\ttest1: 0.9413874\tbest: 0.9413907 (597)\ttotal: 1m 25s\tremaining: 56.7s\n",
      "700:\ttest: 0.9830723\ttest1: 0.9421301\tbest: 0.9421301 (698)\ttotal: 1m 37s\tremaining: 41.6s\n",
      "800:\ttest: 0.9835283\ttest1: 0.9428732\tbest: 0.9428732 (800)\ttotal: 1m 49s\tremaining: 27.2s\n",
      "900:\ttest: 0.9837862\ttest1: 0.9433165\tbest: 0.9433172 (899)\ttotal: 2m 2s\tremaining: 13.4s\n",
      "999:\ttest: 0.9839206\ttest1: 0.9437121\tbest: 0.9437158 (980)\ttotal: 2m 12s\tremaining: 0us\n",
      "\n",
      "bestTest = 0.9437158009\n",
      "bestIteration = 980\n",
      "\n",
      "Shrink model to first 981 iterations.\n"
     ]
    }
   ],
   "source": [
    "model = cb.CatBoostClassifier(**cb_params)\n",
    "fit_model = model.fit(train_pool, eval_set=[(train_pool), (valid_pool)])"
   ]
  },
  {
   "cell_type": "markdown",
   "metadata": {},
   "source": [
    "**Вывод** модель улучшена на 0,0052 на валидации"
   ]
  },
  {
   "cell_type": "code",
   "execution_count": null,
   "metadata": {},
   "outputs": [],
   "source": []
  },
  {
   "cell_type": "code",
   "execution_count": null,
   "metadata": {},
   "outputs": [],
   "source": []
  },
  {
   "cell_type": "code",
   "execution_count": null,
   "metadata": {},
   "outputs": [],
   "source": []
  },
  {
   "cell_type": "code",
   "execution_count": null,
   "metadata": {},
   "outputs": [],
   "source": []
  },
  {
   "cell_type": "code",
   "execution_count": null,
   "metadata": {},
   "outputs": [],
   "source": []
  },
  {
   "cell_type": "markdown",
   "metadata": {},
   "source": [
    "**Задание 4:** использовать BoostARoota для отбора признаков (настраивать или нет - на ваше усмотрение), переобучить модель и оценить изменение качества."
   ]
  },
  {
   "cell_type": "code",
   "execution_count": null,
   "metadata": {},
   "outputs": [],
   "source": [
    "from boostaroota import BoostARoota"
   ]
  },
  {
   "cell_type": "code",
   "execution_count": null,
   "metadata": {},
   "outputs": [],
   "source": [
    "def prepare_data(X: pd.DataFrame) -> pd.DataFrame:\n",
    "    \"\"\"\n",
    "    Подготовка набора данных для моделирования.\n",
    "    Категориальные признаки преобразуются с помощью\n",
    "    OneHotEnconding.\n",
    "\n",
    "    Parameters\n",
    "    ----------\n",
    "    X: pandas.core.frame.DataFrame\n",
    "        Матрица признаков.\n",
    "\n",
    "    Returns\n",
    "    -------\n",
    "    X_transformed: pandas.core.frame.DataFrame\n",
    "        Преобразованная матрица признаков.\n",
    "\n",
    "    \"\"\"\n",
    "    categorical = X.dtypes[X.dtypes==\"object\"].index.tolist()\n",
    "\n",
    "    X = pd.get_dummies(X, columns=categorical)\n",
    "    X.columns = [col.lower() for col in X.columns]\n",
    "    \n",
    "    return X"
   ]
  },
  {
   "cell_type": "code",
   "execution_count": null,
   "metadata": {},
   "outputs": [],
   "source": [
    "prepared_data = prepare_data(data)"
   ]
  },
  {
   "cell_type": "code",
   "execution_count": null,
   "metadata": {},
   "outputs": [],
   "source": [
    "x_train, x_valid, y_train, y_valid = train_test_split(\n",
    "    prepared_data, target, train_size=0.7, shuffle=True, random_state=1,\n",
    ")"
   ]
  },
  {
   "cell_type": "code",
   "execution_count": null,
   "metadata": {},
   "outputs": [],
   "source": [
    "br = BoostARoota(metric='auc')\n",
    "br.fit(x_train, y_train)"
   ]
  },
  {
   "cell_type": "code",
   "execution_count": null,
   "metadata": {},
   "outputs": [],
   "source": [
    "br.keep_vars_"
   ]
  },
  {
   "cell_type": "code",
   "execution_count": null,
   "metadata": {},
   "outputs": [],
   "source": [
    "x_train_br = br.transform(x_train)\n",
    "x_valid_br = br.transform(x_valid)\n",
    "\n",
    "dtrain_br = cb.Pool(x_train_br, y_train)\n",
    "dvalid_br = cb.Pool(x_valid_br, y_valid)"
   ]
  },
  {
   "cell_type": "code",
   "execution_count": null,
   "metadata": {},
   "outputs": [],
   "source": [
    "cb_params = {\n",
    "#     \"n_estimators\": 3000,\n",
    "    \"loss_function\": \"Logloss\",\n",
    "    \"eval_metric\": \"AUC\",\n",
    "    \"task_type\": \"CPU\",\n",
    "    \"max_bin\": 20,\n",
    "    \"verbose\": 100,\n",
    "    \"max_depth\": 6,\n",
    "    \"l2_leaf_reg\": 100,\n",
    "    \"early_stopping_rounds\": 100,\n",
    "    \"thread_count\": 6,\n",
    "    \"random_seed\": 42\n",
    "}\n",
    "model = cb.CatBoostClassifier(**cb_params)\n",
    "fit_model = model.fit(dtrain_br, eval_set=[(dtrain_br), (dvalid_br)])"
   ]
  },
  {
   "cell_type": "code",
   "execution_count": null,
   "metadata": {},
   "outputs": [],
   "source": [
    "model_br = xgb.train(\n",
    "    params,\n",
    "    dtrain_br,\n",
    "    num_boost_round=5000,\n",
    "    evals=[(dtrain_br, \"train\"), (dvalid_br, \"valid\")],\n",
    "    early_stopping_rounds=50,\n",
    "    verbose_eval=100\n",
    ")"
   ]
  },
  {
   "cell_type": "code",
   "execution_count": null,
   "metadata": {},
   "outputs": [],
   "source": [
    "old_preds = model.predict(dvalid)\n",
    "new_preds = model_br.predict(dvalid_br)\n",
    "\n",
    "old_score = roc_auc_score(y_valid, old_preds)\n",
    "new_score = roc_auc_score(y_valid, new_preds)\n",
    "print(f\"Base XGBoost score = {round(old_score, 5)}\")\n",
    "print(f\"Base BoostARoota score = {round(new_score, 5)}\")"
   ]
  },
  {
   "cell_type": "code",
   "execution_count": null,
   "metadata": {},
   "outputs": [],
   "source": []
  },
  {
   "cell_type": "code",
   "execution_count": null,
   "metadata": {},
   "outputs": [],
   "source": []
  },
  {
   "cell_type": "code",
   "execution_count": null,
   "metadata": {},
   "outputs": [],
   "source": []
  }
 ],
 "metadata": {
  "kernelspec": {
   "display_name": "Python 3",
   "language": "python",
   "name": "python3"
  },
  "language_info": {
   "codemirror_mode": {
    "name": "ipython",
    "version": 3
   },
   "file_extension": ".py",
   "mimetype": "text/x-python",
   "name": "python",
   "nbconvert_exporter": "python",
   "pygments_lexer": "ipython3",
   "version": "3.7.6"
  }
 },
 "nbformat": 4,
 "nbformat_minor": 4
}
