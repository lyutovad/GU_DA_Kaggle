{
 "cells": [
  {
   "cell_type": "code",
   "execution_count": 1,
   "metadata": {},
   "outputs": [],
   "source": [
    "import warnings\n",
    "from tqdm import tqdm\n",
    "from typing import List, Tuple\n",
    "\n",
    "import numpy as np\n",
    "import pandas as pd\n",
    "\n",
    "import catboost as cb\n",
    "import xgboost as xgb\n",
    "import matplotlib.pyplot as plt\n",
    "import seaborn as sns\n",
    "from scipy.stats import ttest_rel\n",
    "\n",
    "from sklearn.metrics import f1_score, roc_auc_score\n",
    "from sklearn.ensemble import RandomForestRegressor\n",
    "from sklearn.model_selection import KFold, StratifiedKFold, train_test_split, cross_val_score\n",
    "from sklearn.metrics import classification_report, f1_score, precision_score, recall_score\n",
    "warnings.simplefilter(\"ignore\")\n",
    "%matplotlib inline"
   ]
  },
  {
   "cell_type": "code",
   "execution_count": 2,
   "metadata": {},
   "outputs": [
    {
     "name": "stdout",
     "output_type": "stream",
     "text": [
      "gf_train.shape = 180000 rows, 394 cols\n",
      "df_test.shape = 100001 rows, 394 cols\n"
     ]
    },
    {
     "data": {
      "text/html": [
       "<div>\n",
       "<style scoped>\n",
       "    .dataframe tbody tr th:only-of-type {\n",
       "        vertical-align: middle;\n",
       "    }\n",
       "\n",
       "    .dataframe tbody tr th {\n",
       "        vertical-align: top;\n",
       "    }\n",
       "\n",
       "    .dataframe thead th {\n",
       "        text-align: right;\n",
       "    }\n",
       "</style>\n",
       "<table border=\"1\" class=\"dataframe\">\n",
       "  <thead>\n",
       "    <tr style=\"text-align: right;\">\n",
       "      <th></th>\n",
       "      <th>TransactionID</th>\n",
       "      <th>isFraud</th>\n",
       "      <th>TransactionDT</th>\n",
       "      <th>TransactionAmt</th>\n",
       "      <th>ProductCD</th>\n",
       "      <th>card1</th>\n",
       "      <th>card2</th>\n",
       "      <th>card3</th>\n",
       "      <th>card4</th>\n",
       "      <th>card5</th>\n",
       "      <th>...</th>\n",
       "      <th>V330</th>\n",
       "      <th>V331</th>\n",
       "      <th>V332</th>\n",
       "      <th>V333</th>\n",
       "      <th>V334</th>\n",
       "      <th>V335</th>\n",
       "      <th>V336</th>\n",
       "      <th>V337</th>\n",
       "      <th>V338</th>\n",
       "      <th>V339</th>\n",
       "    </tr>\n",
       "  </thead>\n",
       "  <tbody>\n",
       "    <tr>\n",
       "      <th>0</th>\n",
       "      <td>2987000</td>\n",
       "      <td>0</td>\n",
       "      <td>86400</td>\n",
       "      <td>68.5</td>\n",
       "      <td>W</td>\n",
       "      <td>13926</td>\n",
       "      <td>NaN</td>\n",
       "      <td>150.0</td>\n",
       "      <td>discover</td>\n",
       "      <td>142.0</td>\n",
       "      <td>...</td>\n",
       "      <td>NaN</td>\n",
       "      <td>NaN</td>\n",
       "      <td>NaN</td>\n",
       "      <td>NaN</td>\n",
       "      <td>NaN</td>\n",
       "      <td>NaN</td>\n",
       "      <td>NaN</td>\n",
       "      <td>NaN</td>\n",
       "      <td>NaN</td>\n",
       "      <td>NaN</td>\n",
       "    </tr>\n",
       "    <tr>\n",
       "      <th>1</th>\n",
       "      <td>2987001</td>\n",
       "      <td>0</td>\n",
       "      <td>86401</td>\n",
       "      <td>29.0</td>\n",
       "      <td>W</td>\n",
       "      <td>2755</td>\n",
       "      <td>404.0</td>\n",
       "      <td>150.0</td>\n",
       "      <td>mastercard</td>\n",
       "      <td>102.0</td>\n",
       "      <td>...</td>\n",
       "      <td>NaN</td>\n",
       "      <td>NaN</td>\n",
       "      <td>NaN</td>\n",
       "      <td>NaN</td>\n",
       "      <td>NaN</td>\n",
       "      <td>NaN</td>\n",
       "      <td>NaN</td>\n",
       "      <td>NaN</td>\n",
       "      <td>NaN</td>\n",
       "      <td>NaN</td>\n",
       "    </tr>\n",
       "  </tbody>\n",
       "</table>\n",
       "<p>2 rows × 394 columns</p>\n",
       "</div>"
      ],
      "text/plain": [
       "   TransactionID  isFraud  TransactionDT  TransactionAmt ProductCD  card1  \\\n",
       "0        2987000        0          86400            68.5         W  13926   \n",
       "1        2987001        0          86401            29.0         W   2755   \n",
       "\n",
       "   card2  card3       card4  card5  ... V330  V331  V332  V333  V334 V335  \\\n",
       "0    NaN  150.0    discover  142.0  ...  NaN   NaN   NaN   NaN   NaN  NaN   \n",
       "1  404.0  150.0  mastercard  102.0  ...  NaN   NaN   NaN   NaN   NaN  NaN   \n",
       "\n",
       "  V336  V337  V338  V339  \n",
       "0  NaN   NaN   NaN   NaN  \n",
       "1  NaN   NaN   NaN   NaN  \n",
       "\n",
       "[2 rows x 394 columns]"
      ]
     },
     "execution_count": 2,
     "metadata": {},
     "output_type": "execute_result"
    }
   ],
   "source": [
    "train = pd.read_csv('assignment_2_train.csv')\n",
    "test = pd.read_csv('assignment_2_test.csv')\n",
    "\n",
    "print(\"gf_train.shape = {} rows, {} cols\".format(*train.shape))\n",
    "print(\"df_test.shape = {} rows, {} cols\".format(*test.shape))\n",
    "train.head(2)"
   ]
  },
  {
   "cell_type": "markdown",
   "metadata": {},
   "source": [
    "**Задание 1:** сделать Hold-Out валидацию с разбиением, размер которого будет адеквтаным, по вашему мнению; разбиение проводить по id-транзакции (TransactionID), обучать модель градиетного бустинга любой реализации с подбором числа деревьев по early_stopping критерию до достижения сходимости. Оценить качество модели на валидационной выборке, оценить расхождение по сравнению с качеством на обучающей выборке и валидационной выборке. Оценить качество на ЛБ, сравнить с качеством на обучении и валидации. Сделать выводы."
   ]
  },
  {
   "cell_type": "code",
   "execution_count": 3,
   "metadata": {},
   "outputs": [],
   "source": [
    "target = train['isFraud']\n",
    "data = train.set_index('TransactionID')\n",
    "data.drop(['isFraud'], axis=1, inplace=True)"
   ]
  },
  {
   "cell_type": "code",
   "execution_count": 4,
   "metadata": {},
   "outputs": [
    {
     "name": "stdout",
     "output_type": "stream",
     "text": [
      "Всего числовых признаков 378\n"
     ]
    }
   ],
   "source": [
    "numerical_features = data.select_dtypes(include=[np.number])\n",
    "print(f'Всего числовых признаков {numerical_features.shape[1]}')\n",
    "numerical_features = numerical_features.columns.tolist()"
   ]
  },
  {
   "cell_type": "code",
   "execution_count": 5,
   "metadata": {},
   "outputs": [
    {
     "name": "stdout",
     "output_type": "stream",
     "text": [
      "Всего категориальных признаков 14\n"
     ]
    }
   ],
   "source": [
    "categorical_features = data.select_dtypes(include=[np.object])\n",
    "print(f'Всего категориальных признаков {categorical_features.shape[1]}')\n",
    "categorical_features = categorical_features.columns.tolist()"
   ]
  },
  {
   "cell_type": "code",
   "execution_count": 6,
   "metadata": {},
   "outputs": [],
   "source": [
    "for col in categorical_features:\n",
    "    data[col] = data[col].astype(str)"
   ]
  },
  {
   "cell_type": "code",
   "execution_count": 7,
   "metadata": {},
   "outputs": [],
   "source": [
    "test_target = test['isFraud']\n",
    "test_data = test.set_index('TransactionID')\n",
    "\n",
    "for col in categorical_features:\n",
    "    test_data[col] = test_data[col].astype(str)"
   ]
  },
  {
   "cell_type": "code",
   "execution_count": 8,
   "metadata": {},
   "outputs": [
    {
     "name": "stdout",
     "output_type": "stream",
     "text": [
      "x_train.shape = 135000 rows, 392 cols\n",
      "x_valid.shape = 45000 rows, 392 cols\n"
     ]
    }
   ],
   "source": [
    "x_train, x_valid, y_train, y_valid = train_test_split(\n",
    "    data, target, train_size=0.75, shuffle=True, random_state=25,\n",
    ")\n",
    "print(\"x_train.shape = {} rows, {} cols\".format(*x_train.shape))\n",
    "print(\"x_valid.shape = {} rows, {} cols\".format(*x_valid.shape))"
   ]
  },
  {
   "cell_type": "code",
   "execution_count": 9,
   "metadata": {},
   "outputs": [],
   "source": [
    "train_pool = cb.Pool(x_train, y_train, cat_features=categorical_features)\n",
    "valid_pool = cb.Pool(x_valid, y_valid, cat_features=categorical_features)\n",
    "test_pool = cb.Pool(test_data, cat_features=categorical_features)"
   ]
  },
  {
   "cell_type": "code",
   "execution_count": 10,
   "metadata": {},
   "outputs": [],
   "source": [
    "cb_params = {\n",
    "    \"n_estimators\": 2000,\n",
    "    \"loss_function\": \"Logloss\",\n",
    "    \"eval_metric\": \"AUC\",\n",
    "    \"task_type\": \"CPU\",\n",
    "    \"max_bin\": 50,\n",
    "    \"verbose\": 100,\n",
    "    \"max_depth\": 6,\n",
    "    \"l2_leaf_reg\": 100,\n",
    "    \"early_stopping_rounds\": 50,\n",
    "    \"thread_count\": 6,\n",
    "    \"random_seed\": 42,\n",
    "    \"cat_features\": categorical_features\n",
    "}"
   ]
  },
  {
   "cell_type": "code",
   "execution_count": 11,
   "metadata": {},
   "outputs": [
    {
     "name": "stdout",
     "output_type": "stream",
     "text": [
      "0:\ttest: 0.6440887\tbest: 0.6440887 (0)\ttotal: 291ms\tremaining: 9m 42s\n",
      "100:\ttest: 0.8678437\tbest: 0.8678437 (100)\ttotal: 22.4s\tremaining: 7m 1s\n",
      "200:\ttest: 0.8838956\tbest: 0.8838956 (200)\ttotal: 45.1s\tremaining: 6m 43s\n",
      "300:\ttest: 0.8913990\tbest: 0.8913995 (299)\ttotal: 1m 6s\tremaining: 6m 18s\n",
      "400:\ttest: 0.8969465\tbest: 0.8969465 (400)\ttotal: 1m 29s\tremaining: 5m 55s\n",
      "500:\ttest: 0.8987352\tbest: 0.8987361 (499)\ttotal: 1m 50s\tremaining: 5m 32s\n",
      "600:\ttest: 0.9012847\tbest: 0.9012996 (596)\ttotal: 2m 12s\tremaining: 5m 9s\n",
      "700:\ttest: 0.9035310\tbest: 0.9035451 (697)\ttotal: 2m 35s\tremaining: 4m 47s\n",
      "800:\ttest: 0.9048830\tbest: 0.9048830 (800)\ttotal: 2m 57s\tremaining: 4m 25s\n",
      "900:\ttest: 0.9060386\tbest: 0.9060386 (900)\ttotal: 3m 19s\tremaining: 4m 2s\n",
      "1000:\ttest: 0.9067870\tbest: 0.9067870 (1000)\ttotal: 3m 40s\tremaining: 3m 40s\n",
      "1100:\ttest: 0.9082953\tbest: 0.9082953 (1100)\ttotal: 4m 3s\tremaining: 3m 18s\n",
      "1200:\ttest: 0.9098445\tbest: 0.9098445 (1200)\ttotal: 4m 25s\tremaining: 2m 56s\n",
      "1300:\ttest: 0.9108992\tbest: 0.9108992 (1300)\ttotal: 4m 47s\tremaining: 2m 34s\n",
      "1400:\ttest: 0.9113758\tbest: 0.9113767 (1394)\ttotal: 5m 9s\tremaining: 2m 12s\n",
      "1500:\ttest: 0.9114466\tbest: 0.9114529 (1455)\ttotal: 5m 30s\tremaining: 1m 49s\n",
      "Stopped by overfitting detector  (50 iterations wait)\n",
      "\n",
      "bestTest = 0.9114529106\n",
      "bestIteration = 1455\n",
      "\n",
      "Shrink model to first 1456 iterations.\n"
     ]
    },
    {
     "data": {
      "text/plain": [
       "<catboost.core.CatBoostClassifier at 0x240b197e608>"
      ]
     },
     "execution_count": 11,
     "metadata": {},
     "output_type": "execute_result"
    }
   ],
   "source": [
    "model = cb.CatBoostClassifier(**cb_params)\n",
    "model.fit(train_pool, eval_set=valid_pool)"
   ]
  },
  {
   "cell_type": "code",
   "execution_count": 12,
   "metadata": {},
   "outputs": [],
   "source": [
    "predictions_train = model.predict(train_pool)\n",
    "predictions_valid = model.predict(valid_pool)\n",
    "predictions_lb = model.predict(test_pool)"
   ]
  },
  {
   "cell_type": "code",
   "execution_count": 16,
   "metadata": {},
   "outputs": [
    {
     "name": "stdout",
     "output_type": "stream",
     "text": [
      "train: 0.712\n",
      "test: 0.6955\n",
      "l_board: 0.6478\n"
     ]
    }
   ],
   "source": [
    "print(f'train: {round(roc_auc_score(y_train, predictions_train), 4)}')\n",
    "print(f'test: {round(roc_auc_score(y_valid, predictions_valid), 4)}')\n",
    "print(f'l_board: {round(roc_auc_score(test_target, predictions_lb), 4)}')"
   ]
  },
  {
   "cell_type": "markdown",
   "metadata": {},
   "source": [
    "**Вывод**\n",
    "* Модель переобучена, значение метрик падает на валидации и еще сильнее на лидерборде. "
   ]
  },
  {
   "cell_type": "markdown",
   "metadata": {},
   "source": [
    "**Задание 2:** сделать Hold-Out валидацию с разбиением на 3 выборки, разбиение проводить по id-транзакции (TransactionID), размер каждой выборки подобрать самостоятельно. Повторить процедуру из п.1. для каждой выборки."
   ]
  },
  {
   "cell_type": "code",
   "execution_count": 17,
   "metadata": {},
   "outputs": [
    {
     "name": "stdout",
     "output_type": "stream",
     "text": [
      "x_train.shape = 125999 rows, 392 cols\n",
      "x_valid.shape = 37800 rows, 392 cols\n",
      "x_test.shape = 16201 rows, 392 cols\n"
     ]
    }
   ],
   "source": [
    "x_train, x_valid, y_train, y_valid = train_test_split(\n",
    "    data, target, train_size=0.7, shuffle=True, random_state=25,\n",
    ")\n",
    "\n",
    "x_valid, x_test, y_valid, y_test = train_test_split(\n",
    "    x_valid, y_valid, train_size=0.7, shuffle=True, random_state=25\n",
    ")\n",
    "\n",
    "print(\"x_train.shape = {} rows, {} cols\".format(*x_train.shape))\n",
    "print(\"x_valid.shape = {} rows, {} cols\".format(*x_valid.shape))\n",
    "print(\"x_test.shape = {} rows, {} cols\".format(*x_test.shape))"
   ]
  },
  {
   "cell_type": "code",
   "execution_count": 18,
   "metadata": {},
   "outputs": [],
   "source": [
    "train_pool = cb.Pool(x_train, y_train, cat_features=categorical_features)\n",
    "valid_pool = cb.Pool(x_valid, y_valid, cat_features=categorical_features)\n",
    "test_pool = cb.Pool(x_test, y_test, cat_features=categorical_features)\n",
    "lb_pool = cb.Pool(test_data, cat_features=categorical_features)"
   ]
  },
  {
   "cell_type": "code",
   "execution_count": 19,
   "metadata": {},
   "outputs": [
    {
     "name": "stdout",
     "output_type": "stream",
     "text": [
      "0:\ttest: 0.6045153\tbest: 0.6045153 (0)\ttotal: 220ms\tremaining: 7m 19s\n",
      "100:\ttest: 0.8679537\tbest: 0.8680797 (99)\ttotal: 21.4s\tremaining: 6m 41s\n",
      "200:\ttest: 0.8832491\tbest: 0.8832491 (200)\ttotal: 42.8s\tremaining: 6m 23s\n",
      "300:\ttest: 0.8917414\tbest: 0.8917414 (300)\ttotal: 1m 4s\tremaining: 6m 3s\n",
      "400:\ttest: 0.8954093\tbest: 0.8954093 (400)\ttotal: 1m 24s\tremaining: 5m 37s\n",
      "500:\ttest: 0.8957401\tbest: 0.8957584 (486)\ttotal: 1m 44s\tremaining: 5m 13s\n",
      "600:\ttest: 0.8997151\tbest: 0.8997151 (600)\ttotal: 2m 5s\tremaining: 4m 51s\n",
      "700:\ttest: 0.9023949\tbest: 0.9023960 (698)\ttotal: 2m 26s\tremaining: 4m 30s\n",
      "800:\ttest: 0.9038382\tbest: 0.9038382 (800)\ttotal: 2m 46s\tremaining: 4m 9s\n",
      "900:\ttest: 0.9051102\tbest: 0.9051102 (900)\ttotal: 3m 7s\tremaining: 3m 48s\n",
      "1000:\ttest: 0.9061223\tbest: 0.9061223 (1000)\ttotal: 3m 27s\tremaining: 3m 27s\n",
      "1100:\ttest: 0.9078589\tbest: 0.9078589 (1100)\ttotal: 3m 48s\tremaining: 3m 6s\n",
      "1200:\ttest: 0.9089206\tbest: 0.9089206 (1200)\ttotal: 4m 9s\tremaining: 2m 46s\n",
      "1300:\ttest: 0.9094590\tbest: 0.9094611 (1286)\ttotal: 4m 29s\tremaining: 2m 24s\n",
      "1400:\ttest: 0.9094554\tbest: 0.9094647 (1387)\ttotal: 4m 48s\tremaining: 2m 3s\n",
      "Stopped by overfitting detector  (50 iterations wait)\n",
      "\n",
      "bestTest = 0.9094646675\n",
      "bestIteration = 1387\n",
      "\n",
      "Shrink model to first 1388 iterations.\n"
     ]
    },
    {
     "data": {
      "text/plain": [
       "<catboost.core.CatBoostClassifier at 0x240afd5a488>"
      ]
     },
     "execution_count": 19,
     "metadata": {},
     "output_type": "execute_result"
    }
   ],
   "source": [
    "model = cb.CatBoostClassifier(**cb_params)\n",
    "model.fit(train_pool, eval_set=valid_pool)"
   ]
  },
  {
   "cell_type": "code",
   "execution_count": 24,
   "metadata": {},
   "outputs": [],
   "source": [
    "predictions_train = model.predict(train_pool)\n",
    "predictions_valid = model.predict(valid_pool)\n",
    "predictions_test = model.predict(test_pool)\n",
    "predictions_lb = model.predict(lb_pool)"
   ]
  },
  {
   "cell_type": "code",
   "execution_count": 23,
   "metadata": {},
   "outputs": [
    {
     "name": "stdout",
     "output_type": "stream",
     "text": [
      "train: 0.701\n",
      "valid: 0.6889\n",
      "test: 0.6921\n",
      "l_board: 0.6413\n"
     ]
    }
   ],
   "source": [
    "print(f'train: {round(roc_auc_score(y_train, predictions_train), 4)}')\n",
    "print(f'valid: {round(roc_auc_score(y_valid, predictions_valid), 4)}')\n",
    "print(f'test: {round(roc_auc_score(y_test, predictions_test), 4)}')\n",
    "print(f'l_board: {round(roc_auc_score(test_target, predictions_lb), 4)}')"
   ]
  },
  {
   "cell_type": "markdown",
   "metadata": {},
   "source": [
    "**Задание 3:** построить доверительный интервал на данных из п.2 на основе бутстреп выборок, оценить качество модели на ЛБ относительно полученного доверительного интервала. Сделать выводы."
   ]
  },
  {
   "cell_type": "code",
   "execution_count": 27,
   "metadata": {},
   "outputs": [],
   "source": [
    "def create_bootstrap_samples(data: np.array, n_samples: int = 1000) -> np.array:\n",
    "    \n",
    "    bootstrap_idx = np.random.randint(\n",
    "        low=0, high=len(data), size=(n_samples, len(data))\n",
    "    )\n",
    "    return bootstrap_idx\n",
    "\n",
    "\n",
    "def create_bootstrap_metrics(y_true: np.array,\n",
    "                             y_pred: np.array,\n",
    "                             metric: callable,\n",
    "                             n_samlpes: int = 1000) -> List[float]:\n",
    "   \n",
    "    scores = []\n",
    "\n",
    "    if isinstance(y_true, pd.Series):\n",
    "        y_true = y_true.values\n",
    "\n",
    "    bootstrap_idx = create_bootstrap_samples(y_true)\n",
    "    for idx in bootstrap_idx:\n",
    "        y_true_bootstrap = y_true[idx]\n",
    "        y_pred_bootstrap = y_pred[idx]\n",
    "\n",
    "        score = metric(y_true_bootstrap, y_pred_bootstrap)\n",
    "        scores.append(score)\n",
    "\n",
    "    return scores\n",
    "\n",
    "\n",
    "def calculate_confidence_interval(scores: list, conf_interval: float = 0.95) -> Tuple[float]:\n",
    "   \n",
    "    left_bound = np.percentile(\n",
    "        scores, ((1 - conf_interval) / 2) * 100\n",
    "    )\n",
    "    right_bound = np.percentile(\n",
    "        scores, (conf_interval + ((1 - conf_interval) / 2)) * 100\n",
    "    )\n",
    "\n",
    "    return left_bound, right_bound"
   ]
  },
  {
   "cell_type": "code",
   "execution_count": 35,
   "metadata": {},
   "outputs": [
    {
     "data": {
      "text/plain": [
       "(0.6340762396143949, 0.6484384033200514)"
      ]
     },
     "execution_count": 35,
     "metadata": {},
     "output_type": "execute_result"
    }
   ],
   "source": [
    "np.random.seed(27)\n",
    "scores = create_bootstrap_metrics(test_target, predictions_lb, roc_auc_score)\n",
    "\n",
    "calculate_confidence_interval(scores)"
   ]
  },
  {
   "cell_type": "markdown",
   "metadata": {},
   "source": [
    "**Вывод** \n",
    "* Значение метрики на лидерборде попадает в доверительный интервал, что показывает неплохое качество валидации. Валидация устойчивая. Ширина доверительного интервала допустима."
   ]
  },
  {
   "cell_type": "markdown",
   "metadata": {},
   "source": [
    "**Задание 4:** выполнить Adversarial Validation, подобрать объекты из обучающей выборки, которые сильно похожи на объекты из assignment_2_test.csv, и использовать их в качестве валидационного набора. Оценить качество модели на ЛБ, сделать выводы о полученных результатах."
   ]
  },
  {
   "cell_type": "code",
   "execution_count": 29,
   "metadata": {},
   "outputs": [],
   "source": [
    "x_adv = pd.concat([\n",
    "    data, test_data], axis=0\n",
    ")\n",
    "y_adv = np.hstack((np.zeros(data.shape[0]), np.ones(test_data.shape[0])))\n",
    "assert x_adv.shape[0] == y_adv.shape[0]"
   ]
  },
  {
   "cell_type": "code",
   "execution_count": 30,
   "metadata": {},
   "outputs": [
    {
     "data": {
      "text/plain": [
       "XGBClassifier(base_score=0.5, booster='gbtree', colsample_bylevel=1,\n",
       "              colsample_bynode=1, colsample_bytree=1, gamma=0, gpu_id=-1,\n",
       "              importance_type='gain', interaction_constraints='',\n",
       "              learning_rate=0.300000012, max_delta_step=0, max_depth=6,\n",
       "              min_child_weight=1, missing=nan, monotone_constraints='()',\n",
       "              n_estimators=100, n_jobs=0, num_parallel_tree=1,\n",
       "              objective='binary:logistic', random_state=0, reg_alpha=0,\n",
       "              reg_lambda=1, scale_pos_weight=1, subsample=1,\n",
       "              tree_method='exact', validate_parameters=1, verbosity=None)"
      ]
     },
     "execution_count": 30,
     "metadata": {},
     "output_type": "execute_result"
    }
   ],
   "source": [
    "model = xgb.XGBClassifier(n_estimators=100)\n",
    "model.fit(x_adv[numerical_features], y_adv)"
   ]
  },
  {
   "cell_type": "code",
   "execution_count": 31,
   "metadata": {},
   "outputs": [
    {
     "name": "stdout",
     "output_type": "stream",
     "text": [
      "1.0\n"
     ]
    }
   ],
   "source": [
    "y_pred_adv = model.predict_proba(x_adv[numerical_features])\n",
    "score = roc_auc_score(y_adv, y_pred_adv[:, 1])\n",
    "print(round(score, 4))"
   ]
  },
  {
   "cell_type": "code",
   "execution_count": 32,
   "metadata": {},
   "outputs": [
    {
     "data": {
      "text/plain": [
       "array([[9.9999470e-01, 5.2982914e-06],\n",
       "       [9.9999470e-01, 5.2982914e-06],\n",
       "       [9.9999470e-01, 5.2982914e-06],\n",
       "       ...,\n",
       "       [9.9999470e-01, 5.2982914e-06],\n",
       "       [9.9999470e-01, 5.2982914e-06],\n",
       "       [9.9999470e-01, 5.2982914e-06]], dtype=float32)"
      ]
     },
     "execution_count": 32,
     "metadata": {},
     "output_type": "execute_result"
    }
   ],
   "source": [
    "y_pred = model.predict_proba(x_train[numerical_features])\n",
    "y_pred"
   ]
  },
  {
   "cell_type": "code",
   "execution_count": 33,
   "metadata": {},
   "outputs": [
    {
     "data": {
      "text/plain": [
       "(0.0, 0.1]    125999\n",
       "(0.1, 0.2]         0\n",
       "(0.2, 0.3]         0\n",
       "(0.3, 0.4]         0\n",
       "(0.4, 0.5]         0\n",
       "(0.5, 0.6]         0\n",
       "(0.6, 0.7]         0\n",
       "(0.7, 0.8]         0\n",
       "(0.8, 0.9]         0\n",
       "(0.9, 1.0]         0\n",
       "dtype: int64"
      ]
     },
     "execution_count": 33,
     "metadata": {},
     "output_type": "execute_result"
    }
   ],
   "source": [
    "pd.cut(\n",
    "    y_pred[:, 1], bins=np.arange(0, 1.01, 0.1)\n",
    ").value_counts().sort_index()"
   ]
  },
  {
   "cell_type": "markdown",
   "metadata": {},
   "source": [
    "**Вывод**\n",
    "* Данные на трейне и тесте совсем не совпадают, что подтверждает roc_auc_score = 1.0 Модель идеально отличает данные трейна и теста"
   ]
  },
  {
   "cell_type": "markdown",
   "metadata": {},
   "source": [
    "**Задание 5:** сделать KFold / StratifiedKFold валидацию (на ваше усмотрение), оценить получаемые качество и разброс по метрике качества. Сделать выводы об устойчивости кросс-валидации, сходимости оценки на кросс-валидации и отложенном наборе данных; Оценить качество на ЛБ, сделать выводы."
   ]
  },
  {
   "cell_type": "code",
   "execution_count": 36,
   "metadata": {},
   "outputs": [
    {
     "name": "stdout",
     "output_type": "stream",
     "text": [
      "0:\ttest: 0.6518597\tbest: 0.6518597 (0)\ttotal: 895ms\tremaining: 29m 49s\n",
      "100:\ttest: 0.8631351\tbest: 0.8631351 (100)\ttotal: 1m 14s\tremaining: 23m 21s\n",
      "200:\ttest: 0.8797378\tbest: 0.8797378 (200)\ttotal: 2m 28s\tremaining: 22m 7s\n",
      "300:\ttest: 0.8874365\tbest: 0.8874365 (300)\ttotal: 3m 39s\tremaining: 20m 40s\n",
      "400:\ttest: 0.8919986\tbest: 0.8919986 (400)\ttotal: 4m 52s\tremaining: 19m 25s\n",
      "500:\ttest: 0.8934776\tbest: 0.8934776 (500)\ttotal: 6m 2s\tremaining: 18m 4s\n",
      "600:\ttest: 0.8942905\tbest: 0.8942905 (600)\ttotal: 7m 11s\tremaining: 16m 44s\n",
      "700:\ttest: 0.8953205\tbest: 0.8953206 (697)\ttotal: 8m 19s\tremaining: 15m 25s\n",
      "800:\ttest: 0.8960420\tbest: 0.8960422 (799)\ttotal: 9m 27s\tremaining: 14m 9s\n",
      "900:\ttest: 0.8970305\tbest: 0.8970305 (900)\ttotal: 10m 34s\tremaining: 12m 54s\n",
      "1000:\ttest: 0.8991212\tbest: 0.8991246 (999)\ttotal: 11m 45s\tremaining: 11m 44s\n",
      "1100:\ttest: 0.9008175\tbest: 0.9008175 (1100)\ttotal: 12m 57s\tremaining: 10m 35s\n",
      "1200:\ttest: 0.9014755\tbest: 0.9014755 (1200)\ttotal: 14m 7s\tremaining: 9m 23s\n",
      "1300:\ttest: 0.9019738\tbest: 0.9019742 (1298)\ttotal: 15m 16s\tremaining: 8m 12s\n",
      "1400:\ttest: 0.9027063\tbest: 0.9027063 (1400)\ttotal: 16m 24s\tremaining: 7m\n",
      "1500:\ttest: 0.9036433\tbest: 0.9036433 (1500)\ttotal: 17m 34s\tremaining: 5m 50s\n",
      "1600:\ttest: 0.9046153\tbest: 0.9046157 (1598)\ttotal: 18m 44s\tremaining: 4m 40s\n",
      "1700:\ttest: 0.9052976\tbest: 0.9052976 (1700)\ttotal: 19m 54s\tremaining: 3m 29s\n",
      "1800:\ttest: 0.9059316\tbest: 0.9059316 (1800)\ttotal: 21m 3s\tremaining: 2m 19s\n",
      "1900:\ttest: 0.9063335\tbest: 0.9063335 (1900)\ttotal: 22m 11s\tremaining: 1m 9s\n",
      "1999:\ttest: 0.9071864\tbest: 0.9071864 (1999)\ttotal: 23m 20s\tremaining: 0us\n"
     ]
    }
   ],
   "source": [
    "cv_data = cb.cv(\n",
    "    cb.Pool(data, target, cat_features=categorical_features),\n",
    "    cb_params,\n",
    ")"
   ]
  },
  {
   "cell_type": "code",
   "execution_count": null,
   "metadata": {},
   "outputs": [],
   "source": []
  },
  {
   "cell_type": "code",
   "execution_count": null,
   "metadata": {},
   "outputs": [],
   "source": []
  },
  {
   "cell_type": "code",
   "execution_count": null,
   "metadata": {},
   "outputs": [],
   "source": []
  },
  {
   "cell_type": "code",
   "execution_count": null,
   "metadata": {},
   "outputs": [],
   "source": []
  },
  {
   "cell_type": "code",
   "execution_count": null,
   "metadata": {},
   "outputs": [],
   "source": []
  }
 ],
 "metadata": {
  "kernelspec": {
   "display_name": "Python 3",
   "language": "python",
   "name": "python3"
  },
  "language_info": {
   "codemirror_mode": {
    "name": "ipython",
    "version": 3
   },
   "file_extension": ".py",
   "mimetype": "text/x-python",
   "name": "python",
   "nbconvert_exporter": "python",
   "pygments_lexer": "ipython3",
   "version": "3.7.6"
  }
 },
 "nbformat": 4,
 "nbformat_minor": 4
}
