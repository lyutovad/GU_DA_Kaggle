{
 "cells": [
  {
   "cell_type": "code",
   "execution_count": 1,
   "metadata": {},
   "outputs": [],
   "source": [
    "import warnings\n",
    "import numpy as np\n",
    "import pandas as pd\n",
    "import xgboost as xgb\n",
    "import matplotlib.pyplot as plt\n",
    "import lightgbm as lgb\n",
    "\n",
    "from sklearn.model_selection import train_test_split\n",
    "from sklearn.metrics import roc_auc_score\n",
    "\n",
    "import catboost as cb\n",
    "import matplotlib.pyplot as plt\n",
    "\n",
    "warnings.simplefilter(\"ignore\")"
   ]
  },
  {
   "cell_type": "code",
   "execution_count": 2,
   "metadata": {},
   "outputs": [],
   "source": [
    "train = pd.read_csv('assignment_2_train.csv')\n",
    "test = pd.read_csv('assignment_2_test.csv')"
   ]
  },
  {
   "cell_type": "code",
   "execution_count": 3,
   "metadata": {},
   "outputs": [
    {
     "data": {
      "text/html": [
       "<div>\n",
       "<style scoped>\n",
       "    .dataframe tbody tr th:only-of-type {\n",
       "        vertical-align: middle;\n",
       "    }\n",
       "\n",
       "    .dataframe tbody tr th {\n",
       "        vertical-align: top;\n",
       "    }\n",
       "\n",
       "    .dataframe thead th {\n",
       "        text-align: right;\n",
       "    }\n",
       "</style>\n",
       "<table border=\"1\" class=\"dataframe\">\n",
       "  <thead>\n",
       "    <tr style=\"text-align: right;\">\n",
       "      <th></th>\n",
       "      <th>TransactionID</th>\n",
       "      <th>isFraud</th>\n",
       "      <th>TransactionDT</th>\n",
       "      <th>TransactionAmt</th>\n",
       "      <th>ProductCD</th>\n",
       "      <th>card1</th>\n",
       "      <th>card2</th>\n",
       "      <th>card3</th>\n",
       "      <th>card4</th>\n",
       "      <th>card5</th>\n",
       "      <th>...</th>\n",
       "      <th>V330</th>\n",
       "      <th>V331</th>\n",
       "      <th>V332</th>\n",
       "      <th>V333</th>\n",
       "      <th>V334</th>\n",
       "      <th>V335</th>\n",
       "      <th>V336</th>\n",
       "      <th>V337</th>\n",
       "      <th>V338</th>\n",
       "      <th>V339</th>\n",
       "    </tr>\n",
       "  </thead>\n",
       "  <tbody>\n",
       "    <tr>\n",
       "      <th>0</th>\n",
       "      <td>2987000</td>\n",
       "      <td>0</td>\n",
       "      <td>86400</td>\n",
       "      <td>68.5</td>\n",
       "      <td>W</td>\n",
       "      <td>13926</td>\n",
       "      <td>NaN</td>\n",
       "      <td>150.0</td>\n",
       "      <td>discover</td>\n",
       "      <td>142.0</td>\n",
       "      <td>...</td>\n",
       "      <td>NaN</td>\n",
       "      <td>NaN</td>\n",
       "      <td>NaN</td>\n",
       "      <td>NaN</td>\n",
       "      <td>NaN</td>\n",
       "      <td>NaN</td>\n",
       "      <td>NaN</td>\n",
       "      <td>NaN</td>\n",
       "      <td>NaN</td>\n",
       "      <td>NaN</td>\n",
       "    </tr>\n",
       "    <tr>\n",
       "      <th>1</th>\n",
       "      <td>2987001</td>\n",
       "      <td>0</td>\n",
       "      <td>86401</td>\n",
       "      <td>29.0</td>\n",
       "      <td>W</td>\n",
       "      <td>2755</td>\n",
       "      <td>404.0</td>\n",
       "      <td>150.0</td>\n",
       "      <td>mastercard</td>\n",
       "      <td>102.0</td>\n",
       "      <td>...</td>\n",
       "      <td>NaN</td>\n",
       "      <td>NaN</td>\n",
       "      <td>NaN</td>\n",
       "      <td>NaN</td>\n",
       "      <td>NaN</td>\n",
       "      <td>NaN</td>\n",
       "      <td>NaN</td>\n",
       "      <td>NaN</td>\n",
       "      <td>NaN</td>\n",
       "      <td>NaN</td>\n",
       "    </tr>\n",
       "    <tr>\n",
       "      <th>2</th>\n",
       "      <td>2987002</td>\n",
       "      <td>0</td>\n",
       "      <td>86469</td>\n",
       "      <td>59.0</td>\n",
       "      <td>W</td>\n",
       "      <td>4663</td>\n",
       "      <td>490.0</td>\n",
       "      <td>150.0</td>\n",
       "      <td>visa</td>\n",
       "      <td>166.0</td>\n",
       "      <td>...</td>\n",
       "      <td>NaN</td>\n",
       "      <td>NaN</td>\n",
       "      <td>NaN</td>\n",
       "      <td>NaN</td>\n",
       "      <td>NaN</td>\n",
       "      <td>NaN</td>\n",
       "      <td>NaN</td>\n",
       "      <td>NaN</td>\n",
       "      <td>NaN</td>\n",
       "      <td>NaN</td>\n",
       "    </tr>\n",
       "    <tr>\n",
       "      <th>3</th>\n",
       "      <td>2987003</td>\n",
       "      <td>0</td>\n",
       "      <td>86499</td>\n",
       "      <td>50.0</td>\n",
       "      <td>W</td>\n",
       "      <td>18132</td>\n",
       "      <td>567.0</td>\n",
       "      <td>150.0</td>\n",
       "      <td>mastercard</td>\n",
       "      <td>117.0</td>\n",
       "      <td>...</td>\n",
       "      <td>NaN</td>\n",
       "      <td>NaN</td>\n",
       "      <td>NaN</td>\n",
       "      <td>NaN</td>\n",
       "      <td>NaN</td>\n",
       "      <td>NaN</td>\n",
       "      <td>NaN</td>\n",
       "      <td>NaN</td>\n",
       "      <td>NaN</td>\n",
       "      <td>NaN</td>\n",
       "    </tr>\n",
       "    <tr>\n",
       "      <th>4</th>\n",
       "      <td>2987004</td>\n",
       "      <td>0</td>\n",
       "      <td>86506</td>\n",
       "      <td>50.0</td>\n",
       "      <td>H</td>\n",
       "      <td>4497</td>\n",
       "      <td>514.0</td>\n",
       "      <td>150.0</td>\n",
       "      <td>mastercard</td>\n",
       "      <td>102.0</td>\n",
       "      <td>...</td>\n",
       "      <td>0.0</td>\n",
       "      <td>0.0</td>\n",
       "      <td>0.0</td>\n",
       "      <td>0.0</td>\n",
       "      <td>0.0</td>\n",
       "      <td>0.0</td>\n",
       "      <td>0.0</td>\n",
       "      <td>0.0</td>\n",
       "      <td>0.0</td>\n",
       "      <td>0.0</td>\n",
       "    </tr>\n",
       "  </tbody>\n",
       "</table>\n",
       "<p>5 rows × 394 columns</p>\n",
       "</div>"
      ],
      "text/plain": [
       "   TransactionID  isFraud  TransactionDT  TransactionAmt ProductCD  card1  \\\n",
       "0        2987000        0          86400            68.5         W  13926   \n",
       "1        2987001        0          86401            29.0         W   2755   \n",
       "2        2987002        0          86469            59.0         W   4663   \n",
       "3        2987003        0          86499            50.0         W  18132   \n",
       "4        2987004        0          86506            50.0         H   4497   \n",
       "\n",
       "   card2  card3       card4  card5  ... V330  V331  V332  V333  V334 V335  \\\n",
       "0    NaN  150.0    discover  142.0  ...  NaN   NaN   NaN   NaN   NaN  NaN   \n",
       "1  404.0  150.0  mastercard  102.0  ...  NaN   NaN   NaN   NaN   NaN  NaN   \n",
       "2  490.0  150.0        visa  166.0  ...  NaN   NaN   NaN   NaN   NaN  NaN   \n",
       "3  567.0  150.0  mastercard  117.0  ...  NaN   NaN   NaN   NaN   NaN  NaN   \n",
       "4  514.0  150.0  mastercard  102.0  ...  0.0   0.0   0.0   0.0   0.0  0.0   \n",
       "\n",
       "  V336  V337  V338  V339  \n",
       "0  NaN   NaN   NaN   NaN  \n",
       "1  NaN   NaN   NaN   NaN  \n",
       "2  NaN   NaN   NaN   NaN  \n",
       "3  NaN   NaN   NaN   NaN  \n",
       "4  0.0   0.0   0.0   0.0  \n",
       "\n",
       "[5 rows x 394 columns]"
      ]
     },
     "execution_count": 3,
     "metadata": {},
     "output_type": "execute_result"
    }
   ],
   "source": [
    "train.head()"
   ]
  },
  {
   "cell_type": "code",
   "execution_count": 4,
   "metadata": {},
   "outputs": [
    {
     "name": "stdout",
     "output_type": "stream",
     "text": [
      "train.shape = 180000 rows, 394 cols\n"
     ]
    }
   ],
   "source": [
    "print(\"train.shape = {} rows, {} cols\".format(*train.shape))"
   ]
  },
  {
   "cell_type": "code",
   "execution_count": 5,
   "metadata": {},
   "outputs": [],
   "source": [
    "target = train['isFraud']\n",
    "train = train.drop(['isFraud', 'TransactionID'], axis=1)"
   ]
  },
  {
   "cell_type": "markdown",
   "metadata": {},
   "source": [
    "**Задание 1:** отобрать только числовые признаки и обучить модель XGBoost с параметром booster = gbtree. Обучать алгоритм до тех пор, пока метрика качества не перестанет улучшаться на валидационной выборке в течение определенного числа итераций (выбрать значение самостоятельно)."
   ]
  },
  {
   "cell_type": "code",
   "execution_count": 6,
   "metadata": {},
   "outputs": [
    {
     "name": "stdout",
     "output_type": "stream",
     "text": [
      "count of numeric_features 378\n"
     ]
    },
    {
     "data": {
      "text/plain": [
       "Index(['TransactionDT', 'TransactionAmt', 'card1', 'card2', 'card3', 'card5',\n",
       "       'addr1', 'addr2', 'dist1', 'dist2',\n",
       "       ...\n",
       "       'V330', 'V331', 'V332', 'V333', 'V334', 'V335', 'V336', 'V337', 'V338',\n",
       "       'V339'],\n",
       "      dtype='object', length=378)"
      ]
     },
     "execution_count": 6,
     "metadata": {},
     "output_type": "execute_result"
    }
   ],
   "source": [
    "numerical_features = train.select_dtypes(include=[np.number])\n",
    "print(f\"count of numeric_features {numerical_features.shape[1]}\")\n",
    "\n",
    "numerical_features.columns"
   ]
  },
  {
   "cell_type": "code",
   "execution_count": 7,
   "metadata": {},
   "outputs": [
    {
     "name": "stdout",
     "output_type": "stream",
     "text": [
      "x_train.shape = 144000 rows, 378 cols\n",
      "x_valid.shape = 36000 rows, 378 cols\n"
     ]
    }
   ],
   "source": [
    "x_train, x_valid = train_test_split(\n",
    "    numerical_features, train_size=0.8, random_state=1\n",
    ")\n",
    "y_train, y_valid = train_test_split(\n",
    "    target, train_size=0.8, random_state=1\n",
    ")\n",
    "print(\"x_train.shape = {} rows, {} cols\".format(*x_train.shape))\n",
    "print(\"x_valid.shape = {} rows, {} cols\".format(*x_valid.shape))"
   ]
  },
  {
   "cell_type": "code",
   "execution_count": 8,
   "metadata": {},
   "outputs": [],
   "source": [
    "dtrain = xgb.DMatrix(\n",
    "    data=x_train, label=y_train\n",
    ")\n",
    "dvalid = xgb.DMatrix(\n",
    "    data=x_valid, label=y_valid\n",
    ")"
   ]
  },
  {
   "cell_type": "code",
   "execution_count": 9,
   "metadata": {},
   "outputs": [],
   "source": [
    "params = {\n",
    "    \"booster\": \"gbtree\",\n",
    "    \"objective\": \"binary:logistic\",\n",
    "    \"eval_metric\": \"auc\",\n",
    "    \"learning_rate\": 0.1,\n",
    "    \"n_estimators\": 1000,\n",
    "    \"reg_lambda\": 100,\n",
    "    \"max_depth\": 4,\n",
    "    \"gamma\": 10,\n",
    "    \"nthread\": 6,\n",
    "    \"seed\": 27\n",
    "}"
   ]
  },
  {
   "cell_type": "code",
   "execution_count": 10,
   "metadata": {},
   "outputs": [
    {
     "name": "stdout",
     "output_type": "stream",
     "text": [
      "[18:27:34] WARNING: C:\\Users\\Administrator\\workspace\\xgboost-win64_release_1.2.0\\src\\learner.cc:516: \n",
      "Parameters: { n_estimators } might not be used.\n",
      "\n",
      "  This may not be accurate due to some parameters are only used in language bindings but\n",
      "  passed down to XGBoost core.  Or some parameters are not used but slip through this\n",
      "  verification. Please open an issue if you find above cases.\n",
      "\n",
      "\n",
      "[18:27:35] WARNING: C:\\Users\\Administrator\\workspace\\xgboost-win64_release_1.2.0\\src\\learner.cc:516: \n",
      "Parameters: { n_estimators } might not be used.\n",
      "\n",
      "  This may not be accurate due to some parameters are only used in language bindings but\n",
      "  passed down to XGBoost core.  Or some parameters are not used but slip through this\n",
      "  verification. Please open an issue if you find above cases.\n",
      "\n",
      "\n",
      "[18:27:35] WARNING: C:\\Users\\Administrator\\workspace\\xgboost-win64_release_1.2.0\\src\\learner.cc:516: \n",
      "Parameters: { n_estimators } might not be used.\n",
      "\n",
      "  This may not be accurate due to some parameters are only used in language bindings but\n",
      "  passed down to XGBoost core.  Or some parameters are not used but slip through this\n",
      "  verification. Please open an issue if you find above cases.\n",
      "\n",
      "\n",
      "[0]\ttrain-auc:0.62383+0.00078\ttest-auc:0.62156+0.00532\n",
      "[25]\ttrain-auc:0.84212+0.00124\ttest-auc:0.83795+0.00293\n",
      "[50]\ttrain-auc:0.88113+0.00294\ttest-auc:0.87557+0.00472\n",
      "[75]\ttrain-auc:0.89375+0.00255\ttest-auc:0.88573+0.00569\n",
      "[100]\ttrain-auc:0.89881+0.00307\ttest-auc:0.88982+0.00488\n",
      "[125]\ttrain-auc:0.90219+0.00267\ttest-auc:0.89216+0.00510\n",
      "[150]\ttrain-auc:0.90243+0.00234\ttest-auc:0.89227+0.00522\n",
      "[175]\ttrain-auc:0.90243+0.00234\ttest-auc:0.89227+0.00522\n"
     ]
    }
   ],
   "source": [
    "model_xgb_nf = xgb.cv(\n",
    "    params=params,\n",
    "    dtrain=dtrain,\n",
    "    num_boost_round=500,\n",
    "    early_stopping_rounds=50,\n",
    "    verbose_eval=25,\n",
    "    stratified=True,\n",
    "    metrics=\"auc\",\n",
    "    maximize=True,\n",
    "    shuffle=True,\n",
    "    nfold=3,\n",
    ")"
   ]
  },
  {
   "cell_type": "markdown",
   "metadata": {},
   "source": [
    "**Задание 2:** обработать категориальные признаки любым способом (который вы знаете) и добавить их к данным. Выполнить задание 1."
   ]
  },
  {
   "cell_type": "code",
   "execution_count": 11,
   "metadata": {},
   "outputs": [
    {
     "name": "stdout",
     "output_type": "stream",
     "text": [
      "Categorical Feature Count 14\n"
     ]
    },
    {
     "data": {
      "text/html": [
       "<div>\n",
       "<style scoped>\n",
       "    .dataframe tbody tr th:only-of-type {\n",
       "        vertical-align: middle;\n",
       "    }\n",
       "\n",
       "    .dataframe tbody tr th {\n",
       "        vertical-align: top;\n",
       "    }\n",
       "\n",
       "    .dataframe thead th {\n",
       "        text-align: right;\n",
       "    }\n",
       "</style>\n",
       "<table border=\"1\" class=\"dataframe\">\n",
       "  <thead>\n",
       "    <tr style=\"text-align: right;\">\n",
       "      <th></th>\n",
       "      <th>ProductCD</th>\n",
       "      <th>card4</th>\n",
       "      <th>card6</th>\n",
       "      <th>P_emaildomain</th>\n",
       "      <th>R_emaildomain</th>\n",
       "      <th>M1</th>\n",
       "      <th>M2</th>\n",
       "      <th>M3</th>\n",
       "      <th>M4</th>\n",
       "      <th>M5</th>\n",
       "      <th>M6</th>\n",
       "      <th>M7</th>\n",
       "      <th>M8</th>\n",
       "      <th>M9</th>\n",
       "    </tr>\n",
       "  </thead>\n",
       "  <tbody>\n",
       "    <tr>\n",
       "      <th>0</th>\n",
       "      <td>W</td>\n",
       "      <td>discover</td>\n",
       "      <td>credit</td>\n",
       "      <td>NaN</td>\n",
       "      <td>NaN</td>\n",
       "      <td>T</td>\n",
       "      <td>T</td>\n",
       "      <td>T</td>\n",
       "      <td>M2</td>\n",
       "      <td>F</td>\n",
       "      <td>T</td>\n",
       "      <td>NaN</td>\n",
       "      <td>NaN</td>\n",
       "      <td>NaN</td>\n",
       "    </tr>\n",
       "    <tr>\n",
       "      <th>1</th>\n",
       "      <td>W</td>\n",
       "      <td>mastercard</td>\n",
       "      <td>credit</td>\n",
       "      <td>gmail.com</td>\n",
       "      <td>NaN</td>\n",
       "      <td>NaN</td>\n",
       "      <td>NaN</td>\n",
       "      <td>NaN</td>\n",
       "      <td>M0</td>\n",
       "      <td>T</td>\n",
       "      <td>T</td>\n",
       "      <td>NaN</td>\n",
       "      <td>NaN</td>\n",
       "      <td>NaN</td>\n",
       "    </tr>\n",
       "  </tbody>\n",
       "</table>\n",
       "</div>"
      ],
      "text/plain": [
       "  ProductCD       card4   card6 P_emaildomain R_emaildomain   M1   M2   M3  \\\n",
       "0         W    discover  credit           NaN           NaN    T    T    T   \n",
       "1         W  mastercard  credit     gmail.com           NaN  NaN  NaN  NaN   \n",
       "\n",
       "   M4 M5 M6   M7   M8   M9  \n",
       "0  M2  F  T  NaN  NaN  NaN  \n",
       "1  M0  T  T  NaN  NaN  NaN  "
      ]
     },
     "execution_count": 11,
     "metadata": {},
     "output_type": "execute_result"
    }
   ],
   "source": [
    "categorical_features = train.select_dtypes(include=[np.object])\n",
    "print(f\"Categorical Feature Count {categorical_features.shape[1]}\")\n",
    "categorical_features.head(n=2)"
   ]
  },
  {
   "cell_type": "code",
   "execution_count": 12,
   "metadata": {},
   "outputs": [],
   "source": [
    "for cat_colname in train.select_dtypes(include='object').columns[1:]:\n",
    "    train_cat = pd.concat([train, pd.get_dummies(train[cat_colname], prefix=cat_colname)], axis=1)"
   ]
  },
  {
   "cell_type": "code",
   "execution_count": 13,
   "metadata": {},
   "outputs": [
    {
     "data": {
      "text/html": [
       "<div>\n",
       "<style scoped>\n",
       "    .dataframe tbody tr th:only-of-type {\n",
       "        vertical-align: middle;\n",
       "    }\n",
       "\n",
       "    .dataframe tbody tr th {\n",
       "        vertical-align: top;\n",
       "    }\n",
       "\n",
       "    .dataframe thead th {\n",
       "        text-align: right;\n",
       "    }\n",
       "</style>\n",
       "<table border=\"1\" class=\"dataframe\">\n",
       "  <thead>\n",
       "    <tr style=\"text-align: right;\">\n",
       "      <th></th>\n",
       "      <th>TransactionDT</th>\n",
       "      <th>TransactionAmt</th>\n",
       "      <th>ProductCD</th>\n",
       "      <th>card1</th>\n",
       "      <th>card2</th>\n",
       "      <th>card3</th>\n",
       "      <th>card4</th>\n",
       "      <th>card5</th>\n",
       "      <th>card6</th>\n",
       "      <th>addr1</th>\n",
       "      <th>...</th>\n",
       "      <th>V332</th>\n",
       "      <th>V333</th>\n",
       "      <th>V334</th>\n",
       "      <th>V335</th>\n",
       "      <th>V336</th>\n",
       "      <th>V337</th>\n",
       "      <th>V338</th>\n",
       "      <th>V339</th>\n",
       "      <th>M9_F</th>\n",
       "      <th>M9_T</th>\n",
       "    </tr>\n",
       "  </thead>\n",
       "  <tbody>\n",
       "    <tr>\n",
       "      <th>0</th>\n",
       "      <td>86400</td>\n",
       "      <td>68.5</td>\n",
       "      <td>W</td>\n",
       "      <td>13926</td>\n",
       "      <td>NaN</td>\n",
       "      <td>150.0</td>\n",
       "      <td>discover</td>\n",
       "      <td>142.0</td>\n",
       "      <td>credit</td>\n",
       "      <td>315.0</td>\n",
       "      <td>...</td>\n",
       "      <td>NaN</td>\n",
       "      <td>NaN</td>\n",
       "      <td>NaN</td>\n",
       "      <td>NaN</td>\n",
       "      <td>NaN</td>\n",
       "      <td>NaN</td>\n",
       "      <td>NaN</td>\n",
       "      <td>NaN</td>\n",
       "      <td>0</td>\n",
       "      <td>0</td>\n",
       "    </tr>\n",
       "    <tr>\n",
       "      <th>1</th>\n",
       "      <td>86401</td>\n",
       "      <td>29.0</td>\n",
       "      <td>W</td>\n",
       "      <td>2755</td>\n",
       "      <td>404.0</td>\n",
       "      <td>150.0</td>\n",
       "      <td>mastercard</td>\n",
       "      <td>102.0</td>\n",
       "      <td>credit</td>\n",
       "      <td>325.0</td>\n",
       "      <td>...</td>\n",
       "      <td>NaN</td>\n",
       "      <td>NaN</td>\n",
       "      <td>NaN</td>\n",
       "      <td>NaN</td>\n",
       "      <td>NaN</td>\n",
       "      <td>NaN</td>\n",
       "      <td>NaN</td>\n",
       "      <td>NaN</td>\n",
       "      <td>0</td>\n",
       "      <td>0</td>\n",
       "    </tr>\n",
       "  </tbody>\n",
       "</table>\n",
       "<p>2 rows × 394 columns</p>\n",
       "</div>"
      ],
      "text/plain": [
       "   TransactionDT  TransactionAmt ProductCD  card1  card2  card3       card4  \\\n",
       "0          86400            68.5         W  13926    NaN  150.0    discover   \n",
       "1          86401            29.0         W   2755  404.0  150.0  mastercard   \n",
       "\n",
       "   card5   card6  addr1  ...  V332  V333  V334 V335 V336  V337  V338  V339  \\\n",
       "0  142.0  credit  315.0  ...   NaN   NaN   NaN  NaN  NaN   NaN   NaN   NaN   \n",
       "1  102.0  credit  325.0  ...   NaN   NaN   NaN  NaN  NaN   NaN   NaN   NaN   \n",
       "\n",
       "   M9_F  M9_T  \n",
       "0     0     0  \n",
       "1     0     0  \n",
       "\n",
       "[2 rows x 394 columns]"
      ]
     },
     "execution_count": 13,
     "metadata": {},
     "output_type": "execute_result"
    }
   ],
   "source": [
    "train_cat.head(2)"
   ]
  },
  {
   "cell_type": "code",
   "execution_count": 14,
   "metadata": {},
   "outputs": [
    {
     "data": {
      "text/plain": [
       "(180000, 394)"
      ]
     },
     "execution_count": 14,
     "metadata": {},
     "output_type": "execute_result"
    }
   ],
   "source": [
    "train_cat.shape"
   ]
  },
  {
   "cell_type": "code",
   "execution_count": 15,
   "metadata": {},
   "outputs": [],
   "source": [
    "train_cat = train_cat.drop(categorical_features.columns, axis=1)"
   ]
  },
  {
   "cell_type": "code",
   "execution_count": 16,
   "metadata": {},
   "outputs": [
    {
     "data": {
      "text/plain": [
       "(180000, 380)"
      ]
     },
     "execution_count": 16,
     "metadata": {},
     "output_type": "execute_result"
    }
   ],
   "source": [
    "train_cat.shape"
   ]
  },
  {
   "cell_type": "code",
   "execution_count": 17,
   "metadata": {},
   "outputs": [
    {
     "name": "stdout",
     "output_type": "stream",
     "text": [
      "x_train.shape = 144000 rows, 380 cols\n",
      "x_valid.shape = 36000 rows, 380 cols\n"
     ]
    }
   ],
   "source": [
    "x_train, x_valid = train_test_split(\n",
    "    train_cat, train_size=0.8, random_state=1\n",
    ")\n",
    "y_train, y_valid = train_test_split(\n",
    "    target, train_size=0.8, random_state=1\n",
    ")\n",
    "print(\"x_train.shape = {} rows, {} cols\".format(*x_train.shape))\n",
    "print(\"x_valid.shape = {} rows, {} cols\".format(*x_valid.shape))"
   ]
  },
  {
   "cell_type": "code",
   "execution_count": 18,
   "metadata": {},
   "outputs": [],
   "source": [
    "dtrain = xgb.DMatrix(\n",
    "    data=x_train, label=y_train\n",
    ")\n",
    "dvalid = xgb.DMatrix(\n",
    "    data=x_valid, label=y_valid\n",
    ")"
   ]
  },
  {
   "cell_type": "code",
   "execution_count": 19,
   "metadata": {},
   "outputs": [],
   "source": [
    "params = {\n",
    "    \"booster\": \"gbtree\",\n",
    "    \"objective\": \"binary:logistic\",\n",
    "    \"eval_metric\": \"auc\",\n",
    "    \"learning_rate\": 0.1,\n",
    "    \"n_estimators\": 1000,\n",
    "    \"reg_lambda\": 100,\n",
    "    \"max_depth\": 4,\n",
    "    \"gamma\": 10,\n",
    "    \"nthread\": 6,\n",
    "    \"seed\": 27\n",
    "}"
   ]
  },
  {
   "cell_type": "code",
   "execution_count": 20,
   "metadata": {},
   "outputs": [
    {
     "name": "stdout",
     "output_type": "stream",
     "text": [
      "[18:28:50] WARNING: C:\\Users\\Administrator\\workspace\\xgboost-win64_release_1.2.0\\src\\learner.cc:516: \n",
      "Parameters: { n_estimators } might not be used.\n",
      "\n",
      "  This may not be accurate due to some parameters are only used in language bindings but\n",
      "  passed down to XGBoost core.  Or some parameters are not used but slip through this\n",
      "  verification. Please open an issue if you find above cases.\n",
      "\n",
      "\n",
      "[18:28:50] WARNING: C:\\Users\\Administrator\\workspace\\xgboost-win64_release_1.2.0\\src\\learner.cc:516: \n",
      "Parameters: { n_estimators } might not be used.\n",
      "\n",
      "  This may not be accurate due to some parameters are only used in language bindings but\n",
      "  passed down to XGBoost core.  Or some parameters are not used but slip through this\n",
      "  verification. Please open an issue if you find above cases.\n",
      "\n",
      "\n",
      "[18:28:50] WARNING: C:\\Users\\Administrator\\workspace\\xgboost-win64_release_1.2.0\\src\\learner.cc:516: \n",
      "Parameters: { n_estimators } might not be used.\n",
      "\n",
      "  This may not be accurate due to some parameters are only used in language bindings but\n",
      "  passed down to XGBoost core.  Or some parameters are not used but slip through this\n",
      "  verification. Please open an issue if you find above cases.\n",
      "\n",
      "\n",
      "[0]\ttrain-auc:0.62383+0.00078\ttest-auc:0.62156+0.00532\n",
      "[25]\ttrain-auc:0.84212+0.00124\ttest-auc:0.83795+0.00293\n",
      "[50]\ttrain-auc:0.88113+0.00294\ttest-auc:0.87557+0.00472\n",
      "[75]\ttrain-auc:0.89375+0.00255\ttest-auc:0.88573+0.00569\n",
      "[100]\ttrain-auc:0.89881+0.00307\ttest-auc:0.88982+0.00488\n",
      "[125]\ttrain-auc:0.90265+0.00297\ttest-auc:0.89248+0.00516\n",
      "[150]\ttrain-auc:0.90289+0.00263\ttest-auc:0.89259+0.00528\n",
      "[175]\ttrain-auc:0.90289+0.00263\ttest-auc:0.89259+0.00528\n"
     ]
    }
   ],
   "source": [
    "model_xgb_cf = xgb.cv(\n",
    "    params=params,\n",
    "    dtrain=dtrain,\n",
    "    num_boost_round=500,\n",
    "    early_stopping_rounds=50,\n",
    "    verbose_eval=25,\n",
    "    stratified=True,\n",
    "    metrics=\"auc\",\n",
    "    maximize=True,\n",
    "    shuffle=True,\n",
    "    nfold=3,\n",
    ")"
   ]
  },
  {
   "cell_type": "markdown",
   "metadata": {},
   "source": [
    "**Задание 4:** для числовых признаков обучить модель LightGBM. Обучать алгоритм до тех пор, пока метрика качества не перестанет улучшаться на валидационной выборке в течение определенного числа итераций (выбрать значение самостоятельно)."
   ]
  },
  {
   "cell_type": "code",
   "execution_count": 21,
   "metadata": {},
   "outputs": [],
   "source": [
    "x_train, x_valid = train_test_split(\n",
    "    numerical_features, train_size=0.8, random_state=1\n",
    ")\n",
    "y_train, y_valid = train_test_split(\n",
    "    target, train_size=0.8, random_state=1\n",
    ")"
   ]
  },
  {
   "cell_type": "code",
   "execution_count": 22,
   "metadata": {},
   "outputs": [],
   "source": [
    "dtrain = lgb.Dataset(\n",
    "    data=x_train, label=y_train\n",
    ")\n",
    "dvalid = lgb.Dataset(\n",
    "    data=x_valid, label=y_valid\n",
    ")"
   ]
  },
  {
   "cell_type": "code",
   "execution_count": 23,
   "metadata": {},
   "outputs": [],
   "source": [
    "params = {\n",
    "    \"boosting_type\": \"goss\",\n",
    "    \"objective\": \"binary\",\n",
    "    \"metric\": \"auc\",\n",
    "    \"learning_rate\": 0.01,\n",
    "    \"n_estimators\": 10000,\n",
    "    \"n_jobs\": 6,\n",
    "    \"seed\": 27\n",
    "}"
   ]
  },
  {
   "cell_type": "code",
   "execution_count": 24,
   "metadata": {},
   "outputs": [
    {
     "name": "stdout",
     "output_type": "stream",
     "text": [
      "[LightGBM] [Info] Number of positive: 4139, number of negative: 139861\n",
      "[LightGBM] [Warning] Auto-choosing row-wise multi-threading, the overhead of testing was 0.076506 seconds.\n",
      "You can set `force_row_wise=true` to remove the overhead.\n",
      "And if memory is not enough, you can set `force_col_wise=true`.\n",
      "[LightGBM] [Info] Total Bins 31591\n",
      "[LightGBM] [Info] Number of data points in the train set: 144000, number of used features: 376\n",
      "[LightGBM] [Info] Using GOSS\n",
      "[LightGBM] [Info] [binary:BoostFromScore]: pavg=0.028743 -> initscore=-3.520195\n",
      "[LightGBM] [Info] Start training from score -3.520195\n",
      "Training until validation scores don't improve for 50 rounds\n",
      "[250]\ttraining's auc: 0.918873\tvalid_1's auc: 0.900764\n",
      "[500]\ttraining's auc: 0.944222\tvalid_1's auc: 0.919666\n",
      "[750]\ttraining's auc: 0.956513\tvalid_1's auc: 0.928522\n",
      "[1000]\ttraining's auc: 0.96491\tvalid_1's auc: 0.93473\n",
      "[1250]\ttraining's auc: 0.971182\tvalid_1's auc: 0.93837\n",
      "[1500]\ttraining's auc: 0.976402\tvalid_1's auc: 0.941549\n",
      "[1750]\ttraining's auc: 0.980631\tvalid_1's auc: 0.944279\n",
      "[2000]\ttraining's auc: 0.983645\tvalid_1's auc: 0.946121\n",
      "[2250]\ttraining's auc: 0.986256\tvalid_1's auc: 0.947875\n",
      "[2500]\ttraining's auc: 0.988393\tvalid_1's auc: 0.948975\n",
      "[2750]\ttraining's auc: 0.990069\tvalid_1's auc: 0.950012\n",
      "[3000]\ttraining's auc: 0.991474\tvalid_1's auc: 0.950972\n",
      "[3250]\ttraining's auc: 0.992694\tvalid_1's auc: 0.951795\n",
      "[3500]\ttraining's auc: 0.993719\tvalid_1's auc: 0.952347\n",
      "[3750]\ttraining's auc: 0.994509\tvalid_1's auc: 0.952693\n",
      "[4000]\ttraining's auc: 0.995239\tvalid_1's auc: 0.953177\n",
      "[4250]\ttraining's auc: 0.995811\tvalid_1's auc: 0.953589\n",
      "Early stopping, best iteration is:\n",
      "[4361]\ttraining's auc: 0.996043\tvalid_1's auc: 0.953768\n"
     ]
    }
   ],
   "source": [
    "model_lgbm_nf = lgb.train(\n",
    "    params=params,\n",
    "    train_set=dtrain,\n",
    "    num_boost_round=10000,\n",
    "    valid_sets=[dtrain, dvalid],\n",
    "    categorical_feature=\"auto\",\n",
    "    early_stopping_rounds=50,\n",
    "    verbose_eval=250\n",
    ")"
   ]
  },
  {
   "cell_type": "markdown",
   "metadata": {},
   "source": [
    "**Задание 5:** обработать категориальные признаки любым способом (который вы знаете) и добавить их к данным. Выполнить задание 4."
   ]
  },
  {
   "cell_type": "code",
   "execution_count": 25,
   "metadata": {},
   "outputs": [],
   "source": [
    "x_train, x_valid = train_test_split(\n",
    "    train_cat, train_size=0.8, random_state=1\n",
    ")\n",
    "y_train, y_valid = train_test_split(\n",
    "    target, train_size=0.8, random_state=1\n",
    ")"
   ]
  },
  {
   "cell_type": "code",
   "execution_count": 26,
   "metadata": {},
   "outputs": [],
   "source": [
    "dtrain = lgb.Dataset(\n",
    "    data=x_train, label=y_train\n",
    ")\n",
    "dvalid = lgb.Dataset(\n",
    "    data=x_valid, label=y_valid\n",
    ")"
   ]
  },
  {
   "cell_type": "code",
   "execution_count": 27,
   "metadata": {},
   "outputs": [
    {
     "name": "stdout",
     "output_type": "stream",
     "text": [
      "[LightGBM] [Info] Number of positive: 4139, number of negative: 139861\n",
      "[LightGBM] [Warning] Auto-choosing row-wise multi-threading, the overhead of testing was 0.063295 seconds.\n",
      "You can set `force_row_wise=true` to remove the overhead.\n",
      "And if memory is not enough, you can set `force_col_wise=true`.\n",
      "[LightGBM] [Info] Total Bins 31595\n",
      "[LightGBM] [Info] Number of data points in the train set: 144000, number of used features: 378\n",
      "[LightGBM] [Info] Using GOSS\n",
      "[LightGBM] [Info] [binary:BoostFromScore]: pavg=0.028743 -> initscore=-3.520195\n",
      "[LightGBM] [Info] Start training from score -3.520195\n",
      "Training until validation scores don't improve for 50 rounds\n",
      "[250]\ttraining's auc: 0.918873\tvalid_1's auc: 0.900764\n",
      "[500]\ttraining's auc: 0.944179\tvalid_1's auc: 0.919481\n",
      "[750]\ttraining's auc: 0.956511\tvalid_1's auc: 0.929131\n",
      "[1000]\ttraining's auc: 0.965255\tvalid_1's auc: 0.935059\n",
      "[1250]\ttraining's auc: 0.971172\tvalid_1's auc: 0.938889\n",
      "[1500]\ttraining's auc: 0.976302\tvalid_1's auc: 0.941838\n",
      "[1750]\ttraining's auc: 0.980668\tvalid_1's auc: 0.944321\n",
      "[2000]\ttraining's auc: 0.983889\tvalid_1's auc: 0.946514\n",
      "[2250]\ttraining's auc: 0.986297\tvalid_1's auc: 0.948173\n",
      "[2500]\ttraining's auc: 0.988289\tvalid_1's auc: 0.949558\n",
      "[2750]\ttraining's auc: 0.98997\tvalid_1's auc: 0.950548\n",
      "[3000]\ttraining's auc: 0.991368\tvalid_1's auc: 0.951223\n",
      "[3250]\ttraining's auc: 0.992632\tvalid_1's auc: 0.951823\n",
      "[3500]\ttraining's auc: 0.993604\tvalid_1's auc: 0.952527\n",
      "[3750]\ttraining's auc: 0.994503\tvalid_1's auc: 0.953091\n",
      "Early stopping, best iteration is:\n",
      "[3900]\ttraining's auc: 0.995011\tvalid_1's auc: 0.953384\n"
     ]
    }
   ],
   "source": [
    "model_lgbm_cf = lgb.train(\n",
    "    params=params,\n",
    "    train_set=dtrain,\n",
    "    num_boost_round=10000,\n",
    "    valid_sets=[dtrain, dvalid],\n",
    "    categorical_feature=\"auto\",\n",
    "    early_stopping_rounds=50,\n",
    "    verbose_eval=250\n",
    ")"
   ]
  },
  {
   "cell_type": "markdown",
   "metadata": {},
   "source": [
    "**Задание 6:** обработать категориальные признаки встроенным методом в LightGBM. Выполнить задание 4. Сделать выводы о качестве работы алгоритма, по сравнению с пунктом 5."
   ]
  },
  {
   "cell_type": "code",
   "execution_count": 28,
   "metadata": {},
   "outputs": [],
   "source": [
    "train_cat_cat = train.copy()"
   ]
  },
  {
   "cell_type": "code",
   "execution_count": 29,
   "metadata": {},
   "outputs": [],
   "source": [
    "for c in categorical_features:\n",
    "    train_cat_cat[c] = train_cat_cat[c].astype('category')"
   ]
  },
  {
   "cell_type": "code",
   "execution_count": 30,
   "metadata": {},
   "outputs": [],
   "source": [
    "x_train, x_valid = train_test_split(\n",
    "    train_cat_cat, train_size=0.8, random_state=1\n",
    ")\n",
    "y_train, y_valid = train_test_split(\n",
    "    target, train_size=0.8, random_state=1\n",
    ")"
   ]
  },
  {
   "cell_type": "code",
   "execution_count": 31,
   "metadata": {},
   "outputs": [],
   "source": [
    "cat_features = ['ProductCD', 'card4', 'card6', 'P_emaildomain', 'R_emaildomain', 'M1',\n",
    "       'M2', 'M3', 'M4', 'M5', 'M6', 'M7', 'M8', 'M9']"
   ]
  },
  {
   "cell_type": "code",
   "execution_count": 32,
   "metadata": {},
   "outputs": [],
   "source": [
    "dtrain = lgb.Dataset(\n",
    "    data=x_train, label=y_train, categorical_feature = cat_features\n",
    ")\n",
    "dvalid = lgb.Dataset(\n",
    "    data=x_valid, label=y_valid\n",
    ")"
   ]
  },
  {
   "cell_type": "code",
   "execution_count": 33,
   "metadata": {},
   "outputs": [
    {
     "name": "stdout",
     "output_type": "stream",
     "text": [
      "[LightGBM] [Info] Number of positive: 4139, number of negative: 139861\n",
      "[LightGBM] [Warning] Auto-choosing row-wise multi-threading, the overhead of testing was 0.064082 seconds.\n",
      "You can set `force_row_wise=true` to remove the overhead.\n",
      "And if memory is not enough, you can set `force_col_wise=true`.\n",
      "[LightGBM] [Info] Total Bins 31755\n",
      "[LightGBM] [Info] Number of data points in the train set: 144000, number of used features: 390\n",
      "[LightGBM] [Info] Using GOSS\n",
      "[LightGBM] [Info] [binary:BoostFromScore]: pavg=0.028743 -> initscore=-3.520195\n",
      "[LightGBM] [Info] Start training from score -3.520195\n",
      "Training until validation scores don't improve for 50 rounds\n",
      "[250]\ttraining's auc: 0.926908\tvalid_1's auc: 0.909239\n",
      "[500]\ttraining's auc: 0.951757\tvalid_1's auc: 0.927188\n",
      "[750]\ttraining's auc: 0.964871\tvalid_1's auc: 0.936713\n",
      "[1000]\ttraining's auc: 0.972807\tvalid_1's auc: 0.94183\n",
      "[1250]\ttraining's auc: 0.978737\tvalid_1's auc: 0.945283\n",
      "[1500]\ttraining's auc: 0.983219\tvalid_1's auc: 0.948374\n",
      "[1750]\ttraining's auc: 0.986667\tvalid_1's auc: 0.950623\n",
      "[2000]\ttraining's auc: 0.989152\tvalid_1's auc: 0.952264\n",
      "[2250]\ttraining's auc: 0.9911\tvalid_1's auc: 0.953445\n",
      "[2500]\ttraining's auc: 0.992604\tvalid_1's auc: 0.954438\n",
      "[2750]\ttraining's auc: 0.993932\tvalid_1's auc: 0.955107\n",
      "[3000]\ttraining's auc: 0.995054\tvalid_1's auc: 0.955704\n",
      "[3250]\ttraining's auc: 0.995932\tvalid_1's auc: 0.956252\n",
      "[3500]\ttraining's auc: 0.996655\tvalid_1's auc: 0.956775\n",
      "[3750]\ttraining's auc: 0.997245\tvalid_1's auc: 0.957321\n",
      "[4000]\ttraining's auc: 0.997698\tvalid_1's auc: 0.957831\n",
      "Early stopping, best iteration is:\n",
      "[4029]\ttraining's auc: 0.997737\tvalid_1's auc: 0.957959\n"
     ]
    }
   ],
   "source": [
    "model_lgbm_cat = lgb.train(\n",
    "    params=params,\n",
    "    train_set=dtrain,\n",
    "    num_boost_round=10000,\n",
    "    valid_sets=[dtrain, dvalid],\n",
    "    categorical_feature=cat_features,\n",
    "    early_stopping_rounds=50,\n",
    "    verbose_eval=250\n",
    ")"
   ]
  },
  {
   "cell_type": "markdown",
   "metadata": {},
   "source": [
    "При обработке категорий встроенным методом, качество обучения выше на 0,002 на трейне и 0,004 на вылидации"
   ]
  },
  {
   "cell_type": "markdown",
   "metadata": {},
   "source": [
    "**Задание 7:** для числовых признаков обучить модель CatBoost. Обучать алгоритм до тех пор, пока метрика качества не перестанет улучшаться на валидационной выборке в течение определенного числа итераций (выбрать значение самостоятельно)."
   ]
  },
  {
   "cell_type": "code",
   "execution_count": 34,
   "metadata": {},
   "outputs": [],
   "source": [
    "x_train, x_valid = train_test_split(\n",
    "    numerical_features, train_size=0.8, random_state=1\n",
    ")\n",
    "y_train, y_valid = train_test_split(\n",
    "    target, train_size=0.8, random_state=1\n",
    ")\n",
    "train_pool = cb.Pool(x_train, y_train)\n",
    "valid_pool = cb.Pool(x_valid, y_valid)"
   ]
  },
  {
   "cell_type": "code",
   "execution_count": 35,
   "metadata": {},
   "outputs": [],
   "source": [
    "cb_params = {\n",
    "    \"n_estimators\": 10000,\n",
    "    \"loss_function\": \"Logloss\",\n",
    "    \"eval_metric\": \"AUC\",\n",
    "    \"task_type\": \"CPU\",\n",
    "    \"max_bin\": 20,\n",
    "    \"verbose\": 200,\n",
    "    \"max_depth\": 6,\n",
    "    \"l2_leaf_reg\": 100,\n",
    "    \"early_stopping_rounds\": 50,\n",
    "    \"thread_count\": 6,\n",
    "    \"random_seed\": 42\n",
    "}"
   ]
  },
  {
   "cell_type": "code",
   "execution_count": 36,
   "metadata": {},
   "outputs": [
    {
     "name": "stdout",
     "output_type": "stream",
     "text": [
      "0:\ttest: 0.5988007\tbest: 0.5988007 (0)\ttotal: 104ms\tremaining: 17m 23s\n",
      "200:\ttest: 0.8722220\tbest: 0.8722220 (200)\ttotal: 12.2s\tremaining: 9m 54s\n",
      "400:\ttest: 0.8839140\tbest: 0.8839140 (400)\ttotal: 24.2s\tremaining: 9m 40s\n",
      "600:\ttest: 0.8854287\tbest: 0.8854292 (597)\ttotal: 35.2s\tremaining: 9m 10s\n",
      "800:\ttest: 0.8859115\tbest: 0.8859124 (794)\ttotal: 45.9s\tremaining: 8m 47s\n",
      "1000:\ttest: 0.8876637\tbest: 0.8876637 (1000)\ttotal: 57.1s\tremaining: 8m 33s\n",
      "1200:\ttest: 0.8904952\tbest: 0.8904952 (1200)\ttotal: 1m 8s\tremaining: 8m 22s\n",
      "1400:\ttest: 0.8912365\tbest: 0.8912365 (1400)\ttotal: 1m 19s\tremaining: 8m 8s\n",
      "1600:\ttest: 0.8931860\tbest: 0.8931860 (1600)\ttotal: 1m 30s\tremaining: 7m 55s\n",
      "1800:\ttest: 0.8961684\tbest: 0.8961684 (1800)\ttotal: 1m 42s\tremaining: 7m 46s\n",
      "2000:\ttest: 0.8981880\tbest: 0.8981880 (2000)\ttotal: 1m 54s\tremaining: 7m 35s\n",
      "2200:\ttest: 0.9001578\tbest: 0.9001578 (2200)\ttotal: 2m 5s\tremaining: 7m 23s\n",
      "2400:\ttest: 0.9017867\tbest: 0.9017867 (2400)\ttotal: 2m 16s\tremaining: 7m 11s\n",
      "2600:\ttest: 0.9034171\tbest: 0.9034171 (2600)\ttotal: 2m 27s\tremaining: 6m 59s\n",
      "2800:\ttest: 0.9047009\tbest: 0.9047021 (2799)\ttotal: 2m 38s\tremaining: 6m 46s\n",
      "3000:\ttest: 0.9057072\tbest: 0.9057072 (3000)\ttotal: 2m 49s\tremaining: 6m 35s\n",
      "3200:\ttest: 0.9071083\tbest: 0.9071116 (3186)\ttotal: 3m\tremaining: 6m 23s\n",
      "3400:\ttest: 0.9081309\tbest: 0.9081309 (3400)\ttotal: 3m 11s\tremaining: 6m 11s\n",
      "3600:\ttest: 0.9091490\tbest: 0.9091490 (3600)\ttotal: 3m 22s\tremaining: 5m 59s\n",
      "3800:\ttest: 0.9103521\tbest: 0.9103521 (3800)\ttotal: 3m 33s\tremaining: 5m 48s\n",
      "4000:\ttest: 0.9108438\tbest: 0.9108725 (3993)\ttotal: 3m 44s\tremaining: 5m 36s\n",
      "4200:\ttest: 0.9117870\tbest: 0.9117870 (4200)\ttotal: 3m 55s\tremaining: 5m 24s\n",
      "4400:\ttest: 0.9126858\tbest: 0.9126859 (4399)\ttotal: 4m 6s\tremaining: 5m 13s\n",
      "4600:\ttest: 0.9136847\tbest: 0.9136847 (4600)\ttotal: 4m 17s\tremaining: 5m 2s\n",
      "4800:\ttest: 0.9142663\tbest: 0.9142697 (4793)\ttotal: 4m 29s\tremaining: 4m 51s\n",
      "5000:\ttest: 0.9148835\tbest: 0.9148962 (4995)\ttotal: 4m 40s\tremaining: 4m 40s\n",
      "5200:\ttest: 0.9157120\tbest: 0.9157166 (5195)\ttotal: 4m 52s\tremaining: 4m 29s\n",
      "5400:\ttest: 0.9162953\tbest: 0.9163084 (5399)\ttotal: 5m 4s\tremaining: 4m 18s\n",
      "5600:\ttest: 0.9170485\tbest: 0.9170485 (5600)\ttotal: 5m 15s\tremaining: 4m 8s\n",
      "5800:\ttest: 0.9176769\tbest: 0.9176771 (5788)\ttotal: 5m 27s\tremaining: 3m 57s\n",
      "6000:\ttest: 0.9184069\tbest: 0.9184196 (5998)\ttotal: 5m 39s\tremaining: 3m 46s\n",
      "6200:\ttest: 0.9190380\tbest: 0.9190380 (6200)\ttotal: 5m 50s\tremaining: 3m 34s\n",
      "6400:\ttest: 0.9196139\tbest: 0.9196191 (6399)\ttotal: 6m 2s\tremaining: 3m 23s\n",
      "6600:\ttest: 0.9201444\tbest: 0.9201444 (6600)\ttotal: 6m 13s\tremaining: 3m 12s\n",
      "6800:\ttest: 0.9206420\tbest: 0.9206436 (6799)\ttotal: 6m 25s\tremaining: 3m 1s\n",
      "7000:\ttest: 0.9211694\tbest: 0.9211694 (6999)\ttotal: 6m 37s\tremaining: 2m 50s\n",
      "7200:\ttest: 0.9217397\tbest: 0.9217397 (7200)\ttotal: 6m 49s\tremaining: 2m 39s\n",
      "7400:\ttest: 0.9219767\tbest: 0.9219767 (7400)\ttotal: 6m 59s\tremaining: 2m 27s\n",
      "7600:\ttest: 0.9221573\tbest: 0.9221573 (7600)\ttotal: 7m 9s\tremaining: 2m 15s\n",
      "7800:\ttest: 0.9229624\tbest: 0.9229639 (7799)\ttotal: 7m 21s\tremaining: 2m 4s\n",
      "8000:\ttest: 0.9235154\tbest: 0.9235154 (8000)\ttotal: 7m 33s\tremaining: 1m 53s\n",
      "8200:\ttest: 0.9236807\tbest: 0.9236809 (8197)\ttotal: 7m 43s\tremaining: 1m 41s\n",
      "8400:\ttest: 0.9241288\tbest: 0.9241297 (8396)\ttotal: 7m 55s\tremaining: 1m 30s\n",
      "8600:\ttest: 0.9244339\tbest: 0.9244339 (8600)\ttotal: 8m 6s\tremaining: 1m 19s\n",
      "8800:\ttest: 0.9248803\tbest: 0.9248803 (8800)\ttotal: 8m 17s\tremaining: 1m 7s\n",
      "9000:\ttest: 0.9253703\tbest: 0.9253703 (8999)\ttotal: 8m 29s\tremaining: 56.5s\n",
      "Stopped by overfitting detector  (50 iterations wait)\n",
      "\n",
      "bestTest = 0.9254171952\n",
      "bestIteration = 9076\n",
      "\n",
      "Shrink model to first 9077 iterations.\n"
     ]
    },
    {
     "data": {
      "text/plain": [
       "<catboost.core.CatBoostClassifier at 0x2598342a248>"
      ]
     },
     "execution_count": 36,
     "metadata": {},
     "output_type": "execute_result"
    }
   ],
   "source": [
    "model_cat_nf = cb.CatBoostClassifier(**cb_params)\n",
    "model_cat_nf.fit(train_pool, eval_set=valid_pool)"
   ]
  },
  {
   "cell_type": "code",
   "execution_count": 37,
   "metadata": {},
   "outputs": [],
   "source": [
    "x_train, x_valid = train_test_split(\n",
    "    train_cat, train_size=0.8, random_state=1\n",
    ")\n",
    "y_train, y_valid = train_test_split(\n",
    "    target, train_size=0.8, random_state=1\n",
    ")\n",
    "\n",
    "train_pool = cb.Pool(x_train, y_train)\n",
    "valid_pool = cb.Pool(x_valid, y_valid)"
   ]
  },
  {
   "cell_type": "code",
   "execution_count": 38,
   "metadata": {},
   "outputs": [
    {
     "name": "stdout",
     "output_type": "stream",
     "text": [
      "0:\ttest: 0.6942472\tbest: 0.6942472 (0)\ttotal: 68.2ms\tremaining: 11m 22s\n",
      "200:\ttest: 0.8707715\tbest: 0.8707715 (200)\ttotal: 12.2s\tremaining: 9m 56s\n",
      "400:\ttest: 0.8829223\tbest: 0.8829223 (400)\ttotal: 24.3s\tremaining: 9m 41s\n",
      "600:\ttest: 0.8842564\tbest: 0.8842564 (600)\ttotal: 35.4s\tremaining: 9m 14s\n",
      "800:\ttest: 0.8845393\tbest: 0.8845393 (800)\ttotal: 46.2s\tremaining: 8m 50s\n",
      "1000:\ttest: 0.8880775\tbest: 0.8880775 (1000)\ttotal: 57.6s\tremaining: 8m 37s\n",
      "1200:\ttest: 0.8897252\tbest: 0.8897252 (1200)\ttotal: 1m 8s\tremaining: 8m 22s\n",
      "1400:\ttest: 0.8917493\tbest: 0.8917532 (1398)\ttotal: 1m 19s\tremaining: 8m 7s\n",
      "1600:\ttest: 0.8929125\tbest: 0.8929125 (1600)\ttotal: 1m 30s\tremaining: 7m 53s\n",
      "1800:\ttest: 0.8956452\tbest: 0.8956454 (1799)\ttotal: 1m 41s\tremaining: 7m 42s\n",
      "2000:\ttest: 0.8974902\tbest: 0.8974902 (2000)\ttotal: 1m 52s\tremaining: 7m 31s\n",
      "2200:\ttest: 0.8997221\tbest: 0.8997221 (2200)\ttotal: 2m 4s\tremaining: 7m 21s\n",
      "2400:\ttest: 0.9009615\tbest: 0.9009615 (2400)\ttotal: 2m 15s\tremaining: 7m 9s\n",
      "2600:\ttest: 0.9026175\tbest: 0.9026175 (2600)\ttotal: 2m 26s\tremaining: 6m 58s\n",
      "2800:\ttest: 0.9040593\tbest: 0.9040793 (2797)\ttotal: 2m 38s\tremaining: 6m 46s\n",
      "3000:\ttest: 0.9055553\tbest: 0.9055593 (2984)\ttotal: 2m 49s\tremaining: 6m 34s\n",
      "3200:\ttest: 0.9069514\tbest: 0.9069514 (3200)\ttotal: 3m\tremaining: 6m 23s\n",
      "3400:\ttest: 0.9080015\tbest: 0.9080015 (3400)\ttotal: 3m 11s\tremaining: 6m 12s\n",
      "3600:\ttest: 0.9087797\tbest: 0.9087797 (3600)\ttotal: 3m 23s\tremaining: 6m\n",
      "3800:\ttest: 0.9097293\tbest: 0.9097293 (3800)\ttotal: 3m 34s\tremaining: 5m 49s\n",
      "4000:\ttest: 0.9106916\tbest: 0.9106954 (3992)\ttotal: 3m 45s\tremaining: 5m 38s\n",
      "4200:\ttest: 0.9117697\tbest: 0.9117697 (4200)\ttotal: 3m 57s\tremaining: 5m 27s\n",
      "4400:\ttest: 0.9127641\tbest: 0.9127641 (4400)\ttotal: 4m 8s\tremaining: 5m 16s\n",
      "4600:\ttest: 0.9138205\tbest: 0.9138205 (4600)\ttotal: 4m 20s\tremaining: 5m 5s\n",
      "4800:\ttest: 0.9144492\tbest: 0.9144512 (4798)\ttotal: 4m 31s\tremaining: 4m 54s\n",
      "5000:\ttest: 0.9149488\tbest: 0.9149488 (5000)\ttotal: 4m 42s\tremaining: 4m 42s\n",
      "5200:\ttest: 0.9155592\tbest: 0.9155598 (5198)\ttotal: 4m 54s\tremaining: 4m 31s\n",
      "5400:\ttest: 0.9160817\tbest: 0.9160850 (5358)\ttotal: 5m 5s\tremaining: 4m 19s\n",
      "5600:\ttest: 0.9167773\tbest: 0.9167791 (5597)\ttotal: 5m 16s\tremaining: 4m 8s\n",
      "5800:\ttest: 0.9174029\tbest: 0.9174120 (5791)\ttotal: 5m 27s\tremaining: 3m 57s\n",
      "6000:\ttest: 0.9181734\tbest: 0.9181734 (6000)\ttotal: 5m 39s\tremaining: 3m 46s\n",
      "6200:\ttest: 0.9189036\tbest: 0.9189038 (6196)\ttotal: 5m 51s\tremaining: 3m 35s\n",
      "6400:\ttest: 0.9191628\tbest: 0.9191628 (6400)\ttotal: 6m 2s\tremaining: 3m 23s\n",
      "6600:\ttest: 0.9196833\tbest: 0.9196833 (6599)\ttotal: 6m 14s\tremaining: 3m 12s\n",
      "6800:\ttest: 0.9200746\tbest: 0.9200754 (6799)\ttotal: 6m 25s\tremaining: 3m 1s\n",
      "7000:\ttest: 0.9206906\tbest: 0.9206913 (6993)\ttotal: 6m 37s\tremaining: 2m 50s\n",
      "7200:\ttest: 0.9211305\tbest: 0.9211305 (7200)\ttotal: 6m 48s\tremaining: 2m 38s\n",
      "7400:\ttest: 0.9216905\tbest: 0.9216910 (7397)\ttotal: 7m 1s\tremaining: 2m 27s\n",
      "Stopped by overfitting detector  (50 iterations wait)\n",
      "\n",
      "bestTest = 0.9217420779\n",
      "bestIteration = 7457\n",
      "\n",
      "Shrink model to first 7458 iterations.\n"
     ]
    },
    {
     "data": {
      "text/plain": [
       "<catboost.core.CatBoostClassifier at 0x2598342a648>"
      ]
     },
     "execution_count": 38,
     "metadata": {},
     "output_type": "execute_result"
    }
   ],
   "source": [
    "model_cat_cf = cb.CatBoostClassifier(**cb_params)\n",
    "model_cat_cf.fit(train_pool, eval_set=valid_pool)"
   ]
  },
  {
   "cell_type": "markdown",
   "metadata": {},
   "source": [
    "**Задание 9:** обработать категориальные признаки встроенным методом в CatBoost. Выполнить задание 7. Сделать выводы о качестве работы алгоритма, по сравнению с пунктом 8."
   ]
  },
  {
   "cell_type": "code",
   "execution_count": 39,
   "metadata": {},
   "outputs": [],
   "source": [
    "train_cat_str = train.copy()"
   ]
  },
  {
   "cell_type": "code",
   "execution_count": 40,
   "metadata": {},
   "outputs": [],
   "source": [
    "for c in categorical_features:\n",
    "    train_cat_str[c] = train_cat_str[c].astype('str')"
   ]
  },
  {
   "cell_type": "code",
   "execution_count": 41,
   "metadata": {},
   "outputs": [],
   "source": [
    "x_train, x_valid = train_test_split(\n",
    "    train_cat_str, train_size=0.8, random_state=1\n",
    ")\n",
    "y_train, y_valid = train_test_split(\n",
    "    target, train_size=0.8, random_state=1\n",
    ")\n",
    "\n",
    "\n",
    "train_pool = cb.Pool(x_train, y_train, cat_features = cat_features)\n",
    "valid_pool = cb.Pool(x_valid, y_valid, cat_features = cat_features)"
   ]
  },
  {
   "cell_type": "code",
   "execution_count": 42,
   "metadata": {},
   "outputs": [
    {
     "name": "stdout",
     "output_type": "stream",
     "text": [
      "0:\ttest: 0.7531850\tbest: 0.7531850 (0)\ttotal: 256ms\tremaining: 42m 44s\n",
      "200:\ttest: 0.8773895\tbest: 0.8773895 (200)\ttotal: 45.6s\tremaining: 37m 3s\n",
      "400:\ttest: 0.8891383\tbest: 0.8891383 (400)\ttotal: 1m 30s\tremaining: 36m 2s\n",
      "600:\ttest: 0.8923420\tbest: 0.8923460 (568)\ttotal: 2m 13s\tremaining: 34m 54s\n",
      "Stopped by overfitting detector  (50 iterations wait)\n",
      "\n",
      "bestTest = 0.8923460154\n",
      "bestIteration = 568\n",
      "\n",
      "Shrink model to first 569 iterations.\n"
     ]
    },
    {
     "data": {
      "text/plain": [
       "<catboost.core.CatBoostClassifier at 0x259f3c54088>"
      ]
     },
     "execution_count": 42,
     "metadata": {},
     "output_type": "execute_result"
    }
   ],
   "source": [
    "model_cat_cat = cb.CatBoostClassifier(**cb_params)\n",
    "model_cat_cat.fit(train_pool, eval_set=valid_pool)"
   ]
  },
  {
   "cell_type": "markdown",
   "metadata": {},
   "source": [
    "Модель показала результат лучше на предобработанных категориях"
   ]
  },
  {
   "cell_type": "markdown",
   "metadata": {},
   "source": [
    "**Задание 10:** построить ROC-кривую для всех построенных алгоритмов на обучающей и тестовой выборке. Сделать выводы о работе алгоритмов с точки зрения качества на тестовой выборке и с точки зрения переобучения."
   ]
  },
  {
   "cell_type": "code",
   "execution_count": 43,
   "metadata": {},
   "outputs": [],
   "source": [
    "test_target = test['isFraud']\n",
    "test = test.drop(['isFraud', 'TransactionID'], axis=1)\n",
    "\n",
    "test_numerical_features = test.select_dtypes(include=[np.number])\n",
    "\n",
    "categorical_features = train.select_dtypes(include=[np.object])\n",
    "\n",
    "for cat_colname in test.select_dtypes(include='object').columns[1:]:\n",
    "    test_cat = pd.concat([test, pd.get_dummies(test[cat_colname], prefix=cat_colname)], axis=1)\n",
    "\n",
    "test_cat = test_cat.drop(categorical_features.columns, axis=1)\n",
    "\n",
    "test_cat_cat = test.copy()\n",
    "\n",
    "for c in categorical_features:\n",
    "    test_cat_cat[c] = test_cat_cat[c].astype('category')\n",
    "    \n",
    "\n",
    "test_cat_str = train.copy()\n",
    "\n",
    "for c in categorical_features:\n",
    "    test_cat_str[c] = test_cat_str[c].astype('str')\n",
    "    \n",
    "    "
   ]
  },
  {
   "cell_type": "code",
   "execution_count": 49,
   "metadata": {},
   "outputs": [],
   "source": [
    "test_xgb_nf = xgb.DMatrix(data=test_numerical_features)\n",
    "test_xgb_cf = xgb.DMatrix(data=test_cat)\n",
    "\n",
    "test_lgbm_nf = lgb.Dataset(data=test_numerical_features)\n",
    "test_lgbm_cf = lgb.Dataset(data=test_cat)\n",
    "test_lgbm_nf = lgb.Dataset(data=test_cat_cat, categorical_feature = cat_features)\n",
    "\n",
    "test_cat_nf = cb.Pool(test_numerical_features)\n",
    "test_cat_cf = cb.Pool(test_cat)\n",
    "test_cat_cat = cb.Pool(test_cat_str, cat_features = cat_features)"
   ]
  },
  {
   "cell_type": "code",
   "execution_count": 52,
   "metadata": {
    "scrolled": true
   },
   "outputs": [
    {
     "ename": "AttributeError",
     "evalue": "'DataFrame' object has no attribute 'predict'",
     "output_type": "error",
     "traceback": [
      "\u001b[1;31m---------------------------------------------------------------------------\u001b[0m",
      "\u001b[1;31mAttributeError\u001b[0m                            Traceback (most recent call last)",
      "\u001b[1;32m<ipython-input-52-dfe57bd367f5>\u001b[0m in \u001b[0;36m<module>\u001b[1;34m\u001b[0m\n\u001b[0;32m      1\u001b[0m \u001b[0mfig\u001b[0m \u001b[1;33m=\u001b[0m \u001b[0mplt\u001b[0m\u001b[1;33m.\u001b[0m\u001b[0mfigure\u001b[0m\u001b[1;33m(\u001b[0m\u001b[0mfigsize\u001b[0m\u001b[1;33m=\u001b[0m\u001b[1;33m(\u001b[0m\u001b[1;36m25\u001b[0m\u001b[1;33m,\u001b[0m \u001b[1;36m15\u001b[0m\u001b[1;33m)\u001b[0m\u001b[1;33m)\u001b[0m\u001b[1;33m\u001b[0m\u001b[1;33m\u001b[0m\u001b[0m\n\u001b[0;32m      2\u001b[0m \u001b[1;33m\u001b[0m\u001b[0m\n\u001b[1;32m----> 3\u001b[1;33m \u001b[0mpred\u001b[0m \u001b[1;33m=\u001b[0m \u001b[0mmodel_xgb_nf\u001b[0m\u001b[1;33m.\u001b[0m\u001b[0mpredict\u001b[0m\u001b[1;33m(\u001b[0m\u001b[0mxgb\u001b[0m\u001b[1;33m.\u001b[0m\u001b[0mDMatrix\u001b[0m\u001b[1;33m(\u001b[0m\u001b[0mdata\u001b[0m\u001b[1;33m=\u001b[0m\u001b[0mtest_numerical_features\u001b[0m\u001b[1;33m)\u001b[0m\u001b[1;33m)\u001b[0m\u001b[1;33m\u001b[0m\u001b[1;33m\u001b[0m\u001b[0m\n\u001b[0m\u001b[0;32m      4\u001b[0m \u001b[0mfpr\u001b[0m\u001b[1;33m,\u001b[0m \u001b[0mtpr\u001b[0m\u001b[1;33m,\u001b[0m \u001b[0m_\u001b[0m \u001b[1;33m=\u001b[0m \u001b[0mroc_curve\u001b[0m\u001b[1;33m(\u001b[0m\u001b[0mtest_target\u001b[0m\u001b[1;33m,\u001b[0m \u001b[0mpred\u001b[0m\u001b[1;33m)\u001b[0m\u001b[1;33m\u001b[0m\u001b[1;33m\u001b[0m\u001b[0m\n\u001b[0;32m      5\u001b[0m \u001b[0mroc_auc\u001b[0m \u001b[1;33m=\u001b[0m \u001b[0mauc\u001b[0m\u001b[1;33m(\u001b[0m\u001b[0mfpr\u001b[0m\u001b[1;33m,\u001b[0m \u001b[0mtpr\u001b[0m\u001b[1;33m)\u001b[0m\u001b[1;33m\u001b[0m\u001b[1;33m\u001b[0m\u001b[0m\n",
      "\u001b[1;32m~\\Anaconda3\\lib\\site-packages\\pandas\\core\\generic.py\u001b[0m in \u001b[0;36m__getattr__\u001b[1;34m(self, name)\u001b[0m\n\u001b[0;32m   5272\u001b[0m             \u001b[1;32mif\u001b[0m \u001b[0mself\u001b[0m\u001b[1;33m.\u001b[0m\u001b[0m_info_axis\u001b[0m\u001b[1;33m.\u001b[0m\u001b[0m_can_hold_identifiers_and_holds_name\u001b[0m\u001b[1;33m(\u001b[0m\u001b[0mname\u001b[0m\u001b[1;33m)\u001b[0m\u001b[1;33m:\u001b[0m\u001b[1;33m\u001b[0m\u001b[1;33m\u001b[0m\u001b[0m\n\u001b[0;32m   5273\u001b[0m                 \u001b[1;32mreturn\u001b[0m \u001b[0mself\u001b[0m\u001b[1;33m[\u001b[0m\u001b[0mname\u001b[0m\u001b[1;33m]\u001b[0m\u001b[1;33m\u001b[0m\u001b[1;33m\u001b[0m\u001b[0m\n\u001b[1;32m-> 5274\u001b[1;33m             \u001b[1;32mreturn\u001b[0m \u001b[0mobject\u001b[0m\u001b[1;33m.\u001b[0m\u001b[0m__getattribute__\u001b[0m\u001b[1;33m(\u001b[0m\u001b[0mself\u001b[0m\u001b[1;33m,\u001b[0m \u001b[0mname\u001b[0m\u001b[1;33m)\u001b[0m\u001b[1;33m\u001b[0m\u001b[1;33m\u001b[0m\u001b[0m\n\u001b[0m\u001b[0;32m   5275\u001b[0m \u001b[1;33m\u001b[0m\u001b[0m\n\u001b[0;32m   5276\u001b[0m     \u001b[1;32mdef\u001b[0m \u001b[0m__setattr__\u001b[0m\u001b[1;33m(\u001b[0m\u001b[0mself\u001b[0m\u001b[1;33m,\u001b[0m \u001b[0mname\u001b[0m\u001b[1;33m:\u001b[0m \u001b[0mstr\u001b[0m\u001b[1;33m,\u001b[0m \u001b[0mvalue\u001b[0m\u001b[1;33m)\u001b[0m \u001b[1;33m->\u001b[0m \u001b[1;32mNone\u001b[0m\u001b[1;33m:\u001b[0m\u001b[1;33m\u001b[0m\u001b[1;33m\u001b[0m\u001b[0m\n",
      "\u001b[1;31mAttributeError\u001b[0m: 'DataFrame' object has no attribute 'predict'"
     ]
    },
    {
     "data": {
      "text/plain": [
       "<Figure size 1800x1080 with 0 Axes>"
      ]
     },
     "metadata": {},
     "output_type": "display_data"
    }
   ],
   "source": [
    "fig = plt.figure(figsize=(25, 15))\n",
    "\n",
    "pred = model_xgb_nf.predict(xgb.DMatrix(data=test_numerical_features))\n",
    "fpr, tpr, _ = roc_curve(test_target, pred)\n",
    "roc_auc = auc(fpr, tpr)\n",
    "plt.plot(fpr, tpr, label='test_xgb_num (area = %0.6f)' % roc_auc)\n",
    "\n",
    "pred = model_xgb_cf.predict(test_xgb_cf)\n",
    "fpr, tpr, _ = roc_curve(y_test, pred)\n",
    "roc_auc = auc(fpr, tpr)\n",
    "plt.plot(fpr, tpr, label='dtest_xgb_num_cat (area = %0.6f)' % roc_auc)\n",
    "\n",
    "fig = plt.figure(figsize=(25, 15))\n",
    "\n",
    "pred = model_lgbm_nf.predict(test_lgbm_nf)\n",
    "fpr, tpr, _ = roc_curve(test_target, pred)\n",
    "roc_auc = auc(fpr, tpr)\n",
    "plt.plot(fpr, tpr, label='test_lgbm_num (area = %0.6f)' % roc_auc)\n",
    "\n",
    "\n",
    "pred = model_lgbm_cf.predict(test_lgbm_cf)\n",
    "fpr, tpr, _ = roc_curve(test_target, pred)\n",
    "roc_auc = auc(fpr, tpr)\n",
    "plt.plot(fpr, tpr, label='test_lgbm_cat (area = %0.6f)' % roc_auc)\n",
    "\n",
    "pred = model_lgbm_cat.predict(test_lgbm_cat)\n",
    "fpr, tpr, _ = roc_curve(test_target, pred)\n",
    "roc_auc = auc(fpr, tpr)\n",
    "plt.plot(fpr, tpr, label='test_lgbm_categorical (area = %0.6f)' % roc_auc)\n",
    "\n",
    "\n",
    "\n",
    "pred = model_cat_nf.predict(test_cat_nf)\n",
    "fpr, tpr, _ = roc_curve(test_target, pred)\n",
    "roc_auc = auc(fpr, tpr)\n",
    "plt.plot(fpr, tpr, label='test_cat_num (area = %0.6f)' % roc_auc)\n",
    "\n",
    "pred = model_cat_cf.predict(test_cat_cf)\n",
    "fpr, tpr, _ = roc_curve(test_target, pred)\n",
    "roc_auc = auc(fpr, tpr)\n",
    "plt.plot(fpr, tpr, label='test_cat_cat (area = %0.6f)' % roc_auc)\n",
    "\n",
    "pred = model_cat_cat.predict(test_cat_cat)\n",
    "fpr, tpr, _ = roc_curve(test_target, pred)\n",
    "roc_auc = auc(fpr, tpr)\n",
    "plt.plot(fpr, tpr, label='test_cat_categorical (area = %0.6f)' % roc_auc)\n",
    "\n",
    "\n",
    "plt.plot([0, 1], [0, 1], color='red', linestyle='*')\n",
    "plt.xlim([0.0, 1.0])\n",
    "plt.ylim([0.0, 1.05])\n",
    "plt.xlabel('False Positive Rate')\n",
    "plt.ylabel('True Positive Rate')\n",
    "plt.legend(loc=\"lower right\")\n",
    "plt.show()"
   ]
  },
  {
   "cell_type": "code",
   "execution_count": null,
   "metadata": {},
   "outputs": [],
   "source": []
  }
 ],
 "metadata": {
  "kernelspec": {
   "display_name": "Python 3",
   "language": "python",
   "name": "python3"
  },
  "language_info": {
   "codemirror_mode": {
    "name": "ipython",
    "version": 3
   },
   "file_extension": ".py",
   "mimetype": "text/x-python",
   "name": "python",
   "nbconvert_exporter": "python",
   "pygments_lexer": "ipython3",
   "version": "3.7.6"
  }
 },
 "nbformat": 4,
 "nbformat_minor": 4
}
