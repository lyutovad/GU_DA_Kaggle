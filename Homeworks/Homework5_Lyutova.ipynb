{
 "cells": [
  {
   "cell_type": "code",
   "execution_count": 1,
   "metadata": {},
   "outputs": [],
   "source": [
    "import warnings\n",
    "warnings.simplefilter(\"ignore\")\n",
    "\n",
    "import pandas as pd\n",
    "import numpy as np\n",
    "\n",
    "import catboost as cb\n",
    "\n",
    "from sklearn.metrics import f1_score, roc_auc_score\n",
    "from sklearn.model_selection import train_test_split\n",
    "\n",
    "import datetime\n",
    "from datetime import datetime, date"
   ]
  },
  {
   "cell_type": "code",
   "execution_count": 2,
   "metadata": {},
   "outputs": [],
   "source": [
    "data = pd.read_csv('assignment_2_train.csv')"
   ]
  },
  {
   "cell_type": "code",
   "execution_count": 3,
   "metadata": {},
   "outputs": [
    {
     "data": {
      "text/html": [
       "<div>\n",
       "<style scoped>\n",
       "    .dataframe tbody tr th:only-of-type {\n",
       "        vertical-align: middle;\n",
       "    }\n",
       "\n",
       "    .dataframe tbody tr th {\n",
       "        vertical-align: top;\n",
       "    }\n",
       "\n",
       "    .dataframe thead th {\n",
       "        text-align: right;\n",
       "    }\n",
       "</style>\n",
       "<table border=\"1\" class=\"dataframe\">\n",
       "  <thead>\n",
       "    <tr style=\"text-align: right;\">\n",
       "      <th></th>\n",
       "      <th>TransactionID</th>\n",
       "      <th>isFraud</th>\n",
       "      <th>TransactionDT</th>\n",
       "      <th>TransactionAmt</th>\n",
       "      <th>ProductCD</th>\n",
       "      <th>card1</th>\n",
       "      <th>card2</th>\n",
       "      <th>card3</th>\n",
       "      <th>card4</th>\n",
       "      <th>card5</th>\n",
       "      <th>...</th>\n",
       "      <th>V330</th>\n",
       "      <th>V331</th>\n",
       "      <th>V332</th>\n",
       "      <th>V333</th>\n",
       "      <th>V334</th>\n",
       "      <th>V335</th>\n",
       "      <th>V336</th>\n",
       "      <th>V337</th>\n",
       "      <th>V338</th>\n",
       "      <th>V339</th>\n",
       "    </tr>\n",
       "  </thead>\n",
       "  <tbody>\n",
       "    <tr>\n",
       "      <th>0</th>\n",
       "      <td>2987000</td>\n",
       "      <td>0</td>\n",
       "      <td>86400</td>\n",
       "      <td>68.5</td>\n",
       "      <td>W</td>\n",
       "      <td>13926</td>\n",
       "      <td>NaN</td>\n",
       "      <td>150.0</td>\n",
       "      <td>discover</td>\n",
       "      <td>142.0</td>\n",
       "      <td>...</td>\n",
       "      <td>NaN</td>\n",
       "      <td>NaN</td>\n",
       "      <td>NaN</td>\n",
       "      <td>NaN</td>\n",
       "      <td>NaN</td>\n",
       "      <td>NaN</td>\n",
       "      <td>NaN</td>\n",
       "      <td>NaN</td>\n",
       "      <td>NaN</td>\n",
       "      <td>NaN</td>\n",
       "    </tr>\n",
       "    <tr>\n",
       "      <th>1</th>\n",
       "      <td>2987001</td>\n",
       "      <td>0</td>\n",
       "      <td>86401</td>\n",
       "      <td>29.0</td>\n",
       "      <td>W</td>\n",
       "      <td>2755</td>\n",
       "      <td>404.0</td>\n",
       "      <td>150.0</td>\n",
       "      <td>mastercard</td>\n",
       "      <td>102.0</td>\n",
       "      <td>...</td>\n",
       "      <td>NaN</td>\n",
       "      <td>NaN</td>\n",
       "      <td>NaN</td>\n",
       "      <td>NaN</td>\n",
       "      <td>NaN</td>\n",
       "      <td>NaN</td>\n",
       "      <td>NaN</td>\n",
       "      <td>NaN</td>\n",
       "      <td>NaN</td>\n",
       "      <td>NaN</td>\n",
       "    </tr>\n",
       "  </tbody>\n",
       "</table>\n",
       "<p>2 rows × 394 columns</p>\n",
       "</div>"
      ],
      "text/plain": [
       "   TransactionID  isFraud  TransactionDT  TransactionAmt ProductCD  card1  \\\n",
       "0        2987000        0          86400            68.5         W  13926   \n",
       "1        2987001        0          86401            29.0         W   2755   \n",
       "\n",
       "   card2  card3       card4  card5  ... V330  V331  V332  V333  V334 V335  \\\n",
       "0    NaN  150.0    discover  142.0  ...  NaN   NaN   NaN   NaN   NaN  NaN   \n",
       "1  404.0  150.0  mastercard  102.0  ...  NaN   NaN   NaN   NaN   NaN  NaN   \n",
       "\n",
       "  V336  V337  V338  V339  \n",
       "0  NaN   NaN   NaN   NaN  \n",
       "1  NaN   NaN   NaN   NaN  \n",
       "\n",
       "[2 rows x 394 columns]"
      ]
     },
     "execution_count": 3,
     "metadata": {},
     "output_type": "execute_result"
    }
   ],
   "source": [
    "data.head(2)"
   ]
  },
  {
   "cell_type": "code",
   "execution_count": 4,
   "metadata": {},
   "outputs": [
    {
     "data": {
      "text/plain": [
       "(180000, 394)"
      ]
     },
     "execution_count": 4,
     "metadata": {},
     "output_type": "execute_result"
    }
   ],
   "source": [
    "data.shape"
   ]
  },
  {
   "cell_type": "markdown",
   "metadata": {},
   "source": [
    "**Задание 0:** выбрать любую модель машнного обучения и зафиксировать любой тип валидации. Обучить базовую модель и зафиксировать базовое качество модели. В каждом следующем задании нужно будет обучить выбранную модель и оценивать ее качество на зафиксированной схеме валидации. После каждого задания, требуется сделать вывод о достигаемом качестве модели, по сравнению с качестом из предыдущего шага."
   ]
  },
  {
   "cell_type": "code",
   "execution_count": 5,
   "metadata": {},
   "outputs": [],
   "source": [
    "target = data['isFraud']\n",
    "\n",
    "data.drop(['isFraud', 'TransactionID'], axis=1, inplace=True)"
   ]
  },
  {
   "cell_type": "code",
   "execution_count": 6,
   "metadata": {},
   "outputs": [
    {
     "name": "stdout",
     "output_type": "stream",
     "text": [
      "Всего категориальных признаков 14\n"
     ]
    }
   ],
   "source": [
    "categorical_features = data.select_dtypes(include=[np.object])\n",
    "print(f'Всего категориальных признаков {categorical_features.shape[1]}')\n",
    "# categorical_features = categorical_features.columns.tolist()"
   ]
  },
  {
   "cell_type": "code",
   "execution_count": 7,
   "metadata": {},
   "outputs": [],
   "source": [
    "for col in categorical_features:\n",
    "    data[col] = data[col].astype(str)"
   ]
  },
  {
   "cell_type": "code",
   "execution_count": 8,
   "metadata": {},
   "outputs": [],
   "source": [
    "x_train, x_valid, y_train, y_valid = train_test_split(\n",
    "    data, target, train_size=0.7, shuffle=True, random_state=1,\n",
    ")"
   ]
  },
  {
   "cell_type": "code",
   "execution_count": 9,
   "metadata": {},
   "outputs": [],
   "source": [
    "train_pool = cb.Pool(x_train, y_train, cat_features=categorical_features)\n",
    "valid_pool = cb.Pool(x_valid, y_valid, cat_features=categorical_features)"
   ]
  },
  {
   "cell_type": "code",
   "execution_count": 10,
   "metadata": {},
   "outputs": [
    {
     "name": "stdout",
     "output_type": "stream",
     "text": [
      "0:\ttest: 0.6645044\ttest1: 0.6640967\tbest: 0.6640967 (0)\ttotal: 348ms\tremaining: 5m 48s\n",
      "100:\ttest: 0.8626380\ttest1: 0.8568925\tbest: 0.8568925 (100)\ttotal: 25.7s\tremaining: 3m 48s\n",
      "200:\ttest: 0.8851982\ttest1: 0.8778457\tbest: 0.8778457 (200)\ttotal: 51s\tremaining: 3m 22s\n",
      "300:\ttest: 0.8968462\ttest1: 0.8875002\tbest: 0.8875002 (300)\ttotal: 1m 16s\tremaining: 2m 58s\n",
      "400:\ttest: 0.9003293\ttest1: 0.8903009\tbest: 0.8903009 (400)\ttotal: 1m 41s\tremaining: 2m 31s\n",
      "500:\ttest: 0.9030912\ttest1: 0.8922876\tbest: 0.8922876 (500)\ttotal: 2m 5s\tremaining: 2m 5s\n",
      "600:\ttest: 0.9062248\ttest1: 0.8946995\tbest: 0.8947030 (599)\ttotal: 2m 30s\tremaining: 1m 40s\n",
      "700:\ttest: 0.9078557\ttest1: 0.8959960\tbest: 0.8960067 (666)\ttotal: 2m 55s\tremaining: 1m 14s\n",
      "800:\ttest: 0.9079064\ttest1: 0.8960219\tbest: 0.8960221 (797)\ttotal: 3m 21s\tremaining: 49.9s\n",
      "900:\ttest: 0.9081127\ttest1: 0.8962543\tbest: 0.8962553 (854)\ttotal: 3m 45s\tremaining: 24.8s\n",
      "999:\ttest: 0.9086295\ttest1: 0.8967270\tbest: 0.8967292 (965)\ttotal: 4m 10s\tremaining: 0us\n",
      "\n",
      "bestTest = 0.8967291635\n",
      "bestIteration = 965\n",
      "\n",
      "Shrink model to first 966 iterations.\n"
     ]
    },
    {
     "data": {
      "text/plain": [
       "<catboost.core.CatBoostClassifier at 0x29082a3c808>"
      ]
     },
     "execution_count": 10,
     "metadata": {},
     "output_type": "execute_result"
    }
   ],
   "source": [
    "model = cb.CatBoostClassifier(**cb_params)\n",
    "model.fit(x_train, y_train, eval_set=[(x_train, y_train), (x_valid, y_valid)])"
   ]
  },
  {
   "cell_type": "markdown",
   "metadata": {},
   "source": [
    "**Задание 1:** признак TransactionDT - это смещение в секундах относительно базовой даты. Базовая дата - 2017-12-01, преобразовать признак TransactionDT в datetime, прибавив к базовой дате исходное значение признака. Из полученного признака выделить год, месяц, день недели, час, день."
   ]
  },
  {
   "cell_type": "code",
   "execution_count": 11,
   "metadata": {},
   "outputs": [
    {
     "name": "stdout",
     "output_type": "stream",
     "text": [
      "1512075600\n"
     ]
    }
   ],
   "source": [
    "base_date = int(datetime(2017, 12, 1).timestamp())\n",
    "print(base_date)"
   ]
  },
  {
   "cell_type": "code",
   "execution_count": 12,
   "metadata": {},
   "outputs": [],
   "source": [
    "def change_date(df, feature):\n",
    "    df[feature] = pd.to_datetime(df[feature] + base_date)\n",
    "    df['Year'] = df[feature].dt.year\n",
    "    df['Month'] = df[feature].dt.month\n",
    "    df['Day_of_week'] = df[feature].dt.weekday\n",
    "    df['Hour'] = df[feature].dt.hour\n",
    "    df['Day'] = df[feature].dt.day\n",
    "    df.drop([feature], axis=1, inplace=True)\n",
    "    return df"
   ]
  },
  {
   "cell_type": "code",
   "execution_count": 13,
   "metadata": {},
   "outputs": [],
   "source": [
    "x_train = change_date(x_train, \"TransactionDT\")\n",
    "x_valid = change_date(x_valid, \"TransactionDT\")"
   ]
  },
  {
   "cell_type": "code",
   "execution_count": 14,
   "metadata": {},
   "outputs": [],
   "source": [
    "train_pool = cb.Pool(x_train, y_train, cat_features=categorical_features)\n",
    "valid_pool = cb.Pool(x_valid, y_valid, cat_features=categorical_features)"
   ]
  },
  {
   "cell_type": "code",
   "execution_count": 15,
   "metadata": {},
   "outputs": [
    {
     "name": "stdout",
     "output_type": "stream",
     "text": [
      "0:\ttest: 0.6229201\ttest1: 0.6242434\tbest: 0.6242434 (0)\ttotal: 279ms\tremaining: 4m 38s\n",
      "100:\ttest: 0.8641673\ttest1: 0.8583656\tbest: 0.8583656 (100)\ttotal: 26.6s\tremaining: 3m 56s\n",
      "200:\ttest: 0.8781339\ttest1: 0.8717821\tbest: 0.8717821 (200)\ttotal: 52.5s\tremaining: 3m 28s\n",
      "300:\ttest: 0.8902962\ttest1: 0.8816370\tbest: 0.8816370 (300)\ttotal: 1m 18s\tremaining: 3m 2s\n",
      "400:\ttest: 0.8938344\ttest1: 0.8845752\tbest: 0.8845752 (400)\ttotal: 1m 44s\tremaining: 2m 35s\n",
      "500:\ttest: 0.8961948\ttest1: 0.8863814\tbest: 0.8863872 (497)\ttotal: 2m 9s\tremaining: 2m 8s\n",
      "600:\ttest: 0.8985396\ttest1: 0.8877131\tbest: 0.8877131 (600)\ttotal: 2m 34s\tremaining: 1m 42s\n",
      "700:\ttest: 0.9007850\ttest1: 0.8891580\tbest: 0.8891580 (700)\ttotal: 2m 59s\tremaining: 1m 16s\n",
      "800:\ttest: 0.9008832\ttest1: 0.8892245\tbest: 0.8892254 (791)\ttotal: 3m 25s\tremaining: 51s\n",
      "900:\ttest: 0.9009137\ttest1: 0.8892476\tbest: 0.8892492 (890)\ttotal: 3m 49s\tremaining: 25.3s\n",
      "999:\ttest: 0.9009508\ttest1: 0.8892921\tbest: 0.8892922 (994)\ttotal: 4m 14s\tremaining: 0us\n",
      "\n",
      "bestTest = 0.8892921724\n",
      "bestIteration = 994\n",
      "\n",
      "Shrink model to first 995 iterations.\n"
     ]
    },
    {
     "data": {
      "text/plain": [
       "<catboost.core.CatBoostClassifier at 0x290829eb088>"
      ]
     },
     "execution_count": 15,
     "metadata": {},
     "output_type": "execute_result"
    }
   ],
   "source": [
    "cb_params = {\n",
    "#     \"n_estimators\": 3000,\n",
    "    \"loss_function\": \"Logloss\",\n",
    "    \"eval_metric\": \"AUC\",\n",
    "    \"task_type\": \"CPU\",\n",
    "    \"max_bin\": 20,\n",
    "    \"verbose\": 100,\n",
    "    \"max_depth\": 6,\n",
    "    \"l2_leaf_reg\": 100,\n",
    "    \"early_stopping_rounds\": 100,\n",
    "    \"thread_count\": 6,\n",
    "    \"random_seed\": 42,\n",
    "    \"cat_features\":categorical_features\n",
    "}\n",
    "model = cb.CatBoostClassifier(**cb_params)\n",
    "model.fit(x_train, y_train, eval_set=[(x_train, y_train), (x_valid, y_valid)])"
   ]
  },
  {
   "cell_type": "markdown",
   "metadata": {},
   "source": [
    "**Вывод** Новые признаки ухудшили модель на валидационной части"
   ]
  },
  {
   "cell_type": "markdown",
   "metadata": {},
   "source": [
    "**Задание 2:** сделать конкатенацию признаков\n",
    "* card1 + card2;\n",
    "* card1 + card2 + card_3 + card_5;\n",
    "* card1 + card2 + card_3 + card_5 + addr1 + addr2\n",
    "\n",
    "Рассматривать их как категориальных признаки."
   ]
  },
  {
   "cell_type": "code",
   "execution_count": 16,
   "metadata": {},
   "outputs": [],
   "source": [
    "def feature_concatenation(df, features):\n",
    "    new_name = f'{features[0]}'\n",
    "    data = df[new_name].astype('str')\n",
    "    for i in range(1, len(features)):\n",
    "        new_name += f'_{features[i]}'\n",
    "        df[features[i]] = df[features[i]].astype('str')\n",
    "        data += df[features[i]]\n",
    "    df[new_name] = data\n",
    "    return df"
   ]
  },
  {
   "cell_type": "code",
   "execution_count": 17,
   "metadata": {},
   "outputs": [],
   "source": [
    "x_train = feature_concatenation(x_train, ['card1', 'card2'])\n",
    "x_valid = feature_concatenation(x_valid, ['card1', 'card2'])\n",
    "\n",
    "x_train = feature_concatenation(x_train, ['card1', 'card2', 'card3', 'card5'])\n",
    "x_valid = feature_concatenation(x_valid, ['card1', 'card2', 'card3', 'card5'])\n",
    "\n",
    "x_train = feature_concatenation(x_train, ['card1', 'card2', 'card3', 'card5', 'addr1', 'addr2'])\n",
    "x_valid = feature_concatenation(x_valid, ['card1', 'card2', 'card3', 'card5', 'addr1', 'addr2'])"
   ]
  },
  {
   "cell_type": "code",
   "execution_count": 22,
   "metadata": {},
   "outputs": [
    {
     "data": {
      "text/html": [
       "<div>\n",
       "<style scoped>\n",
       "    .dataframe tbody tr th:only-of-type {\n",
       "        vertical-align: middle;\n",
       "    }\n",
       "\n",
       "    .dataframe tbody tr th {\n",
       "        vertical-align: top;\n",
       "    }\n",
       "\n",
       "    .dataframe thead th {\n",
       "        text-align: right;\n",
       "    }\n",
       "</style>\n",
       "<table border=\"1\" class=\"dataframe\">\n",
       "  <thead>\n",
       "    <tr style=\"text-align: right;\">\n",
       "      <th></th>\n",
       "      <th>TransactionAmt</th>\n",
       "      <th>ProductCD</th>\n",
       "      <th>card1</th>\n",
       "      <th>card2</th>\n",
       "      <th>card3</th>\n",
       "      <th>card4</th>\n",
       "      <th>card5</th>\n",
       "      <th>card6</th>\n",
       "      <th>addr1</th>\n",
       "      <th>addr2</th>\n",
       "      <th>...</th>\n",
       "      <th>V338</th>\n",
       "      <th>V339</th>\n",
       "      <th>Year</th>\n",
       "      <th>Month</th>\n",
       "      <th>Day_of_week</th>\n",
       "      <th>Hour</th>\n",
       "      <th>Day</th>\n",
       "      <th>card1_card2</th>\n",
       "      <th>card1_card2_card3_card5</th>\n",
       "      <th>card1_card2_card3_card5_addr1_addr2</th>\n",
       "    </tr>\n",
       "  </thead>\n",
       "  <tbody>\n",
       "    <tr>\n",
       "      <th>59549</th>\n",
       "      <td>117.0</td>\n",
       "      <td>W</td>\n",
       "      <td>16132</td>\n",
       "      <td>111.0</td>\n",
       "      <td>150.0</td>\n",
       "      <td>visa</td>\n",
       "      <td>226.0</td>\n",
       "      <td>debit</td>\n",
       "      <td>264.0</td>\n",
       "      <td>87.0</td>\n",
       "      <td>...</td>\n",
       "      <td>NaN</td>\n",
       "      <td>NaN</td>\n",
       "      <td>1970</td>\n",
       "      <td>1</td>\n",
       "      <td>3</td>\n",
       "      <td>0</td>\n",
       "      <td>1</td>\n",
       "      <td>16132111.0</td>\n",
       "      <td>16132111.0150.0226.0</td>\n",
       "      <td>16132111.0150.0226.0264.087.0</td>\n",
       "    </tr>\n",
       "    <tr>\n",
       "      <th>155490</th>\n",
       "      <td>20.0</td>\n",
       "      <td>H</td>\n",
       "      <td>5254</td>\n",
       "      <td>414.0</td>\n",
       "      <td>143.0</td>\n",
       "      <td>visa</td>\n",
       "      <td>226.0</td>\n",
       "      <td>debit</td>\n",
       "      <td>502.0</td>\n",
       "      <td>87.0</td>\n",
       "      <td>...</td>\n",
       "      <td>0.0</td>\n",
       "      <td>0.0</td>\n",
       "      <td>1970</td>\n",
       "      <td>1</td>\n",
       "      <td>3</td>\n",
       "      <td>0</td>\n",
       "      <td>1</td>\n",
       "      <td>5254414.0</td>\n",
       "      <td>5254414.0143.0226.0</td>\n",
       "      <td>5254414.0143.0226.0502.087.0</td>\n",
       "    </tr>\n",
       "  </tbody>\n",
       "</table>\n",
       "<p>2 rows × 399 columns</p>\n",
       "</div>"
      ],
      "text/plain": [
       "        TransactionAmt ProductCD  card1  card2  card3 card4  card5  card6  \\\n",
       "59549            117.0         W  16132  111.0  150.0  visa  226.0  debit   \n",
       "155490            20.0         H   5254  414.0  143.0  visa  226.0  debit   \n",
       "\n",
       "        addr1 addr2  ...  V338  V339  Year Month  Day_of_week  Hour  Day  \\\n",
       "59549   264.0  87.0  ...   NaN   NaN  1970     1            3     0    1   \n",
       "155490  502.0  87.0  ...   0.0   0.0  1970     1            3     0    1   \n",
       "\n",
       "        card1_card2  card1_card2_card3_card5  \\\n",
       "59549    16132111.0     16132111.0150.0226.0   \n",
       "155490    5254414.0      5254414.0143.0226.0   \n",
       "\n",
       "        card1_card2_card3_card5_addr1_addr2  \n",
       "59549         16132111.0150.0226.0264.087.0  \n",
       "155490         5254414.0143.0226.0502.087.0  \n",
       "\n",
       "[2 rows x 399 columns]"
      ]
     },
     "execution_count": 22,
     "metadata": {},
     "output_type": "execute_result"
    }
   ],
   "source": [
    "x_train.head(2)"
   ]
  },
  {
   "cell_type": "code",
   "execution_count": 18,
   "metadata": {},
   "outputs": [
    {
     "name": "stdout",
     "output_type": "stream",
     "text": [
      "Всего категориальных признаков 22\n"
     ]
    }
   ],
   "source": [
    "categorical_features = x_train.select_dtypes(include=[np.object])\n",
    "print(f'Всего категориальных признаков {categorical_features.shape[1]}')\n",
    "# categorical_features = categorical_features.columns.tolist()"
   ]
  },
  {
   "cell_type": "code",
   "execution_count": 19,
   "metadata": {},
   "outputs": [],
   "source": [
    "train_pool = cb.Pool(x_train, y_train, cat_features=categorical_features)\n",
    "valid_pool = cb.Pool(x_valid, y_valid, cat_features=categorical_features)"
   ]
  },
  {
   "cell_type": "code",
   "execution_count": 20,
   "metadata": {},
   "outputs": [
    {
     "name": "stdout",
     "output_type": "stream",
     "text": [
      "0:\ttest: 0.5992861\ttest1: 0.5998528\tbest: 0.5998528 (0)\ttotal: 183ms\tremaining: 3m 3s\n",
      "100:\ttest: 0.9565267\ttest1: 0.9103601\tbest: 0.9103627 (98)\ttotal: 32.7s\tremaining: 4m 50s\n",
      "200:\ttest: 0.9642612\ttest1: 0.9194900\tbest: 0.9194900 (200)\ttotal: 1m 6s\tremaining: 4m 25s\n",
      "300:\ttest: 0.9700471\ttest1: 0.9272188\tbest: 0.9272688 (299)\ttotal: 1m 41s\tremaining: 3m 55s\n",
      "400:\ttest: 0.9739526\ttest1: 0.9313913\tbest: 0.9313917 (399)\ttotal: 2m 15s\tremaining: 3m 21s\n",
      "500:\ttest: 0.9746192\ttest1: 0.9321232\tbest: 0.9321232 (497)\ttotal: 2m 47s\tremaining: 2m 46s\n",
      "600:\ttest: 0.9747731\ttest1: 0.9323659\tbest: 0.9323738 (587)\ttotal: 3m 19s\tremaining: 2m 12s\n",
      "700:\ttest: 0.9770346\ttest1: 0.9339696\tbest: 0.9339707 (695)\ttotal: 3m 53s\tremaining: 1m 39s\n",
      "800:\ttest: 0.9773316\ttest1: 0.9344947\tbest: 0.9344995 (785)\ttotal: 4m 25s\tremaining: 1m 6s\n",
      "900:\ttest: 0.9776985\ttest1: 0.9348502\tbest: 0.9348504 (898)\ttotal: 4m 59s\tremaining: 32.9s\n",
      "999:\ttest: 0.9780721\ttest1: 0.9354535\tbest: 0.9354600 (997)\ttotal: 5m 32s\tremaining: 0us\n",
      "\n",
      "bestTest = 0.9354599744\n",
      "bestIteration = 997\n",
      "\n",
      "Shrink model to first 998 iterations.\n"
     ]
    },
    {
     "data": {
      "text/plain": [
       "<catboost.core.CatBoostClassifier at 0x290829a4748>"
      ]
     },
     "execution_count": 20,
     "metadata": {},
     "output_type": "execute_result"
    }
   ],
   "source": [
    "model = cb.CatBoostClassifier(**cb_params)\n",
    "model.fit(x_train, y_train, eval_set=[(x_train, y_train), (x_valid, y_valid)])"
   ]
  },
  {
   "cell_type": "markdown",
   "metadata": {},
   "source": [
    "**Вывод** новые признаки улучшили модель на 0,046 на валидации"
   ]
  },
  {
   "cell_type": "markdown",
   "metadata": {},
   "source": [
    "**Задание 3:** Сделать FrequencyEncoder для признаков card1 - card6, addr1, addr2"
   ]
  },
  {
   "cell_type": "code",
   "execution_count": 23,
   "metadata": {},
   "outputs": [],
   "source": [
    "def fe_features(df, features):\n",
    "    for col in features:\n",
    "        freq_encoder = df[col].value_counts(normalize=True)\n",
    "        df[f'{col}_freq_enc'] = df[col].map(freq_encoder)\n",
    "    return df"
   ]
  },
  {
   "cell_type": "code",
   "execution_count": 24,
   "metadata": {},
   "outputs": [],
   "source": [
    "features = ['card1', 'card2', 'card3', 'card4', 'card5', 'card6']\n",
    "x_train = fe_features(x_train, features)\n",
    "x_valid = fe_features(x_valid, features)"
   ]
  },
  {
   "cell_type": "code",
   "execution_count": 26,
   "metadata": {},
   "outputs": [
    {
     "data": {
      "text/html": [
       "<div>\n",
       "<style scoped>\n",
       "    .dataframe tbody tr th:only-of-type {\n",
       "        vertical-align: middle;\n",
       "    }\n",
       "\n",
       "    .dataframe tbody tr th {\n",
       "        vertical-align: top;\n",
       "    }\n",
       "\n",
       "    .dataframe thead th {\n",
       "        text-align: right;\n",
       "    }\n",
       "</style>\n",
       "<table border=\"1\" class=\"dataframe\">\n",
       "  <thead>\n",
       "    <tr style=\"text-align: right;\">\n",
       "      <th></th>\n",
       "      <th>TransactionAmt</th>\n",
       "      <th>ProductCD</th>\n",
       "      <th>card1</th>\n",
       "      <th>card2</th>\n",
       "      <th>card3</th>\n",
       "      <th>card4</th>\n",
       "      <th>card5</th>\n",
       "      <th>card6</th>\n",
       "      <th>addr1</th>\n",
       "      <th>addr2</th>\n",
       "      <th>...</th>\n",
       "      <th>Day</th>\n",
       "      <th>card1_card2</th>\n",
       "      <th>card1_card2_card3_card5</th>\n",
       "      <th>card1_card2_card3_card5_addr1_addr2</th>\n",
       "      <th>card1_freq_enc</th>\n",
       "      <th>card2_freq_enc</th>\n",
       "      <th>card3_freq_enc</th>\n",
       "      <th>card4_freq_enc</th>\n",
       "      <th>card5_freq_enc</th>\n",
       "      <th>card6_freq_enc</th>\n",
       "    </tr>\n",
       "  </thead>\n",
       "  <tbody>\n",
       "    <tr>\n",
       "      <th>59549</th>\n",
       "      <td>117.0</td>\n",
       "      <td>W</td>\n",
       "      <td>16132</td>\n",
       "      <td>111.0</td>\n",
       "      <td>150.0</td>\n",
       "      <td>visa</td>\n",
       "      <td>226.0</td>\n",
       "      <td>debit</td>\n",
       "      <td>264.0</td>\n",
       "      <td>87.0</td>\n",
       "      <td>...</td>\n",
       "      <td>1</td>\n",
       "      <td>16132111.0</td>\n",
       "      <td>16132111.0150.0226.0</td>\n",
       "      <td>16132111.0150.0226.0264.087.0</td>\n",
       "      <td>0.006421</td>\n",
       "      <td>0.075755</td>\n",
       "      <td>0.879872</td>\n",
       "      <td>0.657473</td>\n",
       "      <td>0.511449</td>\n",
       "      <td>0.681791</td>\n",
       "    </tr>\n",
       "    <tr>\n",
       "      <th>155490</th>\n",
       "      <td>20.0</td>\n",
       "      <td>H</td>\n",
       "      <td>5254</td>\n",
       "      <td>414.0</td>\n",
       "      <td>143.0</td>\n",
       "      <td>visa</td>\n",
       "      <td>226.0</td>\n",
       "      <td>debit</td>\n",
       "      <td>502.0</td>\n",
       "      <td>87.0</td>\n",
       "      <td>...</td>\n",
       "      <td>1</td>\n",
       "      <td>5254414.0</td>\n",
       "      <td>5254414.0143.0226.0</td>\n",
       "      <td>5254414.0143.0226.0502.087.0</td>\n",
       "      <td>0.000476</td>\n",
       "      <td>0.000595</td>\n",
       "      <td>0.001310</td>\n",
       "      <td>0.657473</td>\n",
       "      <td>0.511449</td>\n",
       "      <td>0.681791</td>\n",
       "    </tr>\n",
       "  </tbody>\n",
       "</table>\n",
       "<p>2 rows × 405 columns</p>\n",
       "</div>"
      ],
      "text/plain": [
       "        TransactionAmt ProductCD  card1  card2  card3 card4  card5  card6  \\\n",
       "59549            117.0         W  16132  111.0  150.0  visa  226.0  debit   \n",
       "155490            20.0         H   5254  414.0  143.0  visa  226.0  debit   \n",
       "\n",
       "        addr1 addr2  ...  Day  card1_card2 card1_card2_card3_card5  \\\n",
       "59549   264.0  87.0  ...    1   16132111.0    16132111.0150.0226.0   \n",
       "155490  502.0  87.0  ...    1    5254414.0     5254414.0143.0226.0   \n",
       "\n",
       "       card1_card2_card3_card5_addr1_addr2  card1_freq_enc  card2_freq_enc  \\\n",
       "59549        16132111.0150.0226.0264.087.0        0.006421        0.075755   \n",
       "155490        5254414.0143.0226.0502.087.0        0.000476        0.000595   \n",
       "\n",
       "        card3_freq_enc  card4_freq_enc  card5_freq_enc  card6_freq_enc  \n",
       "59549         0.879872        0.657473        0.511449        0.681791  \n",
       "155490        0.001310        0.657473        0.511449        0.681791  \n",
       "\n",
       "[2 rows x 405 columns]"
      ]
     },
     "execution_count": 26,
     "metadata": {},
     "output_type": "execute_result"
    }
   ],
   "source": [
    "x_train.head(2)"
   ]
  },
  {
   "cell_type": "code",
   "execution_count": 27,
   "metadata": {},
   "outputs": [],
   "source": [
    "train_pool = cb.Pool(x_train, y_train, cat_features=categorical_features)\n",
    "valid_pool = cb.Pool(x_valid, y_valid, cat_features=categorical_features)"
   ]
  },
  {
   "cell_type": "code",
   "execution_count": 28,
   "metadata": {},
   "outputs": [
    {
     "name": "stdout",
     "output_type": "stream",
     "text": [
      "0:\ttest: 0.7167953\ttest1: 0.7194091\tbest: 0.7194091 (0)\ttotal: 396ms\tremaining: 6m 35s\n",
      "100:\ttest: 0.9608374\ttest1: 0.9122512\tbest: 0.9122963 (99)\ttotal: 34.1s\tremaining: 5m 3s\n",
      "200:\ttest: 0.9688743\ttest1: 0.9207989\tbest: 0.9207989 (200)\ttotal: 1m 9s\tremaining: 4m 34s\n",
      "300:\ttest: 0.9769269\ttest1: 0.9301067\tbest: 0.9301067 (300)\ttotal: 1m 44s\tremaining: 4m 2s\n",
      "400:\ttest: 0.9796746\ttest1: 0.9336514\tbest: 0.9336514 (400)\ttotal: 2m 18s\tremaining: 3m 27s\n",
      "500:\ttest: 0.9800945\ttest1: 0.9342901\tbest: 0.9342901 (500)\ttotal: 2m 51s\tremaining: 2m 50s\n",
      "600:\ttest: 0.9801531\ttest1: 0.9343397\tbest: 0.9343397 (600)\ttotal: 3m 24s\tremaining: 2m 15s\n",
      "700:\ttest: 0.9803320\ttest1: 0.9345961\tbest: 0.9345961 (700)\ttotal: 3m 57s\tremaining: 1m 41s\n",
      "800:\ttest: 0.9810986\ttest1: 0.9354569\tbest: 0.9354576 (799)\ttotal: 4m 31s\tremaining: 1m 7s\n",
      "900:\ttest: 0.9825371\ttest1: 0.9373411\tbest: 0.9373453 (894)\ttotal: 5m 6s\tremaining: 33.6s\n",
      "999:\ttest: 0.9827164\ttest1: 0.9374774\tbest: 0.9374891 (927)\ttotal: 5m 38s\tremaining: 0us\n",
      "\n",
      "bestTest = 0.9374891444\n",
      "bestIteration = 927\n",
      "\n",
      "Shrink model to first 928 iterations.\n"
     ]
    },
    {
     "data": {
      "text/plain": [
       "<catboost.core.CatBoostClassifier at 0x290ba212308>"
      ]
     },
     "execution_count": 28,
     "metadata": {},
     "output_type": "execute_result"
    }
   ],
   "source": [
    "model = cb.CatBoostClassifier(**cb_params)\n",
    "model.fit(x_train, y_train, eval_set=[(x_train, y_train), (x_valid, y_valid)])"
   ]
  },
  {
   "cell_type": "markdown",
   "metadata": {},
   "source": [
    "**Вывод** значимого улучшения не наблюдается"
   ]
  },
  {
   "cell_type": "markdown",
   "metadata": {},
   "source": [
    "**Задание 4:** Создать признаки на основе отношения: TransactionAmt к вычисленной статистике. Статистика - среднее значение / стандартное отклонение TransactionAmt, сгруппированное по card1 - card6, addr1, addr2, и по признакам, созданным в задании 2."
   ]
  },
  {
   "cell_type": "code",
   "execution_count": 42,
   "metadata": {},
   "outputs": [],
   "source": [
    "def relations(df, features, target_feature):\n",
    "    for col in features:\n",
    "        df[f'{col}_transform'] = df.groupby(col)[target_feature].transform('std')\n",
    "    return df"
   ]
  },
  {
   "cell_type": "code",
   "execution_count": 44,
   "metadata": {},
   "outputs": [],
   "source": [
    "target_feature = 'TransactionAmt'\n",
    "features = ['card1', 'card2', 'card3', 'card4', \n",
    "            'card5', 'card6', 'addr1', 'addr2', \n",
    "            'card1_card2', 'card1_card2_card3_card5', \n",
    "            'card1_card2_card3_card5_addr1_addr2']"
   ]
  },
  {
   "cell_type": "code",
   "execution_count": 45,
   "metadata": {},
   "outputs": [],
   "source": [
    "x_train = relations(x_train, features, target_feature)\n",
    "x_valid = relations(x_valid, features, target_feature)"
   ]
  },
  {
   "cell_type": "code",
   "execution_count": 46,
   "metadata": {},
   "outputs": [],
   "source": [
    "train_pool = cb.Pool(x_train, y_train, cat_features=categorical_features)\n",
    "valid_pool = cb.Pool(x_valid, y_valid, cat_features=categorical_features)"
   ]
  },
  {
   "cell_type": "code",
   "execution_count": 47,
   "metadata": {},
   "outputs": [
    {
     "name": "stdout",
     "output_type": "stream",
     "text": [
      "0:\ttest: 0.6802052\ttest1: 0.6792717\tbest: 0.6792717 (0)\ttotal: 396ms\tremaining: 6m 35s\n",
      "100:\ttest: 0.9574042\ttest1: 0.9071721\tbest: 0.9071735 (97)\ttotal: 32.8s\tremaining: 4m 52s\n",
      "200:\ttest: 0.9631191\ttest1: 0.9150375\tbest: 0.9150667 (199)\ttotal: 1m 6s\tremaining: 4m 25s\n",
      "300:\ttest: 0.9696687\ttest1: 0.9240224\tbest: 0.9240224 (300)\ttotal: 1m 41s\tremaining: 3m 55s\n",
      "400:\ttest: 0.9747673\ttest1: 0.9298384\tbest: 0.9298384 (400)\ttotal: 2m 15s\tremaining: 3m 22s\n",
      "500:\ttest: 0.9751133\ttest1: 0.9309039\tbest: 0.9309042 (498)\ttotal: 2m 48s\tremaining: 2m 47s\n",
      "600:\ttest: 0.9751804\ttest1: 0.9310223\tbest: 0.9310223 (600)\ttotal: 3m 20s\tremaining: 2m 13s\n",
      "700:\ttest: 0.9753503\ttest1: 0.9312671\tbest: 0.9312681 (696)\ttotal: 3m 52s\tremaining: 1m 39s\n",
      "800:\ttest: 0.9793177\ttest1: 0.9343589\tbest: 0.9343589 (800)\ttotal: 4m 27s\tremaining: 1m 6s\n",
      "900:\ttest: 0.9801956\ttest1: 0.9353096\tbest: 0.9353155 (875)\ttotal: 4m 59s\tremaining: 33s\n",
      "999:\ttest: 0.9803514\ttest1: 0.9354236\tbest: 0.9354282 (966)\ttotal: 5m 32s\tremaining: 0us\n",
      "\n",
      "bestTest = 0.9354281899\n",
      "bestIteration = 966\n",
      "\n",
      "Shrink model to first 967 iterations.\n"
     ]
    },
    {
     "data": {
      "text/plain": [
       "<catboost.core.CatBoostClassifier at 0x2914dbcd308>"
      ]
     },
     "execution_count": 47,
     "metadata": {},
     "output_type": "execute_result"
    }
   ],
   "source": [
    "model = cb.CatBoostClassifier(**cb_params)\n",
    "model.fit(x_train, y_train, eval_set=[(x_train, y_train), (x_valid, y_valid)])"
   ]
  },
  {
   "cell_type": "markdown",
   "metadata": {},
   "source": [
    "**Вывод** значимого улучшения не наблюдается"
   ]
  },
  {
   "cell_type": "markdown",
   "metadata": {},
   "source": [
    "**Задание 5:** Создать признаки на основе отношения: D15 к вычисленной статистике. Статистика - среднее значение / стандартное отклонение D15, сгруппированное по card1 - card6, addr1, addr2, и по признакам, созданным в задании 2."
   ]
  },
  {
   "cell_type": "code",
   "execution_count": 48,
   "metadata": {},
   "outputs": [],
   "source": [
    "target_feature = 'D15'"
   ]
  },
  {
   "cell_type": "code",
   "execution_count": 49,
   "metadata": {},
   "outputs": [],
   "source": [
    "x_train = relations(x_train, features, target_feature)\n",
    "x_valid = relations(x_valid, features, target_feature)"
   ]
  },
  {
   "cell_type": "code",
   "execution_count": 50,
   "metadata": {},
   "outputs": [],
   "source": [
    "train_pool = cb.Pool(x_train, y_train, cat_features=categorical_features)\n",
    "valid_pool = cb.Pool(x_valid, y_valid, cat_features=categorical_features)"
   ]
  },
  {
   "cell_type": "code",
   "execution_count": 51,
   "metadata": {},
   "outputs": [
    {
     "name": "stdout",
     "output_type": "stream",
     "text": [
      "0:\ttest: 0.6802052\ttest1: 0.6792717\tbest: 0.6792717 (0)\ttotal: 393ms\tremaining: 6m 32s\n",
      "100:\ttest: 0.9557109\ttest1: 0.9091777\tbest: 0.9091777 (100)\ttotal: 33.4s\tremaining: 4m 57s\n",
      "200:\ttest: 0.9704134\ttest1: 0.9229175\tbest: 0.9229175 (200)\ttotal: 1m 8s\tremaining: 4m 33s\n",
      "300:\ttest: 0.9775864\ttest1: 0.9304557\tbest: 0.9304557 (300)\ttotal: 1m 44s\tremaining: 4m 2s\n",
      "400:\ttest: 0.9797518\ttest1: 0.9332131\tbest: 0.9332131 (400)\ttotal: 2m 18s\tremaining: 3m 26s\n",
      "500:\ttest: 0.9812381\ttest1: 0.9345431\tbest: 0.9345536 (498)\ttotal: 2m 53s\tremaining: 2m 52s\n",
      "600:\ttest: 0.9824305\ttest1: 0.9353548\tbest: 0.9353548 (600)\ttotal: 3m 27s\tremaining: 2m 17s\n",
      "700:\ttest: 0.9828159\ttest1: 0.9358760\tbest: 0.9358760 (700)\ttotal: 4m\tremaining: 1m 42s\n",
      "800:\ttest: 0.9842216\ttest1: 0.9370225\tbest: 0.9370236 (798)\ttotal: 4m 35s\tremaining: 1m 8s\n",
      "900:\ttest: 0.9843450\ttest1: 0.9371332\tbest: 0.9371332 (900)\ttotal: 5m 9s\tremaining: 34s\n",
      "999:\ttest: 0.9845059\ttest1: 0.9373793\tbest: 0.9373795 (997)\ttotal: 5m 41s\tremaining: 0us\n",
      "\n",
      "bestTest = 0.9373795076\n",
      "bestIteration = 997\n",
      "\n",
      "Shrink model to first 998 iterations.\n"
     ]
    },
    {
     "data": {
      "text/plain": [
       "<catboost.core.CatBoostClassifier at 0x29082a13bc8>"
      ]
     },
     "execution_count": 51,
     "metadata": {},
     "output_type": "execute_result"
    }
   ],
   "source": [
    "model = cb.CatBoostClassifier(**cb_params)\n",
    "model.fit(x_train, y_train, eval_set=[(x_train, y_train), (x_valid, y_valid)])"
   ]
  },
  {
   "cell_type": "markdown",
   "metadata": {},
   "source": [
    "**Вывод** значимого улучшения не наблюдается"
   ]
  },
  {
   "cell_type": "markdown",
   "metadata": {},
   "source": [
    "**Задание 6:** выделить дробную часть и целую часть признака TransactionAmt в два отдельных признака. После создать отдельных признак - логарифм от TransactionAmt"
   ]
  },
  {
   "cell_type": "code",
   "execution_count": 53,
   "metadata": {},
   "outputs": [],
   "source": [
    "def transform_feature(df, target_feature):\n",
    "    df[f'{target_feature}_integer'] = df[target_feature].astype(int)\n",
    "    df[f'{target_feature}_fractional'] = df[target_feature] - df[f'{target_feature}_integer']\n",
    "    df[f'{target_feature}_log'] = np.log(df[target_feature])\n",
    "    \n",
    "    return df"
   ]
  },
  {
   "cell_type": "code",
   "execution_count": 54,
   "metadata": {},
   "outputs": [],
   "source": [
    "x_train = transform_feature(x_train, 'TransactionAmt')\n",
    "x_valid = transform_feature(x_valid, 'TransactionAmt')"
   ]
  },
  {
   "cell_type": "code",
   "execution_count": 55,
   "metadata": {},
   "outputs": [],
   "source": [
    "train_pool = cb.Pool(x_train, y_train, cat_features=categorical_features)\n",
    "valid_pool = cb.Pool(x_valid, y_valid, cat_features=categorical_features)"
   ]
  },
  {
   "cell_type": "code",
   "execution_count": 56,
   "metadata": {},
   "outputs": [
    {
     "name": "stdout",
     "output_type": "stream",
     "text": [
      "0:\ttest: 0.6458487\ttest1: 0.6431004\tbest: 0.6431004 (0)\ttotal: 403ms\tremaining: 6m 42s\n",
      "100:\ttest: 0.9573587\ttest1: 0.9089664\tbest: 0.9089664 (100)\ttotal: 34.2s\tremaining: 5m 3s\n",
      "200:\ttest: 0.9730168\ttest1: 0.9230775\tbest: 0.9230775 (200)\ttotal: 1m 10s\tremaining: 4m 39s\n",
      "300:\ttest: 0.9769820\ttest1: 0.9303192\tbest: 0.9303192 (300)\ttotal: 1m 44s\tremaining: 4m 3s\n",
      "400:\ttest: 0.9788528\ttest1: 0.9335611\tbest: 0.9335611 (400)\ttotal: 2m 19s\tremaining: 3m 28s\n",
      "500:\ttest: 0.9792792\ttest1: 0.9339926\tbest: 0.9339926 (500)\ttotal: 2m 52s\tremaining: 2m 51s\n",
      "600:\ttest: 0.9793842\ttest1: 0.9343533\tbest: 0.9343533 (600)\ttotal: 3m 25s\tremaining: 2m 16s\n",
      "700:\ttest: 0.9807009\ttest1: 0.9361724\tbest: 0.9361724 (700)\ttotal: 3m 59s\tremaining: 1m 42s\n",
      "800:\ttest: 0.9817468\ttest1: 0.9374610\tbest: 0.9374619 (797)\ttotal: 4m 34s\tremaining: 1m 8s\n",
      "900:\ttest: 0.9819311\ttest1: 0.9376998\tbest: 0.9377000 (893)\ttotal: 5m 7s\tremaining: 33.7s\n",
      "999:\ttest: 0.9822180\ttest1: 0.9379532\tbest: 0.9379533 (998)\ttotal: 5m 40s\tremaining: 0us\n",
      "\n",
      "bestTest = 0.9379533177\n",
      "bestIteration = 998\n",
      "\n",
      "Shrink model to first 999 iterations.\n"
     ]
    },
    {
     "data": {
      "text/plain": [
       "<catboost.core.CatBoostClassifier at 0x2914dbd1808>"
      ]
     },
     "execution_count": 56,
     "metadata": {},
     "output_type": "execute_result"
    }
   ],
   "source": [
    "model = cb.CatBoostClassifier(**cb_params)\n",
    "model.fit(x_train, y_train, eval_set=[(x_train, y_train), (x_valid, y_valid)])"
   ]
  },
  {
   "cell_type": "markdown",
   "metadata": {},
   "source": [
    "**Вывод** значимого улучшения не наблюдается"
   ]
  },
  {
   "cell_type": "markdown",
   "metadata": {},
   "source": [
    "**Вывод** Максимальный прирост качества был на 2 шаге (конкатенация признаков). Все последующие шаги улучшили базовую модель на 0,0025 на валидации."
   ]
  },
  {
   "cell_type": "code",
   "execution_count": 58,
   "metadata": {},
   "outputs": [
    {
     "data": {
      "text/html": [
       "<div>\n",
       "<style scoped>\n",
       "    .dataframe tbody tr th:only-of-type {\n",
       "        vertical-align: middle;\n",
       "    }\n",
       "\n",
       "    .dataframe tbody tr th {\n",
       "        vertical-align: top;\n",
       "    }\n",
       "\n",
       "    .dataframe thead th {\n",
       "        text-align: right;\n",
       "    }\n",
       "</style>\n",
       "<table border=\"1\" class=\"dataframe\">\n",
       "  <thead>\n",
       "    <tr style=\"text-align: right;\">\n",
       "      <th></th>\n",
       "      <th>TransactionAmt</th>\n",
       "      <th>ProductCD</th>\n",
       "      <th>card1</th>\n",
       "      <th>card2</th>\n",
       "      <th>card3</th>\n",
       "      <th>card4</th>\n",
       "      <th>card5</th>\n",
       "      <th>card6</th>\n",
       "      <th>addr1</th>\n",
       "      <th>addr2</th>\n",
       "      <th>...</th>\n",
       "      <th>card5_transform</th>\n",
       "      <th>card6_transform</th>\n",
       "      <th>addr1_transform</th>\n",
       "      <th>addr2_transform</th>\n",
       "      <th>card1_card2_transform</th>\n",
       "      <th>card1_card2_card3_card5_transform</th>\n",
       "      <th>card1_card2_card3_card5_addr1_addr2_transform</th>\n",
       "      <th>TransactionAmt_integer</th>\n",
       "      <th>TransactionAmt_fractional</th>\n",
       "      <th>TransactionAmt_log</th>\n",
       "    </tr>\n",
       "  </thead>\n",
       "  <tbody>\n",
       "    <tr>\n",
       "      <th>59549</th>\n",
       "      <td>117.00</td>\n",
       "      <td>W</td>\n",
       "      <td>16132</td>\n",
       "      <td>111.0</td>\n",
       "      <td>150.0</td>\n",
       "      <td>visa</td>\n",
       "      <td>226.0</td>\n",
       "      <td>debit</td>\n",
       "      <td>264.0</td>\n",
       "      <td>87.0</td>\n",
       "      <td>...</td>\n",
       "      <td>187.926834</td>\n",
       "      <td>183.157453</td>\n",
       "      <td>187.013034</td>\n",
       "      <td>186.132957</td>\n",
       "      <td>176.626144</td>\n",
       "      <td>176.626144</td>\n",
       "      <td>109.918606</td>\n",
       "      <td>117</td>\n",
       "      <td>0.00</td>\n",
       "      <td>4.762174</td>\n",
       "    </tr>\n",
       "    <tr>\n",
       "      <th>155490</th>\n",
       "      <td>20.00</td>\n",
       "      <td>H</td>\n",
       "      <td>5254</td>\n",
       "      <td>414.0</td>\n",
       "      <td>143.0</td>\n",
       "      <td>visa</td>\n",
       "      <td>226.0</td>\n",
       "      <td>debit</td>\n",
       "      <td>502.0</td>\n",
       "      <td>87.0</td>\n",
       "      <td>...</td>\n",
       "      <td>187.926834</td>\n",
       "      <td>183.157453</td>\n",
       "      <td>191.040339</td>\n",
       "      <td>186.132957</td>\n",
       "      <td>205.028961</td>\n",
       "      <td>205.028961</td>\n",
       "      <td>203.236703</td>\n",
       "      <td>20</td>\n",
       "      <td>0.00</td>\n",
       "      <td>2.995732</td>\n",
       "    </tr>\n",
       "    <tr>\n",
       "      <th>32608</th>\n",
       "      <td>57.95</td>\n",
       "      <td>W</td>\n",
       "      <td>6692</td>\n",
       "      <td>555.0</td>\n",
       "      <td>150.0</td>\n",
       "      <td>visa</td>\n",
       "      <td>226.0</td>\n",
       "      <td>debit</td>\n",
       "      <td>485.0</td>\n",
       "      <td>87.0</td>\n",
       "      <td>...</td>\n",
       "      <td>187.926834</td>\n",
       "      <td>183.157453</td>\n",
       "      <td>178.039534</td>\n",
       "      <td>186.132957</td>\n",
       "      <td>95.247047</td>\n",
       "      <td>95.247047</td>\n",
       "      <td>112.697826</td>\n",
       "      <td>57</td>\n",
       "      <td>0.95</td>\n",
       "      <td>4.059581</td>\n",
       "    </tr>\n",
       "    <tr>\n",
       "      <th>21174</th>\n",
       "      <td>107.95</td>\n",
       "      <td>W</td>\n",
       "      <td>4806</td>\n",
       "      <td>490.0</td>\n",
       "      <td>150.0</td>\n",
       "      <td>visa</td>\n",
       "      <td>226.0</td>\n",
       "      <td>debit</td>\n",
       "      <td>315.0</td>\n",
       "      <td>87.0</td>\n",
       "      <td>...</td>\n",
       "      <td>187.926834</td>\n",
       "      <td>183.157453</td>\n",
       "      <td>192.640387</td>\n",
       "      <td>186.132957</td>\n",
       "      <td>201.568789</td>\n",
       "      <td>201.568789</td>\n",
       "      <td>200.606969</td>\n",
       "      <td>107</td>\n",
       "      <td>0.95</td>\n",
       "      <td>4.681668</td>\n",
       "    </tr>\n",
       "    <tr>\n",
       "      <th>87435</th>\n",
       "      <td>150.00</td>\n",
       "      <td>R</td>\n",
       "      <td>3652</td>\n",
       "      <td>399.0</td>\n",
       "      <td>150.0</td>\n",
       "      <td>american express</td>\n",
       "      <td>150.0</td>\n",
       "      <td>credit</td>\n",
       "      <td>204.0</td>\n",
       "      <td>87.0</td>\n",
       "      <td>...</td>\n",
       "      <td>216.622691</td>\n",
       "      <td>171.185662</td>\n",
       "      <td>187.899064</td>\n",
       "      <td>186.132957</td>\n",
       "      <td>NaN</td>\n",
       "      <td>NaN</td>\n",
       "      <td>NaN</td>\n",
       "      <td>150</td>\n",
       "      <td>0.00</td>\n",
       "      <td>5.010635</td>\n",
       "    </tr>\n",
       "  </tbody>\n",
       "</table>\n",
       "<p>5 rows × 419 columns</p>\n",
       "</div>"
      ],
      "text/plain": [
       "        TransactionAmt ProductCD  card1  card2  card3             card4  \\\n",
       "59549           117.00         W  16132  111.0  150.0              visa   \n",
       "155490           20.00         H   5254  414.0  143.0              visa   \n",
       "32608            57.95         W   6692  555.0  150.0              visa   \n",
       "21174           107.95         W   4806  490.0  150.0              visa   \n",
       "87435           150.00         R   3652  399.0  150.0  american express   \n",
       "\n",
       "        card5   card6  addr1 addr2  ...  card5_transform  card6_transform  \\\n",
       "59549   226.0   debit  264.0  87.0  ...       187.926834       183.157453   \n",
       "155490  226.0   debit  502.0  87.0  ...       187.926834       183.157453   \n",
       "32608   226.0   debit  485.0  87.0  ...       187.926834       183.157453   \n",
       "21174   226.0   debit  315.0  87.0  ...       187.926834       183.157453   \n",
       "87435   150.0  credit  204.0  87.0  ...       216.622691       171.185662   \n",
       "\n",
       "       addr1_transform addr2_transform  card1_card2_transform  \\\n",
       "59549       187.013034      186.132957             176.626144   \n",
       "155490      191.040339      186.132957             205.028961   \n",
       "32608       178.039534      186.132957              95.247047   \n",
       "21174       192.640387      186.132957             201.568789   \n",
       "87435       187.899064      186.132957                    NaN   \n",
       "\n",
       "        card1_card2_card3_card5_transform  \\\n",
       "59549                          176.626144   \n",
       "155490                         205.028961   \n",
       "32608                           95.247047   \n",
       "21174                          201.568789   \n",
       "87435                                 NaN   \n",
       "\n",
       "        card1_card2_card3_card5_addr1_addr2_transform  TransactionAmt_integer  \\\n",
       "59549                                      109.918606                     117   \n",
       "155490                                     203.236703                      20   \n",
       "32608                                      112.697826                      57   \n",
       "21174                                      200.606969                     107   \n",
       "87435                                             NaN                     150   \n",
       "\n",
       "        TransactionAmt_fractional  TransactionAmt_log  \n",
       "59549                        0.00            4.762174  \n",
       "155490                       0.00            2.995732  \n",
       "32608                        0.95            4.059581  \n",
       "21174                        0.95            4.681668  \n",
       "87435                        0.00            5.010635  \n",
       "\n",
       "[5 rows x 419 columns]"
      ]
     },
     "execution_count": 58,
     "metadata": {},
     "output_type": "execute_result"
    }
   ],
   "source": [
    "x_train.head()"
   ]
  },
  {
   "cell_type": "code",
   "execution_count": 59,
   "metadata": {},
   "outputs": [
    {
     "data": {
      "text/plain": [
       "(125999, 419)"
      ]
     },
     "execution_count": 59,
     "metadata": {},
     "output_type": "execute_result"
    }
   ],
   "source": [
    "x_train.shape"
   ]
  },
  {
   "cell_type": "markdown",
   "metadata": {},
   "source": []
  }
 ],
 "metadata": {
  "kernelspec": {
   "display_name": "Python 3",
   "language": "python",
   "name": "python3"
  },
  "language_info": {
   "codemirror_mode": {
    "name": "ipython",
    "version": 3
   },
   "file_extension": ".py",
   "mimetype": "text/x-python",
   "name": "python",
   "nbconvert_exporter": "python",
   "pygments_lexer": "ipython3",
   "version": "3.7.6"
  }
 },
 "nbformat": 4,
 "nbformat_minor": 4
}
