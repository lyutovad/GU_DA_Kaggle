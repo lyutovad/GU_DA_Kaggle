{
 "cells": [
  {
   "cell_type": "code",
   "execution_count": 19,
   "metadata": {},
   "outputs": [],
   "source": [
    "import warnings\n",
    "warnings.simplefilter(\"ignore\")\n",
    "\n",
    "import pandas as pd\n",
    "import numpy as np\n",
    "\n",
    "import catboost as cb\n",
    "\n",
    "from sklearn.metrics import f1_score, roc_auc_score\n",
    "from sklearn.model_selection import train_test_split\n",
    "\n",
    "import datetime\n",
    "from datetime import datetime, date"
   ]
  },
  {
   "cell_type": "code",
   "execution_count": 2,
   "metadata": {},
   "outputs": [],
   "source": [
    "data = pd.read_csv('assignment_2_train.csv')"
   ]
  },
  {
   "cell_type": "code",
   "execution_count": 3,
   "metadata": {},
   "outputs": [
    {
     "data": {
      "text/html": [
       "<div>\n",
       "<style scoped>\n",
       "    .dataframe tbody tr th:only-of-type {\n",
       "        vertical-align: middle;\n",
       "    }\n",
       "\n",
       "    .dataframe tbody tr th {\n",
       "        vertical-align: top;\n",
       "    }\n",
       "\n",
       "    .dataframe thead th {\n",
       "        text-align: right;\n",
       "    }\n",
       "</style>\n",
       "<table border=\"1\" class=\"dataframe\">\n",
       "  <thead>\n",
       "    <tr style=\"text-align: right;\">\n",
       "      <th></th>\n",
       "      <th>TransactionID</th>\n",
       "      <th>isFraud</th>\n",
       "      <th>TransactionDT</th>\n",
       "      <th>TransactionAmt</th>\n",
       "      <th>ProductCD</th>\n",
       "      <th>card1</th>\n",
       "      <th>card2</th>\n",
       "      <th>card3</th>\n",
       "      <th>card4</th>\n",
       "      <th>card5</th>\n",
       "      <th>...</th>\n",
       "      <th>V330</th>\n",
       "      <th>V331</th>\n",
       "      <th>V332</th>\n",
       "      <th>V333</th>\n",
       "      <th>V334</th>\n",
       "      <th>V335</th>\n",
       "      <th>V336</th>\n",
       "      <th>V337</th>\n",
       "      <th>V338</th>\n",
       "      <th>V339</th>\n",
       "    </tr>\n",
       "  </thead>\n",
       "  <tbody>\n",
       "    <tr>\n",
       "      <th>0</th>\n",
       "      <td>2987000</td>\n",
       "      <td>0</td>\n",
       "      <td>86400</td>\n",
       "      <td>68.5</td>\n",
       "      <td>W</td>\n",
       "      <td>13926</td>\n",
       "      <td>NaN</td>\n",
       "      <td>150.0</td>\n",
       "      <td>discover</td>\n",
       "      <td>142.0</td>\n",
       "      <td>...</td>\n",
       "      <td>NaN</td>\n",
       "      <td>NaN</td>\n",
       "      <td>NaN</td>\n",
       "      <td>NaN</td>\n",
       "      <td>NaN</td>\n",
       "      <td>NaN</td>\n",
       "      <td>NaN</td>\n",
       "      <td>NaN</td>\n",
       "      <td>NaN</td>\n",
       "      <td>NaN</td>\n",
       "    </tr>\n",
       "    <tr>\n",
       "      <th>1</th>\n",
       "      <td>2987001</td>\n",
       "      <td>0</td>\n",
       "      <td>86401</td>\n",
       "      <td>29.0</td>\n",
       "      <td>W</td>\n",
       "      <td>2755</td>\n",
       "      <td>404.0</td>\n",
       "      <td>150.0</td>\n",
       "      <td>mastercard</td>\n",
       "      <td>102.0</td>\n",
       "      <td>...</td>\n",
       "      <td>NaN</td>\n",
       "      <td>NaN</td>\n",
       "      <td>NaN</td>\n",
       "      <td>NaN</td>\n",
       "      <td>NaN</td>\n",
       "      <td>NaN</td>\n",
       "      <td>NaN</td>\n",
       "      <td>NaN</td>\n",
       "      <td>NaN</td>\n",
       "      <td>NaN</td>\n",
       "    </tr>\n",
       "  </tbody>\n",
       "</table>\n",
       "<p>2 rows × 394 columns</p>\n",
       "</div>"
      ],
      "text/plain": [
       "   TransactionID  isFraud  TransactionDT  TransactionAmt ProductCD  card1  \\\n",
       "0        2987000        0          86400            68.5         W  13926   \n",
       "1        2987001        0          86401            29.0         W   2755   \n",
       "\n",
       "   card2  card3       card4  card5  ... V330  V331  V332  V333  V334 V335  \\\n",
       "0    NaN  150.0    discover  142.0  ...  NaN   NaN   NaN   NaN   NaN  NaN   \n",
       "1  404.0  150.0  mastercard  102.0  ...  NaN   NaN   NaN   NaN   NaN  NaN   \n",
       "\n",
       "  V336  V337  V338  V339  \n",
       "0  NaN   NaN   NaN   NaN  \n",
       "1  NaN   NaN   NaN   NaN  \n",
       "\n",
       "[2 rows x 394 columns]"
      ]
     },
     "execution_count": 3,
     "metadata": {},
     "output_type": "execute_result"
    }
   ],
   "source": [
    "data.head(2)"
   ]
  },
  {
   "cell_type": "markdown",
   "metadata": {},
   "source": [
    "**Задание 0:** выбрать любую модель машнного обучения и зафиксировать любой тип валидации. Обучить базовую модель и зафиксировать базовое качество модели. В каждом следующем задании нужно будет обучить выбранную модель и оценивать ее качество на зафиксированной схеме валидации. После каждого задания, требуется сделать вывод о достигаемом качестве модели, по сравнению с качестом из предыдущего шага."
   ]
  },
  {
   "cell_type": "code",
   "execution_count": 8,
   "metadata": {},
   "outputs": [],
   "source": [
    "target = data['isFraud']\n",
    "\n",
    "data.drop(['isFraud', 'TransactionID'], axis=1, inplace=True)"
   ]
  },
  {
   "cell_type": "code",
   "execution_count": 9,
   "metadata": {},
   "outputs": [
    {
     "name": "stdout",
     "output_type": "stream",
     "text": [
      "Всего категориальных признаков 14\n"
     ]
    }
   ],
   "source": [
    "categorical_features = data.select_dtypes(include=[np.object])\n",
    "print(f'Всего категориальных признаков {categorical_features.shape[1]}')\n",
    "# categorical_features = categorical_features.columns.tolist()"
   ]
  },
  {
   "cell_type": "code",
   "execution_count": 10,
   "metadata": {},
   "outputs": [],
   "source": [
    "for col in categorical_features:\n",
    "    data[col] = data[col].astype(str)"
   ]
  },
  {
   "cell_type": "code",
   "execution_count": 11,
   "metadata": {},
   "outputs": [],
   "source": [
    "x_train, x_valid, y_train, y_valid = train_test_split(\n",
    "    data, target, train_size=0.7, shuffle=True, random_state=1,\n",
    ")"
   ]
  },
  {
   "cell_type": "code",
   "execution_count": 13,
   "metadata": {},
   "outputs": [],
   "source": [
    "train_pool = cb.Pool(x_train, y_train, cat_features=categorical_features)\n",
    "valid_pool = cb.Pool(x_valid, y_valid, cat_features=categorical_features)"
   ]
  },
  {
   "cell_type": "code",
   "execution_count": 34,
   "metadata": {},
   "outputs": [
    {
     "name": "stdout",
     "output_type": "stream",
     "text": [
      "0:\ttest: 0.6645044\ttest1: 0.6640967\tbest: 0.6640967 (0)\ttotal: 302ms\tremaining: 5m 1s\n",
      "100:\ttest: 0.8626380\ttest1: 0.8568925\tbest: 0.8568925 (100)\ttotal: 26.1s\tremaining: 3m 52s\n",
      "200:\ttest: 0.8851982\ttest1: 0.8778457\tbest: 0.8778457 (200)\ttotal: 52s\tremaining: 3m 26s\n",
      "300:\ttest: 0.8968462\ttest1: 0.8875002\tbest: 0.8875002 (300)\ttotal: 1m 18s\tremaining: 3m 1s\n",
      "400:\ttest: 0.9003293\ttest1: 0.8903009\tbest: 0.8903009 (400)\ttotal: 1m 44s\tremaining: 2m 35s\n",
      "500:\ttest: 0.9030912\ttest1: 0.8922876\tbest: 0.8922876 (500)\ttotal: 2m 9s\tremaining: 2m 8s\n",
      "600:\ttest: 0.9062248\ttest1: 0.8946995\tbest: 0.8947030 (599)\ttotal: 2m 34s\tremaining: 1m 42s\n",
      "700:\ttest: 0.9078557\ttest1: 0.8959960\tbest: 0.8960067 (666)\ttotal: 3m\tremaining: 1m 16s\n",
      "800:\ttest: 0.9079064\ttest1: 0.8960219\tbest: 0.8960221 (797)\ttotal: 3m 26s\tremaining: 51.2s\n",
      "900:\ttest: 0.9081127\ttest1: 0.8962543\tbest: 0.8962553 (854)\ttotal: 3m 51s\tremaining: 25.4s\n",
      "999:\ttest: 0.9086295\ttest1: 0.8967270\tbest: 0.8967292 (965)\ttotal: 4m 16s\tremaining: 0us\n",
      "\n",
      "bestTest = 0.8967291635\n",
      "bestIteration = 965\n",
      "\n",
      "Shrink model to first 966 iterations.\n"
     ]
    },
    {
     "data": {
      "text/plain": [
       "<catboost.core.CatBoostClassifier at 0x1cbd6cbb888>"
      ]
     },
     "execution_count": 34,
     "metadata": {},
     "output_type": "execute_result"
    }
   ],
   "source": [
    "cb_params = {\n",
    "#     \"n_estimators\": 3000,\n",
    "    \"loss_function\": \"Logloss\",\n",
    "    \"eval_metric\": \"AUC\",\n",
    "    \"task_type\": \"CPU\",\n",
    "    \"max_bin\": 20,\n",
    "    \"verbose\": 100,\n",
    "    \"max_depth\": 6,\n",
    "    \"l2_leaf_reg\": 100,\n",
    "    \"early_stopping_rounds\": 100,\n",
    "    \"thread_count\": 6,\n",
    "    \"random_seed\": 42,\n",
    "    \"cat_features\":categorical_features\n",
    "}\n",
    "model = cb.CatBoostClassifier(**cb_params)\n",
    "model.fit(x_train, y_train, eval_set=[(x_train, y_train), (x_valid, y_valid)])"
   ]
  },
  {
   "cell_type": "code",
   "execution_count": 17,
   "metadata": {},
   "outputs": [
    {
     "name": "stdout",
     "output_type": "stream",
     "text": [
      "0:\ttest: 0.6645044\ttest1: 0.6640967\tbest: 0.6640967 (0)\ttotal: 287ms\tremaining: 2m 22s\n",
      "100:\ttest: 0.8626380\ttest1: 0.8568925\tbest: 0.8568925 (100)\ttotal: 26.6s\tremaining: 1m 45s\n",
      "200:\ttest: 0.8851982\ttest1: 0.8778457\tbest: 0.8778457 (200)\ttotal: 53.2s\tremaining: 1m 19s\n",
      "300:\ttest: 0.8968462\ttest1: 0.8875002\tbest: 0.8875002 (300)\ttotal: 1m 20s\tremaining: 53.1s\n",
      "400:\ttest: 0.9003293\ttest1: 0.8903009\tbest: 0.8903009 (400)\ttotal: 1m 46s\tremaining: 26.3s\n",
      "499:\ttest: 0.9029770\ttest1: 0.8921661\tbest: 0.8921661 (499)\ttotal: 2m 11s\tremaining: 0us\n",
      "\n",
      "bestTest = 0.8921660995\n",
      "bestIteration = 499\n",
      "\n"
     ]
    },
    {
     "data": {
      "text/plain": [
       "<catboost.core.CatBoostClassifier at 0x1cbd4eb5f88>"
      ]
     },
     "execution_count": 17,
     "metadata": {},
     "output_type": "execute_result"
    }
   ],
   "source": [
    "cb_params = {\n",
    "    \"n_estimators\": 500,\n",
    "    \"loss_function\": \"Logloss\",\n",
    "    \"eval_metric\": \"AUC\",\n",
    "    \"task_type\": \"CPU\",\n",
    "    \"max_bin\": 20,\n",
    "    \"verbose\": 100,\n",
    "    \"max_depth\": 6,\n",
    "    \"l2_leaf_reg\": 100,\n",
    "    \"early_stopping_rounds\": 100,\n",
    "    \"thread_count\": 6,\n",
    "    \"random_seed\": 42,\n",
    "    \"cat_features\":categorical_features\n",
    "}\n",
    "model = cb.CatBoostClassifier(**cb_params)\n",
    "model.fit(x_train, y_train, eval_set=[(x_train, y_train), (x_valid, y_valid)])"
   ]
  },
  {
   "cell_type": "markdown",
   "metadata": {},
   "source": [
    "**Задание 1:** признак TransactionDT - это смещение в секундах относительно базовой даты. Базовая дата - 2017-12-01, преобразовать признак TransactionDT в datetime, прибавив к базовой дате исходное значение признака. Из полученного признака выделить год, месяц, день недели, час, день."
   ]
  },
  {
   "cell_type": "code",
   "execution_count": null,
   "metadata": {},
   "outputs": [],
   "source": []
  },
  {
   "cell_type": "code",
   "execution_count": 63,
   "metadata": {},
   "outputs": [
    {
     "name": "stdout",
     "output_type": "stream",
     "text": [
      "1512075600\n"
     ]
    }
   ],
   "source": [
    "base_date = int(datetime(2017, 12, 1).timestamp())\n",
    "print(base_date)"
   ]
  },
  {
   "cell_type": "code",
   "execution_count": 72,
   "metadata": {},
   "outputs": [],
   "source": [
    "def change_date(df, feature):\n",
    "    df[feature] = pd.to_datetime(df[feature] + base_date)\n",
    "    df['Year'] = df[feature].dt.year\n",
    "    df['Month'] = df[feature].dt.month\n",
    "    df['Day_of_week'] = df[feature].dt.weekday\n",
    "    df['Hour'] = df[feature].dt.hour\n",
    "    df['Day'] = df[feature].dt.day\n",
    "    df.drop([feature], axis=1, inplace=True)\n",
    "    return df"
   ]
  },
  {
   "cell_type": "code",
   "execution_count": 73,
   "metadata": {},
   "outputs": [],
   "source": [
    "x_train = change_date(x_train, \"TransactionDT\")\n",
    "x_valid = change_date(x_valid, \"TransactionDT\")"
   ]
  },
  {
   "cell_type": "code",
   "execution_count": 74,
   "metadata": {},
   "outputs": [],
   "source": [
    "train_pool = cb.Pool(x_train, y_train, cat_features=categorical_features)\n",
    "valid_pool = cb.Pool(x_valid, y_valid, cat_features=categorical_features)"
   ]
  },
  {
   "cell_type": "code",
   "execution_count": 75,
   "metadata": {},
   "outputs": [
    {
     "name": "stdout",
     "output_type": "stream",
     "text": [
      "0:\ttest: 0.6229201\ttest1: 0.6242434\tbest: 0.6242434 (0)\ttotal: 298ms\tremaining: 4m 57s\n",
      "100:\ttest: 0.8641673\ttest1: 0.8583656\tbest: 0.8583656 (100)\ttotal: 26.7s\tremaining: 3m 57s\n",
      "200:\ttest: 0.8781339\ttest1: 0.8717821\tbest: 0.8717821 (200)\ttotal: 52.6s\tremaining: 3m 28s\n",
      "300:\ttest: 0.8902962\ttest1: 0.8816370\tbest: 0.8816370 (300)\ttotal: 1m 19s\tremaining: 3m 4s\n",
      "400:\ttest: 0.8938344\ttest1: 0.8845752\tbest: 0.8845752 (400)\ttotal: 1m 45s\tremaining: 2m 37s\n",
      "500:\ttest: 0.8961948\ttest1: 0.8863814\tbest: 0.8863872 (497)\ttotal: 2m 10s\tremaining: 2m 10s\n",
      "600:\ttest: 0.8985396\ttest1: 0.8877131\tbest: 0.8877131 (600)\ttotal: 2m 36s\tremaining: 1m 43s\n",
      "700:\ttest: 0.9007850\ttest1: 0.8891580\tbest: 0.8891580 (700)\ttotal: 3m 2s\tremaining: 1m 17s\n",
      "800:\ttest: 0.9008832\ttest1: 0.8892245\tbest: 0.8892254 (791)\ttotal: 3m 28s\tremaining: 51.7s\n",
      "900:\ttest: 0.9009137\ttest1: 0.8892476\tbest: 0.8892492 (890)\ttotal: 3m 52s\tremaining: 25.6s\n",
      "999:\ttest: 0.9009508\ttest1: 0.8892921\tbest: 0.8892922 (994)\ttotal: 4m 16s\tremaining: 0us\n",
      "\n",
      "bestTest = 0.8892921724\n",
      "bestIteration = 994\n",
      "\n",
      "Shrink model to first 995 iterations.\n"
     ]
    },
    {
     "data": {
      "text/plain": [
       "<catboost.core.CatBoostClassifier at 0x1cbd6b3cf88>"
      ]
     },
     "execution_count": 75,
     "metadata": {},
     "output_type": "execute_result"
    }
   ],
   "source": [
    "cb_params = {\n",
    "#     \"n_estimators\": 3000,\n",
    "    \"loss_function\": \"Logloss\",\n",
    "    \"eval_metric\": \"AUC\",\n",
    "    \"task_type\": \"CPU\",\n",
    "    \"max_bin\": 20,\n",
    "    \"verbose\": 100,\n",
    "    \"max_depth\": 6,\n",
    "    \"l2_leaf_reg\": 100,\n",
    "    \"early_stopping_rounds\": 100,\n",
    "    \"thread_count\": 6,\n",
    "    \"random_seed\": 42,\n",
    "    \"cat_features\":categorical_features\n",
    "}\n",
    "model = cb.CatBoostClassifier(**cb_params)\n",
    "model.fit(x_train, y_train, eval_set=[(x_train, y_train), (x_valid, y_valid)])"
   ]
  },
  {
   "cell_type": "code",
   "execution_count": null,
   "metadata": {},
   "outputs": [],
   "source": []
  }
 ],
 "metadata": {
  "kernelspec": {
   "display_name": "Python 3",
   "language": "python",
   "name": "python3"
  },
  "language_info": {
   "codemirror_mode": {
    "name": "ipython",
    "version": 3
   },
   "file_extension": ".py",
   "mimetype": "text/x-python",
   "name": "python",
   "nbconvert_exporter": "python",
   "pygments_lexer": "ipython3",
   "version": "3.7.6"
  }
 },
 "nbformat": 4,
 "nbformat_minor": 4
}
